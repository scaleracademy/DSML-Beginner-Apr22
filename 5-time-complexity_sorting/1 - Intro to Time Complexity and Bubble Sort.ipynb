{
 "cells": [
  {
   "cell_type": "code",
   "execution_count": 12,
   "id": "1d4891a9",
   "metadata": {},
   "outputs": [],
   "source": [
    "a = [1,2,3,4,5]\n",
    "\n",
    "def square_list_elements(a):\n",
    "    b = []\n",
    "    for i in a:\n",
    "        b.append(i**2)\n",
    "        \n",
    "    return b"
   ]
  },
  {
   "cell_type": "code",
   "execution_count": 13,
   "id": "69629887",
   "metadata": {},
   "outputs": [],
   "source": [
    "b = square_list_elements(a)"
   ]
  },
  {
   "cell_type": "code",
   "execution_count": 14,
   "id": "6739041a",
   "metadata": {},
   "outputs": [
    {
     "data": {
      "text/plain": [
       "[1, 4, 9, 16, 25]"
      ]
     },
     "execution_count": 14,
     "metadata": {},
     "output_type": "execute_result"
    }
   ],
   "source": [
    "b"
   ]
  },
  {
   "cell_type": "code",
   "execution_count": 15,
   "id": "9f366fc2",
   "metadata": {},
   "outputs": [],
   "source": [
    "def foo():\n",
    "    x = 1 # Operation 1\n",
    "    y = 2 # Operation 2\n",
    "    z = 3 # Operation 3"
   ]
  },
  {
   "cell_type": "code",
   "execution_count": 16,
   "id": "9cd27617",
   "metadata": {},
   "outputs": [],
   "source": [
    "# T() -> 3"
   ]
  },
  {
   "cell_type": "code",
   "execution_count": 17,
   "id": "39f53ad9",
   "metadata": {},
   "outputs": [],
   "source": [
    "def foo(num):\n",
    "    x = 1 # Operation 1\n",
    "    y = 2 # Operation 2\n",
    "    z = 3 # Operation 3"
   ]
  },
  {
   "cell_type": "code",
   "execution_count": 18,
   "id": "3d4c6845",
   "metadata": {},
   "outputs": [],
   "source": [
    "foo(5)\n",
    "foo(10)\n",
    "foo(20)"
   ]
  },
  {
   "cell_type": "code",
   "execution_count": 19,
   "id": "b9565852",
   "metadata": {},
   "outputs": [],
   "source": [
    "# T(foo(num)) -> constant"
   ]
  },
  {
   "cell_type": "code",
   "execution_count": 20,
   "id": "c3730874",
   "metadata": {},
   "outputs": [],
   "source": [
    "def foo(n):\n",
    "    for x in range(n):\n",
    "        print(x) # n operations"
   ]
  },
  {
   "cell_type": "code",
   "execution_count": 23,
   "id": "a02d4cd4",
   "metadata": {},
   "outputs": [
    {
     "name": "stdout",
     "output_type": "stream",
     "text": [
      "0\n",
      "1\n",
      "2\n",
      "3\n",
      "4\n",
      "0\n",
      "1\n",
      "2\n",
      "3\n",
      "4\n",
      "5\n",
      "6\n",
      "7\n",
      "8\n",
      "9\n"
     ]
    }
   ],
   "source": [
    "foo(5) # 5 Operations\n",
    "foo(10) # 10 Operations\n",
    "# foo(5000) # 5000 Operations"
   ]
  },
  {
   "cell_type": "code",
   "execution_count": 25,
   "id": "c4c9b357",
   "metadata": {},
   "outputs": [
    {
     "data": {
      "text/plain": [
       "'\\nWhenever we are calculating time complexity with respect to an independent variable,\\nwe ignore all the other independent variables / those variables are considered constant!\\n'"
      ]
     },
     "execution_count": 25,
     "metadata": {},
     "output_type": "execute_result"
    }
   ],
   "source": [
    "def foo(n, m):\n",
    "    for i in range(n):\n",
    "        for j in range(m):\n",
    "            print(i+j)\n",
    "            \n",
    "'''\n",
    "Whenever we are calculating time complexity with respect to an independent variable,\n",
    "we ignore all the other independent variables / those variables are considered constant!\n",
    "'''"
   ]
  },
  {
   "cell_type": "code",
   "execution_count": 26,
   "id": "08de9d22",
   "metadata": {},
   "outputs": [],
   "source": [
    "def foo(n):\n",
    "    a = 5\n",
    "    b = 4\n",
    "    \n",
    "    for x in range(n):\n",
    "        print(x)"
   ]
  },
  {
   "cell_type": "code",
   "execution_count": 27,
   "id": "1d75086e",
   "metadata": {},
   "outputs": [],
   "source": [
    "def foo(n):\n",
    "    for i in range(n):\n",
    "        print(i) # n operations\n",
    "    \n",
    "    for i in range(n):\n",
    "        for j in range(n): # n operations\n",
    "            print(i+j) # n^2 operations"
   ]
  },
  {
   "cell_type": "code",
   "execution_count": 28,
   "id": "0815f676",
   "metadata": {},
   "outputs": [],
   "source": [
    "# foo(5) -> 30 times"
   ]
  },
  {
   "cell_type": "code",
   "execution_count": 30,
   "id": "c38dc43c",
   "metadata": {},
   "outputs": [],
   "source": [
    "# f(x) = x^2 + 2x + c\n",
    "# O(f(x)) -> O(n^2)"
   ]
  },
  {
   "cell_type": "code",
   "execution_count": 33,
   "id": "e3fbaca6",
   "metadata": {},
   "outputs": [],
   "source": [
    "def foo(n,m):\n",
    "    for i in range(n):\n",
    "        print(i)\n",
    "        \n",
    "    print(m) # O(1)"
   ]
  },
  {
   "cell_type": "code",
   "execution_count": 34,
   "id": "c64bd1cf",
   "metadata": {},
   "outputs": [],
   "source": [
    "def foo(n):\n",
    "    for i in range(n):\n",
    "        for j in range(n):\n",
    "            print(i+j)"
   ]
  },
  {
   "cell_type": "code",
   "execution_count": 35,
   "id": "b1aff7be",
   "metadata": {},
   "outputs": [],
   "source": [
    "# Omega is also n^2"
   ]
  },
  {
   "cell_type": "markdown",
   "id": "4830e6bd",
   "metadata": {},
   "source": [
    "# Sorting"
   ]
  },
  {
   "cell_type": "code",
   "execution_count": 36,
   "id": "e9f6f27d",
   "metadata": {},
   "outputs": [],
   "source": [
    "a = [5,1,2,4,7,3]"
   ]
  },
  {
   "cell_type": "code",
   "execution_count": 43,
   "id": "674602ea",
   "metadata": {},
   "outputs": [],
   "source": [
    "def bubble_sort(a): \n",
    "    for i in range(len(a)):\n",
    "        for j in range(i, len(a)-1):\n",
    "            if a[j] > a[j+1]:\n",
    "                a[j], a[j+1] = a[j+1], a[j]\n",
    "                \n",
    "    return a"
   ]
  },
  {
   "cell_type": "code",
   "execution_count": 44,
   "id": "bfef418f",
   "metadata": {},
   "outputs": [],
   "source": [
    "a = bubble_sort(a)"
   ]
  },
  {
   "cell_type": "code",
   "execution_count": 45,
   "id": "66b7b3f4",
   "metadata": {},
   "outputs": [
    {
     "data": {
      "text/plain": [
       "[1, 2, 3, 4, 5, 7]"
      ]
     },
     "execution_count": 45,
     "metadata": {},
     "output_type": "execute_result"
    }
   ],
   "source": [
    "a"
   ]
  },
  {
   "cell_type": "code",
   "execution_count": 46,
   "id": "82c5cfda",
   "metadata": {},
   "outputs": [],
   "source": [
    "# O(bubble_sort(n)) -> O(n^2)"
   ]
  },
  {
   "cell_type": "code",
   "execution_count": 48,
   "id": "1738ba8d",
   "metadata": {},
   "outputs": [],
   "source": [
    "# Omega(bubble_sort(n)) -> Omega(n^2)"
   ]
  },
  {
   "cell_type": "code",
   "execution_count": 54,
   "id": "3b6d0236",
   "metadata": {},
   "outputs": [],
   "source": [
    "def optimised_bubble_sort(a):\n",
    "    for i in range(len(a)):\n",
    "        is_sorted = True\n",
    "        for j in range(i, len(a)-1):\n",
    "            if a[j] > a[j+1]:\n",
    "                a[j], a[j+1] = a[j+1], a[j]\n",
    "                is_sorted = False\n",
    "        \n",
    "        if is_sorted:\n",
    "            break\n",
    "                \n",
    "    return a\n",
    "\n",
    "# O(bubble_sort(n)) -> O(n^2)\n",
    "# Omega(bubble_sort(n)) -> Omega(n)"
   ]
  },
  {
   "cell_type": "code",
   "execution_count": 51,
   "id": "cb3a71a3",
   "metadata": {},
   "outputs": [],
   "source": [
    "a = [5,1,2,4,7,3]"
   ]
  },
  {
   "cell_type": "code",
   "execution_count": 52,
   "id": "de72679c",
   "metadata": {},
   "outputs": [],
   "source": [
    "a = optimised_bubble_sort(a)"
   ]
  },
  {
   "cell_type": "code",
   "execution_count": 53,
   "id": "512462bf",
   "metadata": {},
   "outputs": [
    {
     "data": {
      "text/plain": [
       "[1, 2, 3, 4, 5, 7]"
      ]
     },
     "execution_count": 53,
     "metadata": {},
     "output_type": "execute_result"
    }
   ],
   "source": [
    "a"
   ]
  },
  {
   "cell_type": "code",
   "execution_count": null,
   "id": "7b3c125e",
   "metadata": {},
   "outputs": [],
   "source": []
  }
 ],
 "metadata": {
  "kernelspec": {
   "display_name": "Python 3 (ipykernel)",
   "language": "python",
   "name": "python3"
  },
  "language_info": {
   "codemirror_mode": {
    "name": "ipython",
    "version": 3
   },
   "file_extension": ".py",
   "mimetype": "text/x-python",
   "name": "python",
   "nbconvert_exporter": "python",
   "pygments_lexer": "ipython3",
   "version": "3.9.5"
  }
 },
 "nbformat": 4,
 "nbformat_minor": 5
}
