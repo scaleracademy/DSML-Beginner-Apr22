{
 "cells": [
  {
   "cell_type": "markdown",
   "id": "90407744",
   "metadata": {},
   "source": [
    "## Seletion Sort"
   ]
  },
  {
   "cell_type": "code",
   "execution_count": 9,
   "id": "f2fc720f",
   "metadata": {},
   "outputs": [],
   "source": [
    "a = [2,8,5,3,9,4,1]\n",
    "\n",
    "def selection_sort(a):\n",
    "    for i in range(len(a)-1): # n - 1\n",
    "        min_index = i\n",
    "        \n",
    "        for j in range(i+1, len(a)): # (n-1) + (n-2) + (n-3) + ... + (n-n) -> n(n-1)/2\n",
    "            if a[min_index] > a[j]:\n",
    "                min_index = j\n",
    "                \n",
    "        if min_index != i:\n",
    "            a[i], a[min_index] = a[min_index], a[i]\n",
    "            \n",
    "    return a"
   ]
  },
  {
   "cell_type": "code",
   "execution_count": 7,
   "id": "b16d12ac",
   "metadata": {},
   "outputs": [
    {
     "data": {
      "text/plain": [
       "[1, 2, 3, 4, 5, 8, 9]"
      ]
     },
     "execution_count": 7,
     "metadata": {},
     "output_type": "execute_result"
    }
   ],
   "source": [
    "selection_sort(a)"
   ]
  },
  {
   "cell_type": "markdown",
   "id": "bcecea45",
   "metadata": {},
   "source": [
    "## Insertion Sort"
   ]
  },
  {
   "cell_type": "code",
   "execution_count": 11,
   "id": "1c439049",
   "metadata": {},
   "outputs": [],
   "source": [
    "a = [2,8,5,3,9,4,1]\n",
    "\n",
    "def insertion_sort(a):\n",
    "    for i in range(1, len(a)): # n-1\n",
    "        index_to_insert = i\n",
    "        \n",
    "        j = i-1\n",
    "        \n",
    "        while j >= 0: # n(n-1)/2\n",
    "            if a[j] < a[index_to_insert]:\n",
    "                break\n",
    "                \n",
    "            a[j], a[index_to_insert] = a[index_to_insert], a[j]\n",
    "            index_to_insert = j\n",
    "            j -= 1\n",
    "            \n",
    "    return a"
   ]
  },
  {
   "cell_type": "code",
   "execution_count": 12,
   "id": "9c3de42a",
   "metadata": {},
   "outputs": [
    {
     "data": {
      "text/plain": [
       "[1, 2, 3, 4, 5, 8, 9]"
      ]
     },
     "execution_count": 12,
     "metadata": {},
     "output_type": "execute_result"
    }
   ],
   "source": [
    "insertion_sort(a)"
   ]
  },
  {
   "cell_type": "code",
   "execution_count": null,
   "id": "2d761a56",
   "metadata": {},
   "outputs": [],
   "source": []
  }
 ],
 "metadata": {
  "kernelspec": {
   "display_name": "Python 3 (ipykernel)",
   "language": "python",
   "name": "python3"
  },
  "language_info": {
   "codemirror_mode": {
    "name": "ipython",
    "version": 3
   },
   "file_extension": ".py",
   "mimetype": "text/x-python",
   "name": "python",
   "nbconvert_exporter": "python",
   "pygments_lexer": "ipython3",
   "version": "3.9.5"
  }
 },
 "nbformat": 4,
 "nbformat_minor": 5
}
