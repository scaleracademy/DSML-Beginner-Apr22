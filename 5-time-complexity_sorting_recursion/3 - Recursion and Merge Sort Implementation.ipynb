{
 "cells": [
  {
   "cell_type": "code",
   "execution_count": 1,
   "id": "f5d8243f",
   "metadata": {},
   "outputs": [],
   "source": [
    "def factorial(n):\n",
    "    if n < 0:\n",
    "        raise Exception(\"Factorial not defined for negative numbers!\")\n",
    "        \n",
    "    if n == 0:\n",
    "        return 1\n",
    "    \n",
    "    ret = factorial(n-1) # n-1\n",
    "    \n",
    "    return ret * n # 1"
   ]
  },
  {
   "cell_type": "code",
   "execution_count": 3,
   "id": "8eaf161b",
   "metadata": {},
   "outputs": [
    {
     "data": {
      "text/plain": [
       "2"
      ]
     },
     "execution_count": 3,
     "metadata": {},
     "output_type": "execute_result"
    }
   ],
   "source": [
    "factorial(0)\n",
    "factorial(1)\n",
    "factorial(2)"
   ]
  },
  {
   "cell_type": "markdown",
   "id": "f36258fc",
   "metadata": {},
   "source": [
    "## Merge Sort"
   ]
  },
  {
   "cell_type": "code",
   "execution_count": 28,
   "id": "d28c23ff",
   "metadata": {},
   "outputs": [],
   "source": [
    "a = [4,1,2,5,1,3,7,8,6,5]\n",
    "\n",
    "# Merge sort with key\n",
    "def merge_sort(a, key = lambda x: x):\n",
    "    if len(a) <= 1:\n",
    "        return a\n",
    "    \n",
    "    n = len(a)\n",
    "    \n",
    "    left = merge_sort(a[:n//2], key = key)\n",
    "    right = merge_sort(a[n//2:], key = key)\n",
    "    \n",
    "    i, j = 0, 0\n",
    "    result = []\n",
    "    \n",
    "    while i < len(left) and j < len(right):\n",
    "        if key(left[i]) < key(right[j]):\n",
    "            result.append(left[i])\n",
    "            i += 1\n",
    "        else:\n",
    "            result.append(right[j])\n",
    "            j += 1\n",
    "            \n",
    "    if i < len(left):\n",
    "        result += left[i:]\n",
    "    elif j < len(right):\n",
    "        result += right[j:]\n",
    "        \n",
    "    return result"
   ]
  },
  {
   "cell_type": "code",
   "execution_count": 29,
   "id": "83d23878",
   "metadata": {},
   "outputs": [],
   "source": [
    "def merge_sort_keyless(a):\n",
    "    if len(a) <= 1:\n",
    "        return a\n",
    "    \n",
    "    n = len(a)\n",
    "    \n",
    "    left = merge_sort(a[:n//2])\n",
    "    right = merge_sort(a[n//2:])\n",
    "    \n",
    "    i, j = 0, 0\n",
    "    result = []\n",
    "    \n",
    "    while i < len(left) and j < len(right):\n",
    "        if left[i] < right[j]:\n",
    "            result.append(left[i])\n",
    "            i += 1\n",
    "        else:\n",
    "            result.append(right[j])\n",
    "            j += 1\n",
    "            \n",
    "    if i < len(left):\n",
    "        result += left[i:]\n",
    "    elif j < len(right):\n",
    "        result += right[j:]\n",
    "        \n",
    "    return result"
   ]
  },
  {
   "cell_type": "code",
   "execution_count": 30,
   "id": "1028e412",
   "metadata": {},
   "outputs": [
    {
     "data": {
      "text/plain": [
       "[1, 1, 2, 3, 4, 5, 5, 6, 7, 8]"
      ]
     },
     "execution_count": 30,
     "metadata": {},
     "output_type": "execute_result"
    }
   ],
   "source": [
    "merge_sort(a)"
   ]
  },
  {
   "cell_type": "code",
   "execution_count": 31,
   "id": "276704bd",
   "metadata": {},
   "outputs": [],
   "source": [
    "a = [\n",
    "    {\"name\": \"A\", \"marks\": 30 },\n",
    "    {\"name\": \"B\", \"marks\": 90 },\n",
    "    {\"name\": \"C\", \"marks\": 90 },\n",
    "    {\"name\": \"D\", \"marks\": 70 },\n",
    "    {\"name\": \"E\", \"marks\": 40 },\n",
    "]"
   ]
  },
  {
   "cell_type": "code",
   "execution_count": 32,
   "id": "4cc866e0",
   "metadata": {},
   "outputs": [
    {
     "data": {
      "text/plain": [
       "[{'name': 'A', 'marks': 30},\n",
       " {'name': 'E', 'marks': 40},\n",
       " {'name': 'D', 'marks': 70},\n",
       " {'name': 'C', 'marks': 90},\n",
       " {'name': 'B', 'marks': 90}]"
      ]
     },
     "execution_count": 32,
     "metadata": {},
     "output_type": "execute_result"
    }
   ],
   "source": [
    "merge_sort(a, key = lambda x: x[\"marks\"])"
   ]
  },
  {
   "cell_type": "code",
   "execution_count": 23,
   "id": "d6a04b53",
   "metadata": {},
   "outputs": [],
   "source": [
    "key = lambda x: x"
   ]
  },
  {
   "cell_type": "code",
   "execution_count": 24,
   "id": "3c472e9a",
   "metadata": {},
   "outputs": [
    {
     "data": {
      "text/plain": [
       "<function __main__.<lambda>(x)>"
      ]
     },
     "execution_count": 24,
     "metadata": {},
     "output_type": "execute_result"
    }
   ],
   "source": [
    "key"
   ]
  },
  {
   "cell_type": "code",
   "execution_count": null,
   "id": "f2e68498",
   "metadata": {},
   "outputs": [],
   "source": []
  }
 ],
 "metadata": {
  "kernelspec": {
   "display_name": "Python 3 (ipykernel)",
   "language": "python",
   "name": "python3"
  },
  "language_info": {
   "codemirror_mode": {
    "name": "ipython",
    "version": 3
   },
   "file_extension": ".py",
   "mimetype": "text/x-python",
   "name": "python",
   "nbconvert_exporter": "python",
   "pygments_lexer": "ipython3",
   "version": "3.9.5"
  }
 },
 "nbformat": 4,
 "nbformat_minor": 5
}
