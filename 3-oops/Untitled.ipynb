{
 "cells": [
  {
   "cell_type": "code",
   "execution_count": 36,
   "id": "bc72089e",
   "metadata": {},
   "outputs": [],
   "source": [
    "class SchoolMember:\n",
    "    def __init__(self, name):\n",
    "        self.name = name\n",
    "        \n",
    "    def sayhello(self):\n",
    "        print(f\"My name is {self.name}\")\n",
    "        \n",
    "    def __str__(self):\n",
    "        return f\"{self.name}!!!\"\n",
    "#     name\n",
    "    \n",
    "class Student(SchoolMember):\n",
    "    def __init__(self, name, grade, roll_number):\n",
    "        super().__init__(name)\n",
    "        self.grade = grade\n",
    "        self.roll_number = roll_number\n",
    "#     name, grade, roll_number\n",
    "\n",
    "class Staff(SchoolMember):\n",
    "    def __init__(self, name, salary):\n",
    "        super().__init__(name)\n",
    "        self.salary = salary\n",
    "#     name, salary\n",
    "\n",
    "class Teacher(Staff):\n",
    "    def __init__(self, name, salary, subject):\n",
    "        super().__init__(name, salary)\n",
    "        self.subject = subject\n",
    "        \n",
    "    def sayhello(self):\n",
    "        print(\"I wont tell you my name! Burger Off!\")\n",
    "        \n",
    "    def __str__(self):\n",
    "        return f\"I make {self.salary}! In your FACE!\"\n",
    "#     name, salary, subject"
   ]
  },
  {
   "cell_type": "code",
   "execution_count": 37,
   "id": "101ac691",
   "metadata": {},
   "outputs": [],
   "source": [
    "t1 = Teacher(\"Bipin Kalra\", 10, \"Python\")"
   ]
  },
  {
   "cell_type": "code",
   "execution_count": 38,
   "id": "d205fd88",
   "metadata": {},
   "outputs": [
    {
     "data": {
      "text/plain": [
       "<__main__.Teacher at 0x7f81081a60d0>"
      ]
     },
     "execution_count": 38,
     "metadata": {},
     "output_type": "execute_result"
    }
   ],
   "source": [
    "t1"
   ]
  },
  {
   "cell_type": "code",
   "execution_count": 39,
   "id": "7989b248",
   "metadata": {},
   "outputs": [
    {
     "data": {
      "text/plain": [
       "'Bipin Kalra'"
      ]
     },
     "execution_count": 39,
     "metadata": {},
     "output_type": "execute_result"
    }
   ],
   "source": [
    "t1.name"
   ]
  },
  {
   "cell_type": "code",
   "execution_count": 40,
   "id": "df789398",
   "metadata": {},
   "outputs": [
    {
     "name": "stdout",
     "output_type": "stream",
     "text": [
      "I wont tell you my name! Burger Off!\n"
     ]
    }
   ],
   "source": [
    "t1.sayhello()"
   ]
  },
  {
   "cell_type": "code",
   "execution_count": 41,
   "id": "a4ccbd23",
   "metadata": {},
   "outputs": [
    {
     "name": "stdout",
     "output_type": "stream",
     "text": [
      "I make 10! In your FACE!\n"
     ]
    }
   ],
   "source": [
    "print(t1)"
   ]
  },
  {
   "cell_type": "code",
   "execution_count": 121,
   "id": "01f5320c",
   "metadata": {},
   "outputs": [],
   "source": [
    "class BankAccount:\n",
    "    def __init__(self, startingBalance):\n",
    "        self.__balance = startingBalance\n",
    "        # use double underscore to define a private variable\n",
    "    \n",
    "    def __onlycallmeinside(self):\n",
    "        pass\n",
    "    \n",
    "    def deposit(self, amount):\n",
    "        self.__balance += amount\n",
    "        \n",
    "    def withdraw(self, amount):\n",
    "        self.__onlycallmeinside()\n",
    "        self.__balance -= amount\n",
    "        \n",
    "    def showbalance(self):\n",
    "        print(self.__balance)"
   ]
  },
  {
   "cell_type": "code",
   "execution_count": 122,
   "id": "d9216fab",
   "metadata": {},
   "outputs": [],
   "source": [
    "b1 = BankAccount(10000)"
   ]
  },
  {
   "cell_type": "code",
   "execution_count": 125,
   "id": "3b11b91a",
   "metadata": {},
   "outputs": [
    {
     "ename": "AttributeError",
     "evalue": "'BankAccount' object has no attribute '__onlycallmeinside'",
     "output_type": "error",
     "traceback": [
      "\u001b[0;31m---------------------------------------------------------------------------\u001b[0m",
      "\u001b[0;31mAttributeError\u001b[0m                            Traceback (most recent call last)",
      "\u001b[0;32m/var/folders/nn/c52y0d3j0gq59dpsswchkt2r0000gn/T/ipykernel_54778/340041557.py\u001b[0m in \u001b[0;36m<module>\u001b[0;34m\u001b[0m\n\u001b[0;32m----> 1\u001b[0;31m \u001b[0mb1\u001b[0m\u001b[0;34m.\u001b[0m\u001b[0m__onlycallmeinside\u001b[0m\u001b[0;34m(\u001b[0m\u001b[0;34m)\u001b[0m\u001b[0;34m\u001b[0m\u001b[0;34m\u001b[0m\u001b[0m\n\u001b[0m",
      "\u001b[0;31mAttributeError\u001b[0m: 'BankAccount' object has no attribute '__onlycallmeinside'"
     ]
    }
   ],
   "source": [
    "b1.__onlycallmeinside()"
   ]
  },
  {
   "cell_type": "code",
   "execution_count": 124,
   "id": "45eb18a7",
   "metadata": {},
   "outputs": [],
   "source": [
    "b1.withdraw(50)"
   ]
  },
  {
   "cell_type": "code",
   "execution_count": 104,
   "id": "750d367f",
   "metadata": {},
   "outputs": [
    {
     "ename": "AttributeError",
     "evalue": "'BankAccount' object has no attribute '__balance'",
     "output_type": "error",
     "traceback": [
      "\u001b[0;31m---------------------------------------------------------------------------\u001b[0m",
      "\u001b[0;31mAttributeError\u001b[0m                            Traceback (most recent call last)",
      "\u001b[0;32m/var/folders/nn/c52y0d3j0gq59dpsswchkt2r0000gn/T/ipykernel_54778/2775405839.py\u001b[0m in \u001b[0;36m<module>\u001b[0;34m\u001b[0m\n\u001b[0;32m----> 1\u001b[0;31m \u001b[0mb1\u001b[0m\u001b[0;34m.\u001b[0m\u001b[0m__balance\u001b[0m\u001b[0;34m\u001b[0m\u001b[0;34m\u001b[0m\u001b[0m\n\u001b[0m",
      "\u001b[0;31mAttributeError\u001b[0m: 'BankAccount' object has no attribute '__balance'"
     ]
    }
   ],
   "source": [
    "b1.__balance"
   ]
  },
  {
   "cell_type": "code",
   "execution_count": 105,
   "id": "00ade7ed",
   "metadata": {},
   "outputs": [],
   "source": [
    "b1.__balance = 50"
   ]
  },
  {
   "cell_type": "code",
   "execution_count": 106,
   "id": "d863de56",
   "metadata": {},
   "outputs": [
    {
     "data": {
      "text/plain": [
       "50"
      ]
     },
     "execution_count": 106,
     "metadata": {},
     "output_type": "execute_result"
    }
   ],
   "source": [
    "b1.__balance"
   ]
  },
  {
   "cell_type": "code",
   "execution_count": 107,
   "id": "27b47c9b",
   "metadata": {},
   "outputs": [
    {
     "name": "stdout",
     "output_type": "stream",
     "text": [
      "10000\n"
     ]
    }
   ],
   "source": [
    "b1.showbalance()"
   ]
  },
  {
   "cell_type": "code",
   "execution_count": 108,
   "id": "04082a2b",
   "metadata": {},
   "outputs": [],
   "source": [
    "b1.deposit(50)"
   ]
  },
  {
   "cell_type": "code",
   "execution_count": 109,
   "id": "547d9181",
   "metadata": {},
   "outputs": [
    {
     "name": "stdout",
     "output_type": "stream",
     "text": [
      "10050\n"
     ]
    }
   ],
   "source": [
    "b1.showbalance()"
   ]
  },
  {
   "cell_type": "code",
   "execution_count": null,
   "id": "2a5dcd68",
   "metadata": {},
   "outputs": [],
   "source": [
    "input"
   ]
  },
  {
   "cell_type": "code",
   "execution_count": null,
   "id": "094fd319",
   "metadata": {},
   "outputs": [],
   "source": []
  },
  {
   "cell_type": "code",
   "execution_count": 96,
   "id": "1937adb9",
   "metadata": {},
   "outputs": [],
   "source": [
    "b1.random_attribute = 100"
   ]
  },
  {
   "cell_type": "code",
   "execution_count": 97,
   "id": "da5b690c",
   "metadata": {},
   "outputs": [
    {
     "data": {
      "text/plain": [
       "100"
      ]
     },
     "execution_count": 97,
     "metadata": {},
     "output_type": "execute_result"
    }
   ],
   "source": [
    "b1.random_attribute"
   ]
  },
  {
   "cell_type": "code",
   "execution_count": 99,
   "id": "61417f7f",
   "metadata": {},
   "outputs": [],
   "source": [
    "b1.deposit(5000)"
   ]
  },
  {
   "cell_type": "code",
   "execution_count": 100,
   "id": "5a5ef272",
   "metadata": {},
   "outputs": [
    {
     "name": "stdout",
     "output_type": "stream",
     "text": [
      "15000\n"
     ]
    }
   ],
   "source": [
    "b1.showbalance()"
   ]
  },
  {
   "cell_type": "code",
   "execution_count": 101,
   "id": "ff63431a",
   "metadata": {},
   "outputs": [
    {
     "data": {
      "text/plain": [
       "50"
      ]
     },
     "execution_count": 101,
     "metadata": {},
     "output_type": "execute_result"
    }
   ],
   "source": [
    "b1.__balance"
   ]
  },
  {
   "cell_type": "code",
   "execution_count": 126,
   "id": "c7c49aa9",
   "metadata": {},
   "outputs": [
    {
     "name": "stdout",
     "output_type": "stream",
     "text": [
      "Bipin\n"
     ]
    }
   ],
   "source": [
    "b = input()"
   ]
  },
  {
   "cell_type": "code",
   "execution_count": 127,
   "id": "dc4df694",
   "metadata": {},
   "outputs": [
    {
     "data": {
      "text/plain": [
       "'Bipin'"
      ]
     },
     "execution_count": 127,
     "metadata": {},
     "output_type": "execute_result"
    }
   ],
   "source": [
    "b"
   ]
  },
  {
   "cell_type": "code",
   "execution_count": null,
   "id": "5ca15f09",
   "metadata": {},
   "outputs": [],
   "source": []
  },
  {
   "cell_type": "code",
   "execution_count": null,
   "id": "62a5a4aa",
   "metadata": {},
   "outputs": [],
   "source": [
    "class A:\n",
    "    def __init__(self):\n",
    "        self.name = \"XY\"\n",
    "\n",
    "class B:\n",
    "    def __init__(self):\n",
    "        self.name = \"AS\"\n",
    "  \n",
    "    def change(self):\n",
    "        "
   ]
  },
  {
   "cell_type": "code",
   "execution_count": 128,
   "id": "6096885b",
   "metadata": {},
   "outputs": [
    {
     "name": "stdout",
     "output_type": "stream",
     "text": [
      "Bipin Kalra\n"
     ]
    }
   ],
   "source": [
    "name = input()"
   ]
  },
  {
   "cell_type": "code",
   "execution_count": 129,
   "id": "fd6d4ca6",
   "metadata": {},
   "outputs": [],
   "source": [
    "s1 = Student(name, \"R\", 101)"
   ]
  },
  {
   "cell_type": "code",
   "execution_count": 130,
   "id": "59fb0b4d",
   "metadata": {},
   "outputs": [
    {
     "ename": "AttributeError",
     "evalue": "'Student' object has no attribute 'store_in_database'",
     "output_type": "error",
     "traceback": [
      "\u001b[0;31m---------------------------------------------------------------------------\u001b[0m",
      "\u001b[0;31mAttributeError\u001b[0m                            Traceback (most recent call last)",
      "\u001b[0;32m/var/folders/nn/c52y0d3j0gq59dpsswchkt2r0000gn/T/ipykernel_54778/3189056758.py\u001b[0m in \u001b[0;36m<module>\u001b[0;34m\u001b[0m\n\u001b[0;32m----> 1\u001b[0;31m \u001b[0ms1\u001b[0m\u001b[0;34m.\u001b[0m\u001b[0mstore_in_database\u001b[0m\u001b[0;34m(\u001b[0m\u001b[0;34m)\u001b[0m\u001b[0;34m\u001b[0m\u001b[0;34m\u001b[0m\u001b[0m\n\u001b[0m",
      "\u001b[0;31mAttributeError\u001b[0m: 'Student' object has no attribute 'store_in_database'"
     ]
    }
   ],
   "source": [
    "s1.store_in_database()"
   ]
  },
  {
   "cell_type": "code",
   "execution_count": 132,
   "id": "23aacc86",
   "metadata": {},
   "outputs": [
    {
     "data": {
      "text/plain": [
       "\"<class '__main__.Student'>\""
      ]
     },
     "execution_count": 132,
     "metadata": {},
     "output_type": "execute_result"
    }
   ],
   "source": [
    "str(type(s1))"
   ]
  },
  {
   "cell_type": "code",
   "execution_count": 133,
   "id": "0c0af71c",
   "metadata": {},
   "outputs": [],
   "source": [
    "class fun:\n",
    "    __you = 10      "
   ]
  },
  {
   "cell_type": "code",
   "execution_count": 134,
   "id": "6623a8d5",
   "metadata": {},
   "outputs": [
    {
     "ename": "AttributeError",
     "evalue": "type object 'fun' has no attribute '__you'",
     "output_type": "error",
     "traceback": [
      "\u001b[0;31m---------------------------------------------------------------------------\u001b[0m",
      "\u001b[0;31mAttributeError\u001b[0m                            Traceback (most recent call last)",
      "\u001b[0;32m/var/folders/nn/c52y0d3j0gq59dpsswchkt2r0000gn/T/ipykernel_54778/2319248170.py\u001b[0m in \u001b[0;36m<module>\u001b[0;34m\u001b[0m\n\u001b[0;32m----> 1\u001b[0;31m \u001b[0mfun\u001b[0m\u001b[0;34m.\u001b[0m\u001b[0m__you\u001b[0m\u001b[0;34m\u001b[0m\u001b[0;34m\u001b[0m\u001b[0m\n\u001b[0m",
      "\u001b[0;31mAttributeError\u001b[0m: type object 'fun' has no attribute '__you'"
     ]
    }
   ],
   "source": [
    "fun.__you"
   ]
  },
  {
   "cell_type": "code",
   "execution_count": 136,
   "id": "6ecc9e3f",
   "metadata": {},
   "outputs": [],
   "source": [
    "class Student():\n",
    "    def __init__(self, marks1,marks2,credits1, credits2):\n",
    "        self.marks1 = marks1\n",
    "        self.marks2 = marks2\n",
    "        self.credits1 = credits1\n",
    "        self.credits2 = credits2\n",
    "        self.points1 = self.points(marks1)\n",
    "        self.points2 = self.points(marks2)\n",
    "        \n",
    "    def grade_point_average(self):\n",
    "        if (self.credits1,self.credits2) == (0,0):\n",
    "            return \"Zero credits for both subjects\"\n",
    "        else:\n",
    "            gpa=0.0\n",
    "            gpa = (self.points1*self.credits1 + self.points2*self.credits2 ) / (self.credits1 + self.credits2)\n",
    "            return round(gpa,2)\n",
    "    \n",
    "    def points(self, marks):\n",
    "        if marks >= 90:\n",
    "            return 10\n",
    "        elif marks >= 75:\n",
    "            return 9\n",
    "        elif marks >= 60:\n",
    "            return 8\n",
    "        elif marks >= 45:\n",
    "            return 7\n",
    "        elif marks < 45:\n",
    "            return 0\n",
    "        else:\n",
    "            return None"
   ]
  },
  {
   "cell_type": "code",
   "execution_count": 137,
   "id": "b51a9db1",
   "metadata": {},
   "outputs": [],
   "source": [
    "s1 = Student(90,76,8,9)"
   ]
  },
  {
   "cell_type": "code",
   "execution_count": 138,
   "id": "5ccd2ace",
   "metadata": {},
   "outputs": [
    {
     "data": {
      "text/plain": [
       "9.47"
      ]
     },
     "execution_count": 138,
     "metadata": {},
     "output_type": "execute_result"
    }
   ],
   "source": [
    "s1.grade_point_average()"
   ]
  },
  {
   "cell_type": "code",
   "execution_count": null,
   "id": "84ccf98e",
   "metadata": {},
   "outputs": [],
   "source": []
  }
 ],
 "metadata": {
  "kernelspec": {
   "display_name": "Python 3 (ipykernel)",
   "language": "python",
   "name": "python3"
  },
  "language_info": {
   "codemirror_mode": {
    "name": "ipython",
    "version": 3
   },
   "file_extension": ".py",
   "mimetype": "text/x-python",
   "name": "python",
   "nbconvert_exporter": "python",
   "pygments_lexer": "ipython3",
   "version": "3.9.5"
  }
 },
 "nbformat": 4,
 "nbformat_minor": 5
}
