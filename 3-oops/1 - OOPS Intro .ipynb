{
 "cells": [
  {
   "cell_type": "code",
   "execution_count": 5,
   "id": "d5ec76dc",
   "metadata": {},
   "outputs": [],
   "source": [
    "# Think of all the objects in a system or a problem and also think of\n",
    "# 1. their attributes (properties)\n",
    "# 2. their actions (methods)\n",
    "# This approach of programming is known as OOPS!"
   ]
  },
  {
   "cell_type": "code",
   "execution_count": 6,
   "id": "57ccbd80",
   "metadata": {},
   "outputs": [],
   "source": [
    "# Shines where we have to imitate real world problems in code"
   ]
  },
  {
   "cell_type": "code",
   "execution_count": 24,
   "id": "bf029936",
   "metadata": {},
   "outputs": [],
   "source": [
    "def random_func():\n",
    "    print(\"random output!\")"
   ]
  },
  {
   "cell_type": "code",
   "execution_count": 20,
   "id": "da326b37",
   "metadata": {},
   "outputs": [],
   "source": [
    "class Student:\n",
    "    pass"
   ]
  },
  {
   "cell_type": "code",
   "execution_count": 25,
   "id": "a61965bb",
   "metadata": {},
   "outputs": [],
   "source": [
    "# random_func()\n",
    "# Student()\n",
    "\n",
    "# same syntax but different behaviour -> polymorphism"
   ]
  },
  {
   "cell_type": "code",
   "execution_count": 13,
   "id": "b420bac3",
   "metadata": {},
   "outputs": [],
   "source": [
    "s1 = Student()\n",
    "# instantiated the class Student\n",
    "# s1 is an object of class Student"
   ]
  },
  {
   "cell_type": "code",
   "execution_count": 14,
   "id": "ba517eca",
   "metadata": {},
   "outputs": [
    {
     "data": {
      "text/plain": [
       "<__main__.Student at 0x7fe371599610>"
      ]
     },
     "execution_count": 14,
     "metadata": {},
     "output_type": "execute_result"
    }
   ],
   "source": [
    "s1"
   ]
  },
  {
   "cell_type": "code",
   "execution_count": 15,
   "id": "4505aa86",
   "metadata": {},
   "outputs": [
    {
     "data": {
      "text/plain": [
       "__main__.Student"
      ]
     },
     "execution_count": 15,
     "metadata": {},
     "output_type": "execute_result"
    }
   ],
   "source": [
    "type(s1)"
   ]
  },
  {
   "cell_type": "code",
   "execution_count": 16,
   "id": "7703faa9",
   "metadata": {},
   "outputs": [
    {
     "data": {
      "text/plain": [
       "True"
      ]
     },
     "execution_count": 16,
     "metadata": {},
     "output_type": "execute_result"
    }
   ],
   "source": [
    "isinstance(s1,Student)"
   ]
  },
  {
   "cell_type": "code",
   "execution_count": 17,
   "id": "708181c4",
   "metadata": {},
   "outputs": [
    {
     "data": {
      "text/plain": [
       "True"
      ]
     },
     "execution_count": 17,
     "metadata": {},
     "output_type": "execute_result"
    }
   ],
   "source": [
    "isinstance(s1,object)"
   ]
  },
  {
   "cell_type": "code",
   "execution_count": 18,
   "id": "0b4a916a",
   "metadata": {},
   "outputs": [
    {
     "data": {
      "text/plain": [
       "True"
      ]
     },
     "execution_count": 18,
     "metadata": {},
     "output_type": "execute_result"
    }
   ],
   "source": [
    "isinstance(Student, object)"
   ]
  },
  {
   "cell_type": "code",
   "execution_count": 19,
   "id": "07999814",
   "metadata": {},
   "outputs": [
    {
     "data": {
      "text/plain": [
       "True"
      ]
     },
     "execution_count": 19,
     "metadata": {},
     "output_type": "execute_result"
    }
   ],
   "source": [
    "isinstance(object, object)"
   ]
  },
  {
   "cell_type": "code",
   "execution_count": 21,
   "id": "c8c55fa0",
   "metadata": {},
   "outputs": [],
   "source": [
    "# Objects differ by attributes\n",
    "# Similar in terms of the actions that they perform?"
   ]
  },
  {
   "cell_type": "code",
   "execution_count": 22,
   "id": "a958f8f0",
   "metadata": {},
   "outputs": [],
   "source": [
    "# 4 pillar of OOPS"
   ]
  },
  {
   "cell_type": "code",
   "execution_count": 23,
   "id": "365ecc8a",
   "metadata": {},
   "outputs": [],
   "source": [
    "# prant() absolutely fixed"
   ]
  },
  {
   "cell_type": "code",
   "execution_count": 55,
   "id": "7c301d70",
   "metadata": {},
   "outputs": [],
   "source": [
    "class Student:\n",
    "    name = \"bipin\"\n",
    "    \n",
    "# Functions inside a class take the reference of that class as the first argument\n",
    "# Thus these functions are called methods\n",
    "    def hello(self):\n",
    "#         print(id(self))\n",
    "        print(f\"OOPS! I did it again! {self.name}\")"
   ]
  },
  {
   "cell_type": "code",
   "execution_count": 40,
   "id": "bcd3172f",
   "metadata": {},
   "outputs": [],
   "source": [
    "a = Student()"
   ]
  },
  {
   "cell_type": "code",
   "execution_count": 41,
   "id": "36bc1bb7",
   "metadata": {},
   "outputs": [
    {
     "data": {
      "text/plain": [
       "'bipin'"
      ]
     },
     "execution_count": 41,
     "metadata": {},
     "output_type": "execute_result"
    }
   ],
   "source": [
    "a.name"
   ]
  },
  {
   "cell_type": "code",
   "execution_count": 42,
   "id": "583d1c24",
   "metadata": {},
   "outputs": [],
   "source": [
    "b = Student()"
   ]
  },
  {
   "cell_type": "code",
   "execution_count": 43,
   "id": "a024d786",
   "metadata": {},
   "outputs": [
    {
     "data": {
      "text/plain": [
       "'bipin'"
      ]
     },
     "execution_count": 43,
     "metadata": {},
     "output_type": "execute_result"
    }
   ],
   "source": [
    "b.name"
   ]
  },
  {
   "cell_type": "code",
   "execution_count": 44,
   "id": "59e0c11e",
   "metadata": {},
   "outputs": [
    {
     "ename": "TypeError",
     "evalue": "hello() takes 0 positional arguments but 1 was given",
     "output_type": "error",
     "traceback": [
      "\u001b[0;31m---------------------------------------------------------------------------\u001b[0m",
      "\u001b[0;31mTypeError\u001b[0m                                 Traceback (most recent call last)",
      "\u001b[0;32m/var/folders/nn/c52y0d3j0gq59dpsswchkt2r0000gn/T/ipykernel_48016/506894463.py\u001b[0m in \u001b[0;36m<module>\u001b[0;34m\u001b[0m\n\u001b[0;32m----> 1\u001b[0;31m \u001b[0mb\u001b[0m\u001b[0;34m.\u001b[0m\u001b[0mhello\u001b[0m\u001b[0;34m(\u001b[0m\u001b[0;34m)\u001b[0m\u001b[0;34m\u001b[0m\u001b[0;34m\u001b[0m\u001b[0m\n\u001b[0m",
      "\u001b[0;31mTypeError\u001b[0m: hello() takes 0 positional arguments but 1 was given"
     ]
    }
   ],
   "source": [
    "b.hello()"
   ]
  },
  {
   "cell_type": "code",
   "execution_count": 47,
   "id": "9f7c7a71",
   "metadata": {},
   "outputs": [],
   "source": [
    "c = Student()"
   ]
  },
  {
   "cell_type": "code",
   "execution_count": 51,
   "id": "8db32d05",
   "metadata": {},
   "outputs": [
    {
     "name": "stdout",
     "output_type": "stream",
     "text": [
      "140614836002192\n",
      "140614836002192\n"
     ]
    }
   ],
   "source": [
    "print(id(c))\n",
    "c.hello()"
   ]
  },
  {
   "cell_type": "code",
   "execution_count": 53,
   "id": "d5405dfc",
   "metadata": {},
   "outputs": [],
   "source": [
    "d = Student()"
   ]
  },
  {
   "cell_type": "code",
   "execution_count": 54,
   "id": "2049a52b",
   "metadata": {},
   "outputs": [
    {
     "name": "stdout",
     "output_type": "stream",
     "text": [
      "OOPS! I did it again! bipin\n"
     ]
    }
   ],
   "source": [
    "d.hello()"
   ]
  },
  {
   "cell_type": "code",
   "execution_count": 56,
   "id": "0b60a043",
   "metadata": {},
   "outputs": [
    {
     "name": "stdout",
     "output_type": "stream",
     "text": [
      "OOPS! I did it again! bipin\n"
     ]
    },
    {
     "ename": "NameError",
     "evalue": "name 'name' is not defined",
     "output_type": "error",
     "traceback": [
      "\u001b[0;31m---------------------------------------------------------------------------\u001b[0m",
      "\u001b[0;31mNameError\u001b[0m                                 Traceback (most recent call last)",
      "\u001b[0;32m/var/folders/nn/c52y0d3j0gq59dpsswchkt2r0000gn/T/ipykernel_48016/3555339369.py\u001b[0m in \u001b[0;36m<module>\u001b[0;34m\u001b[0m\n\u001b[1;32m      1\u001b[0m \u001b[0md\u001b[0m\u001b[0;34m.\u001b[0m\u001b[0mhello\u001b[0m\u001b[0;34m(\u001b[0m\u001b[0;34m)\u001b[0m\u001b[0;34m\u001b[0m\u001b[0;34m\u001b[0m\u001b[0m\n\u001b[0;32m----> 2\u001b[0;31m \u001b[0mStudent\u001b[0m\u001b[0;34m.\u001b[0m\u001b[0mhello\u001b[0m\u001b[0;34m(\u001b[0m\u001b[0md\u001b[0m\u001b[0;34m)\u001b[0m\u001b[0;34m\u001b[0m\u001b[0;34m\u001b[0m\u001b[0m\n\u001b[0m",
      "\u001b[0;32m/var/folders/nn/c52y0d3j0gq59dpsswchkt2r0000gn/T/ipykernel_48016/1831019636.py\u001b[0m in \u001b[0;36mhello\u001b[0;34m(self)\u001b[0m\n\u001b[1;32m      6\u001b[0m     \u001b[0;32mdef\u001b[0m \u001b[0mhello\u001b[0m\u001b[0;34m(\u001b[0m\u001b[0mself\u001b[0m\u001b[0;34m)\u001b[0m\u001b[0;34m:\u001b[0m\u001b[0;34m\u001b[0m\u001b[0;34m\u001b[0m\u001b[0m\n\u001b[1;32m      7\u001b[0m \u001b[0;31m#         print(id(self))\u001b[0m\u001b[0;34m\u001b[0m\u001b[0;34m\u001b[0m\u001b[0;34m\u001b[0m\u001b[0m\n\u001b[0;32m----> 8\u001b[0;31m         \u001b[0mprint\u001b[0m\u001b[0;34m(\u001b[0m\u001b[0;34mf\"OOPS! I did it again! {name}\"\u001b[0m\u001b[0;34m)\u001b[0m\u001b[0;34m\u001b[0m\u001b[0;34m\u001b[0m\u001b[0m\n\u001b[0m",
      "\u001b[0;31mNameError\u001b[0m: name 'name' is not defined"
     ]
    }
   ],
   "source": [
    "d.hello()\n",
    "Student.hello(d)"
   ]
  },
  {
   "cell_type": "code",
   "execution_count": 67,
   "id": "cb1f78bb",
   "metadata": {},
   "outputs": [],
   "source": [
    "class Student:\n",
    "    name = \"bipin\"\n",
    "    def hello(jhakkas):\n",
    "        print(id(jhakkas))"
   ]
  },
  {
   "cell_type": "code",
   "execution_count": 64,
   "id": "904ea1a4",
   "metadata": {},
   "outputs": [],
   "source": [
    "s1 = Student()\n",
    "s2 = Student()"
   ]
  },
  {
   "cell_type": "code",
   "execution_count": 65,
   "id": "e965f0f2",
   "metadata": {},
   "outputs": [
    {
     "name": "stdout",
     "output_type": "stream",
     "text": [
      "140614546830912\n",
      "140614546830912\n"
     ]
    }
   ],
   "source": [
    "print(id(s1))\n",
    "s1.hello() \n",
    "# Student.hello(s)"
   ]
  },
  {
   "cell_type": "code",
   "execution_count": 66,
   "id": "fd38b3d4",
   "metadata": {},
   "outputs": [
    {
     "name": "stdout",
     "output_type": "stream",
     "text": [
      "140614546830960\n",
      "140614546830960\n"
     ]
    }
   ],
   "source": [
    "print(id(s2))\n",
    "s2.hello() "
   ]
  },
  {
   "cell_type": "code",
   "execution_count": 63,
   "id": "cc774ad7",
   "metadata": {},
   "outputs": [
    {
     "name": "stdout",
     "output_type": "stream",
     "text": [
      "140614835629120\n"
     ]
    }
   ],
   "source": [
    "Student.hello(s)"
   ]
  },
  {
   "cell_type": "code",
   "execution_count": null,
   "id": "85bc53ff",
   "metadata": {},
   "outputs": [],
   "source": [
    "def sum(meri,marzi)"
   ]
  },
  {
   "cell_type": "code",
   "execution_count": 90,
   "id": "0b9fc86d",
   "metadata": {},
   "outputs": [],
   "source": [
    "class Student:\n",
    "    school = \"MAMS\" # class variables\n",
    "    \n",
    "    def __init__(self, name):\n",
    "        self.name = name # instance variable\n",
    "    \n",
    "    def hello(self):\n",
    "        print(f\"Hello {self.name}\")"
   ]
  },
  {
   "cell_type": "code",
   "execution_count": 91,
   "id": "6bf0b962",
   "metadata": {},
   "outputs": [],
   "source": [
    "a = Student(\"Crime Master\")"
   ]
  },
  {
   "cell_type": "code",
   "execution_count": 92,
   "id": "6022aa2d",
   "metadata": {},
   "outputs": [],
   "source": [
    "b = Student(\"GOGO!\")"
   ]
  },
  {
   "cell_type": "code",
   "execution_count": 93,
   "id": "15b1c675",
   "metadata": {
    "scrolled": true
   },
   "outputs": [
    {
     "data": {
      "text/plain": [
       "False"
      ]
     },
     "execution_count": 93,
     "metadata": {},
     "output_type": "execute_result"
    }
   ],
   "source": [
    "a.name == b.name"
   ]
  },
  {
   "cell_type": "code",
   "execution_count": 94,
   "id": "a5e17d57",
   "metadata": {},
   "outputs": [
    {
     "data": {
      "text/plain": [
       "'Crime Master'"
      ]
     },
     "execution_count": 94,
     "metadata": {},
     "output_type": "execute_result"
    }
   ],
   "source": [
    "a.name"
   ]
  },
  {
   "cell_type": "code",
   "execution_count": 95,
   "id": "b42c66f2",
   "metadata": {},
   "outputs": [
    {
     "data": {
      "text/plain": [
       "'GOGO!'"
      ]
     },
     "execution_count": 95,
     "metadata": {},
     "output_type": "execute_result"
    }
   ],
   "source": [
    "b.name"
   ]
  },
  {
   "cell_type": "code",
   "execution_count": 96,
   "id": "9f5c2caa",
   "metadata": {},
   "outputs": [
    {
     "data": {
      "text/plain": [
       "'MAMS'"
      ]
     },
     "execution_count": 96,
     "metadata": {},
     "output_type": "execute_result"
    }
   ],
   "source": [
    "a.school"
   ]
  },
  {
   "cell_type": "code",
   "execution_count": 97,
   "id": "a63b7236",
   "metadata": {},
   "outputs": [
    {
     "data": {
      "text/plain": [
       "'MAMS'"
      ]
     },
     "execution_count": 97,
     "metadata": {},
     "output_type": "execute_result"
    }
   ],
   "source": [
    "b.school"
   ]
  },
  {
   "cell_type": "code",
   "execution_count": 100,
   "id": "0c232b5a",
   "metadata": {},
   "outputs": [],
   "source": [
    "b.school = \"RDPS\"\n",
    "# A new instance variable was created for b but class variable was not changed"
   ]
  },
  {
   "cell_type": "code",
   "execution_count": 104,
   "id": "62556bd6",
   "metadata": {},
   "outputs": [
    {
     "data": {
      "text/plain": [
       "'MAMS'"
      ]
     },
     "execution_count": 104,
     "metadata": {},
     "output_type": "execute_result"
    }
   ],
   "source": [
    "Student.school"
   ]
  },
  {
   "cell_type": "code",
   "execution_count": 101,
   "id": "a3e95bf8",
   "metadata": {},
   "outputs": [
    {
     "data": {
      "text/plain": [
       "'MAMS'"
      ]
     },
     "execution_count": 101,
     "metadata": {},
     "output_type": "execute_result"
    }
   ],
   "source": [
    "a.school"
   ]
  },
  {
   "cell_type": "code",
   "execution_count": 105,
   "id": "4d1f9db9",
   "metadata": {},
   "outputs": [],
   "source": [
    "Student.school = \"XYZ\""
   ]
  },
  {
   "cell_type": "code",
   "execution_count": 106,
   "id": "af8aefcf",
   "metadata": {},
   "outputs": [
    {
     "data": {
      "text/plain": [
       "'XYZ'"
      ]
     },
     "execution_count": 106,
     "metadata": {},
     "output_type": "execute_result"
    }
   ],
   "source": [
    "a.school"
   ]
  },
  {
   "cell_type": "code",
   "execution_count": 107,
   "id": "2c378343",
   "metadata": {},
   "outputs": [
    {
     "data": {
      "text/plain": [
       "'RDPS'"
      ]
     },
     "execution_count": 107,
     "metadata": {},
     "output_type": "execute_result"
    }
   ],
   "source": [
    "b.school"
   ]
  },
  {
   "cell_type": "code",
   "execution_count": 109,
   "id": "fe38c7ff",
   "metadata": {},
   "outputs": [],
   "source": [
    "c = Student(\"Bandya!\")"
   ]
  },
  {
   "cell_type": "code",
   "execution_count": 111,
   "id": "99b1d78f",
   "metadata": {},
   "outputs": [
    {
     "data": {
      "text/plain": [
       "'XYZ'"
      ]
     },
     "execution_count": 111,
     "metadata": {},
     "output_type": "execute_result"
    }
   ],
   "source": [
    "c.school"
   ]
  },
  {
   "cell_type": "code",
   "execution_count": 121,
   "id": "d724b810",
   "metadata": {},
   "outputs": [],
   "source": [
    "class Dog:\n",
    "    tricks = [] # mutable list here!\n",
    "    \n",
    "    def __init__(self, name):\n",
    "        self.name = name\n",
    "    \n",
    "    def teach_trick(self, trick):\n",
    "        self.tricks.append(trick)"
   ]
  },
  {
   "cell_type": "code",
   "execution_count": 122,
   "id": "54f51001",
   "metadata": {},
   "outputs": [],
   "source": [
    "d1 = Dog(\"tuffy\")"
   ]
  },
  {
   "cell_type": "code",
   "execution_count": 123,
   "id": "1025afea",
   "metadata": {},
   "outputs": [],
   "source": [
    "d2 = Dog(\"scooby\")"
   ]
  },
  {
   "cell_type": "code",
   "execution_count": 124,
   "id": "f7a29f78",
   "metadata": {},
   "outputs": [],
   "source": [
    "d1.teach_trick(\"jump\")"
   ]
  },
  {
   "cell_type": "code",
   "execution_count": 125,
   "id": "f1fd635f",
   "metadata": {},
   "outputs": [
    {
     "data": {
      "text/plain": [
       "['jump']"
      ]
     },
     "execution_count": 125,
     "metadata": {},
     "output_type": "execute_result"
    }
   ],
   "source": [
    "d2.tricks"
   ]
  },
  {
   "cell_type": "code",
   "execution_count": 126,
   "id": "c1506d33",
   "metadata": {},
   "outputs": [
    {
     "data": {
      "text/plain": [
       "['jump']"
      ]
     },
     "execution_count": 126,
     "metadata": {},
     "output_type": "execute_result"
    }
   ],
   "source": [
    "d1.tricks"
   ]
  },
  {
   "cell_type": "code",
   "execution_count": 127,
   "id": "f4d2f9f8",
   "metadata": {},
   "outputs": [
    {
     "data": {
      "text/plain": [
       "['jump']"
      ]
     },
     "execution_count": 127,
     "metadata": {},
     "output_type": "execute_result"
    }
   ],
   "source": [
    "Dog.tricks"
   ]
  },
  {
   "cell_type": "code",
   "execution_count": 128,
   "id": "7c78d90b",
   "metadata": {},
   "outputs": [],
   "source": [
    "# Dunders / Magic Methods"
   ]
  },
  {
   "cell_type": "code",
   "execution_count": 210,
   "id": "c9c97df2",
   "metadata": {},
   "outputs": [],
   "source": [
    "class Car:\n",
    "#     Car() {\n",
    "        \n",
    "#     }\n",
    "    def __init__(self, name, milaege):\n",
    "        self.name = name\n",
    "        self.milaege = milaege\n",
    "        \n",
    "    def __str__(self):\n",
    "        # it runs every time the object is printed\n",
    "        return f\"{self.name} -> {self.milaege}\"\n",
    "    \n",
    "    def __add__(self, other):\n",
    "        return self.name + other.name\n",
    "    \n",
    "    def __gt__(self, other):\n",
    "        return True if self.milaege > other.milaege else False\n",
    "    \n",
    "    def __call__(self):\n",
    "        return \"GUESS WHO JUST GOT A CALL!!!!\""
   ]
  },
  {
   "cell_type": "code",
   "execution_count": 211,
   "id": "0f400d0f",
   "metadata": {},
   "outputs": [],
   "source": [
    "c1 = Car(\"Nexon\", 13)"
   ]
  },
  {
   "cell_type": "code",
   "execution_count": 212,
   "id": "56d3c384",
   "metadata": {},
   "outputs": [],
   "source": [
    "c2 = Car(\"Altroz\", 15)"
   ]
  },
  {
   "cell_type": "code",
   "execution_count": 213,
   "id": "e5f6b95b",
   "metadata": {},
   "outputs": [
    {
     "name": "stdout",
     "output_type": "stream",
     "text": [
      "Nexon -> 13\n"
     ]
    }
   ],
   "source": [
    "print(c1)"
   ]
  },
  {
   "cell_type": "code",
   "execution_count": 214,
   "id": "181911d9",
   "metadata": {},
   "outputs": [],
   "source": [
    "# car_model -> milaege"
   ]
  },
  {
   "cell_type": "code",
   "execution_count": 215,
   "id": "3d420166",
   "metadata": {},
   "outputs": [
    {
     "data": {
      "text/plain": [
       "<__main__.Car at 0x7fe3502e18e0>"
      ]
     },
     "execution_count": 215,
     "metadata": {},
     "output_type": "execute_result"
    }
   ],
   "source": [
    "c1"
   ]
  },
  {
   "cell_type": "code",
   "execution_count": 216,
   "id": "15e9dc35",
   "metadata": {},
   "outputs": [
    {
     "data": {
      "text/plain": [
       "'NexonAltroz'"
      ]
     },
     "execution_count": 216,
     "metadata": {},
     "output_type": "execute_result"
    }
   ],
   "source": [
    "c1 + c2"
   ]
  },
  {
   "cell_type": "code",
   "execution_count": 217,
   "id": "5c68dda7",
   "metadata": {},
   "outputs": [
    {
     "data": {
      "text/plain": [
       "'NexonAltroz'"
      ]
     },
     "execution_count": 217,
     "metadata": {},
     "output_type": "execute_result"
    }
   ],
   "source": [
    "c1.__add__(c2)"
   ]
  },
  {
   "cell_type": "code",
   "execution_count": 218,
   "id": "4923c25f",
   "metadata": {},
   "outputs": [],
   "source": [
    "c3 = Car(\"BMW\", 5)"
   ]
  },
  {
   "cell_type": "code",
   "execution_count": 219,
   "id": "3d760f8f",
   "metadata": {},
   "outputs": [
    {
     "ename": "TypeError",
     "evalue": "can only concatenate str (not \"Car\") to str",
     "output_type": "error",
     "traceback": [
      "\u001b[0;31m---------------------------------------------------------------------------\u001b[0m",
      "\u001b[0;31mTypeError\u001b[0m                                 Traceback (most recent call last)",
      "\u001b[0;32m/var/folders/nn/c52y0d3j0gq59dpsswchkt2r0000gn/T/ipykernel_48016/3735077456.py\u001b[0m in \u001b[0;36m<module>\u001b[0;34m\u001b[0m\n\u001b[0;32m----> 1\u001b[0;31m \u001b[0mc1\u001b[0m \u001b[0;34m+\u001b[0m \u001b[0mc2\u001b[0m \u001b[0;34m+\u001b[0m \u001b[0mc3\u001b[0m\u001b[0;34m\u001b[0m\u001b[0;34m\u001b[0m\u001b[0m\n\u001b[0m",
      "\u001b[0;31mTypeError\u001b[0m: can only concatenate str (not \"Car\") to str"
     ]
    }
   ],
   "source": [
    "c1 + c2 + c3"
   ]
  },
  {
   "cell_type": "code",
   "execution_count": 220,
   "id": "e8cb47d5",
   "metadata": {},
   "outputs": [
    {
     "data": {
      "text/plain": [
       "False"
      ]
     },
     "execution_count": 220,
     "metadata": {},
     "output_type": "execute_result"
    }
   ],
   "source": [
    "c1 > c2"
   ]
  },
  {
   "cell_type": "code",
   "execution_count": 221,
   "id": "0fb9ed69",
   "metadata": {},
   "outputs": [],
   "source": [
    "a = 5"
   ]
  },
  {
   "cell_type": "code",
   "execution_count": 222,
   "id": "e87fbe65",
   "metadata": {},
   "outputs": [
    {
     "ename": "TypeError",
     "evalue": "'int' object is not callable",
     "output_type": "error",
     "traceback": [
      "\u001b[0;31m---------------------------------------------------------------------------\u001b[0m",
      "\u001b[0;31mTypeError\u001b[0m                                 Traceback (most recent call last)",
      "\u001b[0;32m/var/folders/nn/c52y0d3j0gq59dpsswchkt2r0000gn/T/ipykernel_48016/3657634075.py\u001b[0m in \u001b[0;36m<module>\u001b[0;34m\u001b[0m\n\u001b[0;32m----> 1\u001b[0;31m \u001b[0ma\u001b[0m\u001b[0;34m(\u001b[0m\u001b[0;34m)\u001b[0m\u001b[0;34m\u001b[0m\u001b[0;34m\u001b[0m\u001b[0m\n\u001b[0m",
      "\u001b[0;31mTypeError\u001b[0m: 'int' object is not callable"
     ]
    }
   ],
   "source": [
    "a()"
   ]
  },
  {
   "cell_type": "code",
   "execution_count": 223,
   "id": "7986133e",
   "metadata": {},
   "outputs": [
    {
     "data": {
      "text/plain": [
       "'GUESS WHO JUST GOT A CALL!!!!'"
      ]
     },
     "execution_count": 223,
     "metadata": {},
     "output_type": "execute_result"
    }
   ],
   "source": [
    "c1()"
   ]
  },
  {
   "cell_type": "code",
   "execution_count": null,
   "id": "76986975",
   "metadata": {},
   "outputs": [],
   "source": []
  }
 ],
 "metadata": {
  "kernelspec": {
   "display_name": "Python 3 (ipykernel)",
   "language": "python",
   "name": "python3"
  },
  "language_info": {
   "codemirror_mode": {
    "name": "ipython",
    "version": 3
   },
   "file_extension": ".py",
   "mimetype": "text/x-python",
   "name": "python",
   "nbconvert_exporter": "python",
   "pygments_lexer": "ipython3",
   "version": "3.9.5"
  }
 },
 "nbformat": 4,
 "nbformat_minor": 5
}
