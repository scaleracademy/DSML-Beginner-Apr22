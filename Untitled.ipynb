{
 "cells": [
  {
   "cell_type": "code",
   "execution_count": 2,
   "id": "cc7727a6",
   "metadata": {},
   "outputs": [
    {
     "name": "stdout",
     "output_type": "stream",
     "text": [
      "Hello python intermediate\n"
     ]
    }
   ],
   "source": [
    "print(\"Hello python intermediate\")"
   ]
  },
  {
   "cell_type": "code",
   "execution_count": 4,
   "id": "e65378f8",
   "metadata": {},
   "outputs": [],
   "source": [
    "a = \"python\""
   ]
  },
  {
   "cell_type": "code",
   "execution_count": 5,
   "id": "baa88c59",
   "metadata": {},
   "outputs": [
    {
     "data": {
      "text/plain": [
       "'python'"
      ]
     },
     "execution_count": 5,
     "metadata": {},
     "output_type": "execute_result"
    }
   ],
   "source": [
    "a"
   ]
  },
  {
   "cell_type": "code",
   "execution_count": 6,
   "id": "bec3e5ca",
   "metadata": {},
   "outputs": [
    {
     "data": {
      "text/plain": [
       "str"
      ]
     },
     "execution_count": 6,
     "metadata": {},
     "output_type": "execute_result"
    }
   ],
   "source": [
    "type(a)"
   ]
  },
  {
   "cell_type": "code",
   "execution_count": 7,
   "id": "036e2cd7",
   "metadata": {},
   "outputs": [],
   "source": [
    "a = 123"
   ]
  },
  {
   "cell_type": "code",
   "execution_count": 8,
   "id": "fe1fb6e5",
   "metadata": {},
   "outputs": [
    {
     "data": {
      "text/plain": [
       "int"
      ]
     },
     "execution_count": 8,
     "metadata": {},
     "output_type": "execute_result"
    }
   ],
   "source": [
    "type(a)"
   ]
  },
  {
   "cell_type": "code",
   "execution_count": 11,
   "id": "897114f0",
   "metadata": {},
   "outputs": [],
   "source": [
    "b = \"bizarre\""
   ]
  },
  {
   "cell_type": "code",
   "execution_count": 12,
   "id": "40e173d4",
   "metadata": {},
   "outputs": [
    {
     "data": {
      "text/plain": [
       "str"
      ]
     },
     "execution_count": 12,
     "metadata": {},
     "output_type": "execute_result"
    }
   ],
   "source": [
    "type(b)"
   ]
  },
  {
   "cell_type": "code",
   "execution_count": 13,
   "id": "34bd38d7",
   "metadata": {},
   "outputs": [],
   "source": [
    "b = 456"
   ]
  },
  {
   "cell_type": "code",
   "execution_count": 14,
   "id": "63c0cd1e",
   "metadata": {},
   "outputs": [
    {
     "data": {
      "text/plain": [
       "int"
      ]
     },
     "execution_count": 14,
     "metadata": {},
     "output_type": "execute_result"
    }
   ],
   "source": [
    "type(b)"
   ]
  },
  {
   "cell_type": "code",
   "execution_count": 15,
   "id": "a3aa470d",
   "metadata": {},
   "outputs": [
    {
     "data": {
      "text/plain": [
       "int"
      ]
     },
     "execution_count": 15,
     "metadata": {},
     "output_type": "execute_result"
    }
   ],
   "source": [
    "type(b)"
   ]
  },
  {
   "cell_type": "code",
   "execution_count": 17,
   "id": "4f5e4534",
   "metadata": {},
   "outputs": [],
   "source": [
    "b = True"
   ]
  },
  {
   "cell_type": "code",
   "execution_count": 18,
   "id": "e5af36f0",
   "metadata": {},
   "outputs": [
    {
     "data": {
      "text/plain": [
       "bool"
      ]
     },
     "execution_count": 18,
     "metadata": {},
     "output_type": "execute_result"
    }
   ],
   "source": [
    "type(b)"
   ]
  },
  {
   "cell_type": "code",
   "execution_count": 19,
   "id": "d5c56caa",
   "metadata": {},
   "outputs": [
    {
     "data": {
      "text/plain": [
       "True"
      ]
     },
     "execution_count": 19,
     "metadata": {},
     "output_type": "execute_result"
    }
   ],
   "source": [
    "isinstance(True, bool)"
   ]
  },
  {
   "cell_type": "code",
   "execution_count": 20,
   "id": "fe76a5a8",
   "metadata": {},
   "outputs": [
    {
     "data": {
      "text/plain": [
       "True"
      ]
     },
     "execution_count": 20,
     "metadata": {},
     "output_type": "execute_result"
    }
   ],
   "source": [
    "isinstance(True, object)"
   ]
  },
  {
   "cell_type": "code",
   "execution_count": 24,
   "id": "7d97a88d",
   "metadata": {},
   "outputs": [
    {
     "name": "stdout",
     "output_type": "stream",
     "text": [
      "True\n",
      "True\n"
     ]
    }
   ],
   "source": [
    "print(isinstance(\"python\", str))\n",
    "print(isinstance(\"python\", object))"
   ]
  },
  {
   "cell_type": "code",
   "execution_count": 25,
   "id": "bc240638",
   "metadata": {},
   "outputs": [],
   "source": [
    "number = 5+6j"
   ]
  },
  {
   "cell_type": "code",
   "execution_count": 26,
   "id": "43d10db7",
   "metadata": {},
   "outputs": [
    {
     "data": {
      "text/plain": [
       "complex"
      ]
     },
     "execution_count": 26,
     "metadata": {},
     "output_type": "execute_result"
    }
   ],
   "source": [
    "type(number)"
   ]
  },
  {
   "cell_type": "code",
   "execution_count": 27,
   "id": "65843a45",
   "metadata": {},
   "outputs": [
    {
     "data": {
      "text/plain": [
       "(5+6j)"
      ]
     },
     "execution_count": 27,
     "metadata": {},
     "output_type": "execute_result"
    }
   ],
   "source": [
    "number"
   ]
  },
  {
   "cell_type": "code",
   "execution_count": 28,
   "id": "967727fb",
   "metadata": {},
   "outputs": [
    {
     "name": "stdout",
     "output_type": "stream",
     "text": [
      "abc xyz\n"
     ]
    }
   ],
   "source": [
    "print(\"abc\", \"xyz\")"
   ]
  },
  {
   "cell_type": "code",
   "execution_count": 33,
   "id": "d5dc03f0",
   "metadata": {},
   "outputs": [
    {
     "name": "stdout",
     "output_type": "stream",
     "text": [
      "abc_xyz\n"
     ]
    }
   ],
   "source": [
    "print(\"abc\", \"xyz\", sep=\"_\")\n"
   ]
  },
  {
   "cell_type": "code",
   "execution_count": 37,
   "id": "634d0344",
   "metadata": {},
   "outputs": [
    {
     "name": "stdout",
     "output_type": "stream",
     "text": [
      "abcxyz\n"
     ]
    }
   ],
   "source": [
    "print(\"abc\", end=\"\")\n",
    "print(\"xyz\")"
   ]
  },
  {
   "cell_type": "code",
   "execution_count": 38,
   "id": "279a06cf",
   "metadata": {},
   "outputs": [
    {
     "data": {
      "text/plain": [
       "builtin_function_or_method"
      ]
     },
     "execution_count": 38,
     "metadata": {},
     "output_type": "execute_result"
    }
   ],
   "source": [
    "type(print)"
   ]
  },
  {
   "cell_type": "code",
   "execution_count": 40,
   "id": "a19d5118",
   "metadata": {},
   "outputs": [
    {
     "data": {
      "text/plain": [
       "True"
      ]
     },
     "execution_count": 40,
     "metadata": {},
     "output_type": "execute_result"
    }
   ],
   "source": [
    "isinstance(print, object)"
   ]
  },
  {
   "cell_type": "code",
   "execution_count": 41,
   "id": "56152742",
   "metadata": {},
   "outputs": [
    {
     "data": {
      "text/plain": [
       "4.199999999999999"
      ]
     },
     "execution_count": 41,
     "metadata": {},
     "output_type": "execute_result"
    }
   ],
   "source": [
    "1.4+1.2+1.6"
   ]
  },
  {
   "cell_type": "code",
   "execution_count": 42,
   "id": "e36ad16a",
   "metadata": {},
   "outputs": [
    {
     "data": {
      "text/plain": [
       "4.2"
      ]
     },
     "execution_count": 42,
     "metadata": {},
     "output_type": "execute_result"
    }
   ],
   "source": [
    "1.4+1.6+1.2"
   ]
  },
  {
   "cell_type": "markdown",
   "id": "79213001",
   "metadata": {},
   "source": [
    "## Arithmetic Operators"
   ]
  },
  {
   "cell_type": "code",
   "execution_count": 44,
   "id": "d8a8b6cd",
   "metadata": {},
   "outputs": [],
   "source": [
    "# +,-,/,*,//,%,**"
   ]
  },
  {
   "cell_type": "code",
   "execution_count": 45,
   "id": "d7461b56",
   "metadata": {},
   "outputs": [
    {
     "data": {
      "text/plain": [
       "15"
      ]
     },
     "execution_count": 45,
     "metadata": {},
     "output_type": "execute_result"
    }
   ],
   "source": [
    "10+5"
   ]
  },
  {
   "cell_type": "code",
   "execution_count": 46,
   "id": "a1d7f20c",
   "metadata": {},
   "outputs": [
    {
     "data": {
      "text/plain": [
       "15"
      ]
     },
     "execution_count": 46,
     "metadata": {},
     "output_type": "execute_result"
    }
   ],
   "source": [
    "20-5"
   ]
  },
  {
   "cell_type": "code",
   "execution_count": 47,
   "id": "ffb05dc4",
   "metadata": {},
   "outputs": [
    {
     "data": {
      "text/plain": [
       "15"
      ]
     },
     "execution_count": 47,
     "metadata": {},
     "output_type": "execute_result"
    }
   ],
   "source": [
    "3*5"
   ]
  },
  {
   "cell_type": "code",
   "execution_count": 48,
   "id": "aac17879",
   "metadata": {},
   "outputs": [
    {
     "data": {
      "text/plain": [
       "3.3333333333333335"
      ]
     },
     "execution_count": 48,
     "metadata": {},
     "output_type": "execute_result"
    }
   ],
   "source": [
    "10/3\n",
    "# floating point division"
   ]
  },
  {
   "cell_type": "code",
   "execution_count": 50,
   "id": "96325ab4",
   "metadata": {},
   "outputs": [
    {
     "data": {
      "text/plain": [
       "3"
      ]
     },
     "execution_count": 50,
     "metadata": {},
     "output_type": "execute_result"
    }
   ],
   "source": [
    "10//3\n",
    "# floored division operator"
   ]
  },
  {
   "cell_type": "code",
   "execution_count": 51,
   "id": "8e2c91a3",
   "metadata": {},
   "outputs": [
    {
     "data": {
      "text/plain": [
       "-2.6666666666666665"
      ]
     },
     "execution_count": 51,
     "metadata": {},
     "output_type": "execute_result"
    }
   ],
   "source": [
    "-8/3"
   ]
  },
  {
   "cell_type": "code",
   "execution_count": 52,
   "id": "44ba142d",
   "metadata": {},
   "outputs": [
    {
     "data": {
      "text/plain": [
       "-3"
      ]
     },
     "execution_count": 52,
     "metadata": {},
     "output_type": "execute_result"
    }
   ],
   "source": [
    "-8//3"
   ]
  },
  {
   "cell_type": "code",
   "execution_count": 53,
   "id": "da926e5d",
   "metadata": {},
   "outputs": [
    {
     "data": {
      "text/plain": [
       "1"
      ]
     },
     "execution_count": 53,
     "metadata": {},
     "output_type": "execute_result"
    }
   ],
   "source": [
    "10%3"
   ]
  },
  {
   "cell_type": "code",
   "execution_count": 54,
   "id": "ee227433",
   "metadata": {},
   "outputs": [
    {
     "data": {
      "text/plain": [
       "2"
      ]
     },
     "execution_count": 54,
     "metadata": {},
     "output_type": "execute_result"
    }
   ],
   "source": [
    "-10%3\n",
    "# Remainder operator -> Modulo Operator"
   ]
  },
  {
   "cell_type": "code",
   "execution_count": 55,
   "id": "cabedd11",
   "metadata": {},
   "outputs": [],
   "source": [
    "# -a mod b = b - (a mod b)"
   ]
  },
  {
   "cell_type": "code",
   "execution_count": 56,
   "id": "b66b7c07",
   "metadata": {},
   "outputs": [
    {
     "data": {
      "text/plain": [
       "0"
      ]
     },
     "execution_count": 56,
     "metadata": {},
     "output_type": "execute_result"
    }
   ],
   "source": [
    "-15%3"
   ]
  },
  {
   "cell_type": "code",
   "execution_count": 57,
   "id": "ca4f7eb3",
   "metadata": {},
   "outputs": [
    {
     "data": {
      "text/plain": [
       "0"
      ]
     },
     "execution_count": 57,
     "metadata": {},
     "output_type": "execute_result"
    }
   ],
   "source": [
    "15%3"
   ]
  },
  {
   "cell_type": "code",
   "execution_count": 58,
   "id": "50c11694",
   "metadata": {},
   "outputs": [
    {
     "data": {
      "text/plain": [
       "1"
      ]
     },
     "execution_count": 58,
     "metadata": {},
     "output_type": "execute_result"
    }
   ],
   "source": [
    "-14%3"
   ]
  },
  {
   "cell_type": "code",
   "execution_count": 59,
   "id": "97bd4fb6",
   "metadata": {},
   "outputs": [
    {
     "data": {
      "text/plain": [
       "2"
      ]
     },
     "execution_count": 59,
     "metadata": {},
     "output_type": "execute_result"
    }
   ],
   "source": [
    "14%3"
   ]
  },
  {
   "cell_type": "code",
   "execution_count": 61,
   "id": "0313f433",
   "metadata": {},
   "outputs": [
    {
     "data": {
      "text/plain": [
       "8"
      ]
     },
     "execution_count": 61,
     "metadata": {},
     "output_type": "execute_result"
    }
   ],
   "source": [
    "2**3\n",
    "# exponentiation operator"
   ]
  },
  {
   "cell_type": "code",
   "execution_count": 62,
   "id": "0a7f361b",
   "metadata": {},
   "outputs": [
    {
     "data": {
      "text/plain": [
       "8"
      ]
     },
     "execution_count": 62,
     "metadata": {},
     "output_type": "execute_result"
    }
   ],
   "source": [
    "2*2*2"
   ]
  },
  {
   "cell_type": "code",
   "execution_count": 63,
   "id": "5bfc4bc1",
   "metadata": {},
   "outputs": [
    {
     "data": {
      "text/plain": [
       "-1"
      ]
     },
     "execution_count": 63,
     "metadata": {},
     "output_type": "execute_result"
    }
   ],
   "source": [
    "-10%-3"
   ]
  },
  {
   "cell_type": "code",
   "execution_count": 64,
   "id": "f4de21db",
   "metadata": {},
   "outputs": [],
   "source": [
    "identity = \"i am identifier\"\n",
    "# identifier of identity"
   ]
  },
  {
   "cell_type": "code",
   "execution_count": 65,
   "id": "4913a639",
   "metadata": {},
   "outputs": [],
   "source": [
    "# - alphanumerics (0-9, a-z, A-Z) and underscore (_)\n",
    "# - alphabets or underscore"
   ]
  },
  {
   "cell_type": "code",
   "execution_count": 66,
   "id": "cdc284ee",
   "metadata": {},
   "outputs": [],
   "source": [
    "_random = 123"
   ]
  },
  {
   "cell_type": "code",
   "execution_count": 67,
   "id": "ade69156",
   "metadata": {},
   "outputs": [],
   "source": [
    "random_123 = 123"
   ]
  },
  {
   "cell_type": "code",
   "execution_count": 68,
   "id": "2855f2c8",
   "metadata": {},
   "outputs": [
    {
     "ename": "SyntaxError",
     "evalue": "invalid syntax (2258557862.py, line 1)",
     "output_type": "error",
     "traceback": [
      "\u001b[0;36m  File \u001b[0;32m\"/var/folders/nn/c52y0d3j0gq59dpsswchkt2r0000gn/T/ipykernel_70453/2258557862.py\"\u001b[0;36m, line \u001b[0;32m1\u001b[0m\n\u001b[0;31m    123random = 123\u001b[0m\n\u001b[0m       ^\u001b[0m\n\u001b[0;31mSyntaxError\u001b[0m\u001b[0;31m:\u001b[0m invalid syntax\n"
     ]
    }
   ],
   "source": [
    "123random = 123"
   ]
  },
  {
   "cell_type": "code",
   "execution_count": 69,
   "id": "59f226c1",
   "metadata": {},
   "outputs": [],
   "source": [
    "_ = 5"
   ]
  },
  {
   "cell_type": "code",
   "execution_count": 70,
   "id": "5de868dd",
   "metadata": {},
   "outputs": [
    {
     "data": {
      "text/plain": [
       "5"
      ]
     },
     "execution_count": 70,
     "metadata": {},
     "output_type": "execute_result"
    }
   ],
   "source": [
    "_"
   ]
  },
  {
   "cell_type": "code",
   "execution_count": 71,
   "id": "127fbe34",
   "metadata": {},
   "outputs": [],
   "source": [
    "__ = 10"
   ]
  },
  {
   "cell_type": "code",
   "execution_count": 72,
   "id": "29620b8f",
   "metadata": {},
   "outputs": [
    {
     "data": {
      "text/plain": [
       "10"
      ]
     },
     "execution_count": 72,
     "metadata": {},
     "output_type": "execute_result"
    }
   ],
   "source": [
    "__"
   ]
  },
  {
   "cell_type": "code",
   "execution_count": 73,
   "id": "2ee4b3cb",
   "metadata": {},
   "outputs": [],
   "source": [
    "# But _ is a special identifier"
   ]
  },
  {
   "cell_type": "code",
   "execution_count": 78,
   "id": "ca3dd93e",
   "metadata": {},
   "outputs": [
    {
     "data": {
      "text/plain": [
       "'onetwo'"
      ]
     },
     "execution_count": 78,
     "metadata": {},
     "output_type": "execute_result"
    }
   ],
   "source": [
    "\"one\" + \"two\""
   ]
  },
  {
   "cell_type": "code",
   "execution_count": 75,
   "id": "9dbdd97a",
   "metadata": {},
   "outputs": [
    {
     "name": "stdout",
     "output_type": "stream",
     "text": [
      "xyz\n"
     ]
    }
   ],
   "source": [
    "abc = print(\"xyz\")"
   ]
  },
  {
   "cell_type": "code",
   "execution_count": 79,
   "id": "1f18580c",
   "metadata": {},
   "outputs": [],
   "source": [
    "abc"
   ]
  },
  {
   "cell_type": "code",
   "execution_count": 80,
   "id": "d2596f5b",
   "metadata": {},
   "outputs": [
    {
     "name": "stdout",
     "output_type": "stream",
     "text": [
      "None\n"
     ]
    }
   ],
   "source": [
    "print(abc)"
   ]
  },
  {
   "cell_type": "code",
   "execution_count": 81,
   "id": "225f2b4e",
   "metadata": {},
   "outputs": [],
   "source": [
    "b = 5"
   ]
  },
  {
   "cell_type": "code",
   "execution_count": 82,
   "id": "fd2a8d52",
   "metadata": {},
   "outputs": [],
   "source": [
    "b = 6"
   ]
  },
  {
   "cell_type": "code",
   "execution_count": 83,
   "id": "319639f0",
   "metadata": {},
   "outputs": [],
   "source": [
    "# Immutable\n",
    "# Mutable - Lists, Sets and Dictionaries"
   ]
  },
  {
   "cell_type": "code",
   "execution_count": 85,
   "id": "eed9543d",
   "metadata": {},
   "outputs": [],
   "source": [
    "# globals()"
   ]
  },
  {
   "cell_type": "code",
   "execution_count": 86,
   "id": "fd247748",
   "metadata": {},
   "outputs": [],
   "source": [
    "fun = 5"
   ]
  },
  {
   "cell_type": "code",
   "execution_count": 87,
   "id": "890633f9",
   "metadata": {},
   "outputs": [
    {
     "data": {
      "text/plain": [
       "140402883750320"
      ]
     },
     "execution_count": 87,
     "metadata": {},
     "output_type": "execute_result"
    }
   ],
   "source": [
    "id(fun)"
   ]
  },
  {
   "cell_type": "code",
   "execution_count": 88,
   "id": "e70ecde3",
   "metadata": {},
   "outputs": [],
   "source": [
    "fun = 10"
   ]
  },
  {
   "cell_type": "code",
   "execution_count": 89,
   "id": "07f61429",
   "metadata": {},
   "outputs": [
    {
     "data": {
      "text/plain": [
       "140402883750480"
      ]
     },
     "execution_count": 89,
     "metadata": {},
     "output_type": "execute_result"
    }
   ],
   "source": [
    "id(fun)"
   ]
  },
  {
   "cell_type": "code",
   "execution_count": 90,
   "id": "b31881bf",
   "metadata": {},
   "outputs": [],
   "source": [
    "fun1 = 5"
   ]
  },
  {
   "cell_type": "code",
   "execution_count": 91,
   "id": "a45d0d4d",
   "metadata": {},
   "outputs": [],
   "source": [
    "fun2 = 5"
   ]
  },
  {
   "cell_type": "code",
   "execution_count": 92,
   "id": "77a14976",
   "metadata": {},
   "outputs": [
    {
     "name": "stdout",
     "output_type": "stream",
     "text": [
      "140402883750320 140402883750320\n"
     ]
    }
   ],
   "source": [
    "print(id(fun1), id(fun2))"
   ]
  },
  {
   "cell_type": "code",
   "execution_count": 93,
   "id": "48a3d673",
   "metadata": {},
   "outputs": [],
   "source": [
    "# int a = 123 C++\n",
    "# a = \"bipin\" \n",
    "# statically typed language"
   ]
  },
  {
   "cell_type": "code",
   "execution_count": 94,
   "id": "5aa5426f",
   "metadata": {},
   "outputs": [],
   "source": [
    "a = 123\n",
    "a = \"bipin\"\n",
    "a = True\n",
    "a = 12.45\n",
    "a = 4+6j"
   ]
  },
  {
   "cell_type": "code",
   "execution_count": null,
   "id": "a8d1899f",
   "metadata": {},
   "outputs": [],
   "source": []
  }
 ],
 "metadata": {
  "kernelspec": {
   "display_name": "Python 3 (ipykernel)",
   "language": "python",
   "name": "python3"
  },
  "language_info": {
   "codemirror_mode": {
    "name": "ipython",
    "version": 3
   },
   "file_extension": ".py",
   "mimetype": "text/x-python",
   "name": "python",
   "nbconvert_exporter": "python",
   "pygments_lexer": "ipython3",
   "version": "3.9.5"
  }
 },
 "nbformat": 4,
 "nbformat_minor": 5
}
