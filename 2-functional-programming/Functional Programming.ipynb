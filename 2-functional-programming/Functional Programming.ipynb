{
 "cells": [
  {
   "cell_type": "code",
   "execution_count": 11,
   "id": "ba85d557",
   "metadata": {},
   "outputs": [
    {
     "name": "stdout",
     "output_type": "stream",
     "text": [
      "5 5 5 5 5 \n",
      "5 4 4 4 5 \n",
      "5 4 3 4 5 \n",
      "5 4 4 4 5 \n",
      "5 5 5 5 5 \n"
     ]
    }
   ],
   "source": [
    "for i in range(5):\n",
    "    for j in range(5):\n",
    "        print(max(i+1, j+1, 5-i, 5-j), end=\" \")\n",
    "    \n",
    "    print(end=\"\\n\")"
   ]
  },
  {
   "cell_type": "code",
   "execution_count": 12,
   "id": "daf73c84",
   "metadata": {},
   "outputs": [],
   "source": [
    "def random():\n",
    "    print(\"random!\")"
   ]
  },
  {
   "cell_type": "code",
   "execution_count": 13,
   "id": "5c7af965",
   "metadata": {},
   "outputs": [
    {
     "data": {
      "text/plain": [
       "True"
      ]
     },
     "execution_count": 13,
     "metadata": {},
     "output_type": "execute_result"
    }
   ],
   "source": [
    "isinstance(random, object)"
   ]
  },
  {
   "cell_type": "markdown",
   "id": "8fed58b6",
   "metadata": {},
   "source": [
    "## Lambda Function"
   ]
  },
  {
   "cell_type": "code",
   "execution_count": 14,
   "id": "b0ce4341",
   "metadata": {},
   "outputs": [],
   "source": [
    "def square(x):\n",
    "    return x**2"
   ]
  },
  {
   "cell_type": "code",
   "execution_count": 15,
   "id": "3cfd7b4d",
   "metadata": {},
   "outputs": [
    {
     "data": {
      "text/plain": [
       "25"
      ]
     },
     "execution_count": 15,
     "metadata": {},
     "output_type": "execute_result"
    }
   ],
   "source": [
    "square(5)"
   ]
  },
  {
   "cell_type": "code",
   "execution_count": 16,
   "id": "f9b3bcb3",
   "metadata": {},
   "outputs": [],
   "source": [
    "square2 = lambda x: x**2"
   ]
  },
  {
   "cell_type": "code",
   "execution_count": 17,
   "id": "68ac23ac",
   "metadata": {},
   "outputs": [
    {
     "data": {
      "text/plain": [
       "100"
      ]
     },
     "execution_count": 17,
     "metadata": {},
     "output_type": "execute_result"
    }
   ],
   "source": [
    "square2(10)"
   ]
  },
  {
   "cell_type": "code",
   "execution_count": 18,
   "id": "57ef924c",
   "metadata": {},
   "outputs": [
    {
     "data": {
      "text/plain": [
       "function"
      ]
     },
     "execution_count": 18,
     "metadata": {},
     "output_type": "execute_result"
    }
   ],
   "source": [
    "type(square2)"
   ]
  },
  {
   "cell_type": "code",
   "execution_count": 21,
   "id": "439e33b9",
   "metadata": {},
   "outputs": [],
   "source": [
    "sum1 = lambda x,y: x+y"
   ]
  },
  {
   "cell_type": "code",
   "execution_count": 24,
   "id": "b9c6104a",
   "metadata": {},
   "outputs": [
    {
     "data": {
      "text/plain": [
       "9"
      ]
     },
     "execution_count": 24,
     "metadata": {},
     "output_type": "execute_result"
    }
   ],
   "source": [
    "sum1(4,5)"
   ]
  },
  {
   "cell_type": "code",
   "execution_count": 25,
   "id": "16c345a9",
   "metadata": {},
   "outputs": [
    {
     "data": {
      "text/plain": [
       "216"
      ]
     },
     "execution_count": 25,
     "metadata": {},
     "output_type": "execute_result"
    }
   ],
   "source": [
    "(lambda x: x**3)(6)"
   ]
  },
  {
   "cell_type": "code",
   "execution_count": 26,
   "id": "1d207c67",
   "metadata": {},
   "outputs": [],
   "source": [
    "# Anonymous Function"
   ]
  },
  {
   "cell_type": "code",
   "execution_count": 27,
   "id": "f686a5e2",
   "metadata": {},
   "outputs": [],
   "source": [
    "# if condition:\n",
    "#     value_if_true\n",
    "# else:\n",
    "#     value_if_false\n",
    "\n",
    "# value_if_true if condition else value_if_false"
   ]
  },
  {
   "cell_type": "code",
   "execution_count": 30,
   "id": "13042a5a",
   "metadata": {},
   "outputs": [],
   "source": [
    "y = 5 if 4>5 else 10\n",
    "# ternary operator"
   ]
  },
  {
   "cell_type": "code",
   "execution_count": 29,
   "id": "b0852cc8",
   "metadata": {},
   "outputs": [
    {
     "data": {
      "text/plain": [
       "10"
      ]
     },
     "execution_count": 29,
     "metadata": {},
     "output_type": "execute_result"
    }
   ],
   "source": [
    "y"
   ]
  },
  {
   "cell_type": "code",
   "execution_count": 34,
   "id": "d4510c00",
   "metadata": {},
   "outputs": [
    {
     "data": {
      "text/plain": [
       "1"
      ]
     },
     "execution_count": 34,
     "metadata": {},
     "output_type": "execute_result"
    }
   ],
   "source": [
    "(lambda x: x+1 if x<10 else x+3)(0)"
   ]
  },
  {
   "cell_type": "code",
   "execution_count": 36,
   "id": "34df5834",
   "metadata": {},
   "outputs": [
    {
     "data": {
      "text/plain": [
       "6"
      ]
     },
     "execution_count": 36,
     "metadata": {},
     "output_type": "execute_result"
    }
   ],
   "source": [
    "(lambda x,y : x if x >=y else y)(5,6)"
   ]
  },
  {
   "cell_type": "code",
   "execution_count": 53,
   "id": "c5822218",
   "metadata": {},
   "outputs": [],
   "source": [
    "students = [\n",
    "    {'name': 'A', 'marks': 60, \"additional\": 345},\n",
    "    {'name': 'B', 'marks': 30},\n",
    "    {'marks': 100},\n",
    "    {'name': 'D', 'marks': 90},\n",
    "    {'name': 'E', 'marks': 70},\n",
    "]"
   ]
  },
  {
   "cell_type": "code",
   "execution_count": 47,
   "id": "155e5d44",
   "metadata": {},
   "outputs": [],
   "source": [
    "sorted?"
   ]
  },
  {
   "cell_type": "code",
   "execution_count": 48,
   "id": "6927aefc",
   "metadata": {},
   "outputs": [
    {
     "ename": "TypeError",
     "evalue": "'<' not supported between instances of 'dict' and 'dict'",
     "output_type": "error",
     "traceback": [
      "\u001b[0;31m---------------------------------------------------------------------------\u001b[0m",
      "\u001b[0;31mTypeError\u001b[0m                                 Traceback (most recent call last)",
      "\u001b[0;32m/var/folders/nn/c52y0d3j0gq59dpsswchkt2r0000gn/T/ipykernel_31031/645918957.py\u001b[0m in \u001b[0;36m<module>\u001b[0;34m\u001b[0m\n\u001b[0;32m----> 1\u001b[0;31m \u001b[0msorted\u001b[0m\u001b[0;34m(\u001b[0m\u001b[0mstudents\u001b[0m\u001b[0;34m)\u001b[0m\u001b[0;34m\u001b[0m\u001b[0;34m\u001b[0m\u001b[0m\n\u001b[0m",
      "\u001b[0;31mTypeError\u001b[0m: '<' not supported between instances of 'dict' and 'dict'"
     ]
    }
   ],
   "source": [
    "sorted(students)"
   ]
  },
  {
   "cell_type": "code",
   "execution_count": 49,
   "id": "0633d3f5",
   "metadata": {},
   "outputs": [
    {
     "data": {
      "text/plain": [
       "[{'name': 'B', 'marks': 30},\n",
       " {'name': 'A', 'marks': 60, 'additional': 345},\n",
       " {'name': 'E', 'marks': 70},\n",
       " {'name': 'D', 'marks': 90},\n",
       " {'name': 'C', 'marks': 100}]"
      ]
     },
     "execution_count": 49,
     "metadata": {},
     "output_type": "execute_result"
    }
   ],
   "source": [
    "sorted(students, key = lambda x: x[\"marks\"])"
   ]
  },
  {
   "cell_type": "code",
   "execution_count": 114,
   "id": "301c74e1",
   "metadata": {},
   "outputs": [],
   "source": [
    "# for i in range(len(students)):\n",
    "#     for j in range(1, len(students)):\n",
    "#         students[i][\"marks\"] > students[j][\"marks\"]\n",
    "#         swap students[i] and students[j]"
   ]
  },
  {
   "cell_type": "code",
   "execution_count": null,
   "id": "03c6adb5",
   "metadata": {},
   "outputs": [],
   "source": []
  },
  {
   "cell_type": "code",
   "execution_count": null,
   "id": "477d5dde",
   "metadata": {},
   "outputs": [],
   "source": []
  },
  {
   "cell_type": "code",
   "execution_count": null,
   "id": "ae66365d",
   "metadata": {},
   "outputs": [],
   "source": []
  },
  {
   "cell_type": "code",
   "execution_count": 44,
   "id": "9690362a",
   "metadata": {
    "scrolled": true
   },
   "outputs": [
    {
     "name": "stdout",
     "output_type": "stream",
     "text": [
      "{'name': 'A', 'marks': 60}\n",
      "{'name': 'B', 'marks': 30}\n",
      "{'name': 'C', 'marks': 100}\n",
      "{'name': 'D', 'marks': 90}\n",
      "{'name': 'E', 'marks': 70}\n"
     ]
    }
   ],
   "source": [
    "for i in students:\n",
    "    print(i)"
   ]
  },
  {
   "cell_type": "code",
   "execution_count": 54,
   "id": "69f051d8",
   "metadata": {},
   "outputs": [
    {
     "ename": "KeyError",
     "evalue": "'name'",
     "output_type": "error",
     "traceback": [
      "\u001b[0;31m---------------------------------------------------------------------------\u001b[0m",
      "\u001b[0;31mKeyError\u001b[0m                                  Traceback (most recent call last)",
      "\u001b[0;32m/var/folders/nn/c52y0d3j0gq59dpsswchkt2r0000gn/T/ipykernel_31031/131700006.py\u001b[0m in \u001b[0;36m<module>\u001b[0;34m\u001b[0m\n\u001b[0;32m----> 1\u001b[0;31m \u001b[0msorted\u001b[0m\u001b[0;34m(\u001b[0m\u001b[0mstudents\u001b[0m\u001b[0;34m,\u001b[0m \u001b[0mkey\u001b[0m \u001b[0;34m=\u001b[0m \u001b[0;32mlambda\u001b[0m \u001b[0mx\u001b[0m\u001b[0;34m:\u001b[0m \u001b[0mx\u001b[0m\u001b[0;34m[\u001b[0m\u001b[0;34m\"name\"\u001b[0m\u001b[0;34m]\u001b[0m\u001b[0;34m,\u001b[0m \u001b[0mreverse\u001b[0m \u001b[0;34m=\u001b[0m \u001b[0;32mTrue\u001b[0m\u001b[0;34m)\u001b[0m\u001b[0;34m\u001b[0m\u001b[0;34m\u001b[0m\u001b[0m\n\u001b[0m",
      "\u001b[0;32m/var/folders/nn/c52y0d3j0gq59dpsswchkt2r0000gn/T/ipykernel_31031/131700006.py\u001b[0m in \u001b[0;36m<lambda>\u001b[0;34m(x)\u001b[0m\n\u001b[0;32m----> 1\u001b[0;31m \u001b[0msorted\u001b[0m\u001b[0;34m(\u001b[0m\u001b[0mstudents\u001b[0m\u001b[0;34m,\u001b[0m \u001b[0mkey\u001b[0m \u001b[0;34m=\u001b[0m \u001b[0;32mlambda\u001b[0m \u001b[0mx\u001b[0m\u001b[0;34m:\u001b[0m \u001b[0mx\u001b[0m\u001b[0;34m[\u001b[0m\u001b[0;34m\"name\"\u001b[0m\u001b[0;34m]\u001b[0m\u001b[0;34m,\u001b[0m \u001b[0mreverse\u001b[0m \u001b[0;34m=\u001b[0m \u001b[0;32mTrue\u001b[0m\u001b[0;34m)\u001b[0m\u001b[0;34m\u001b[0m\u001b[0;34m\u001b[0m\u001b[0m\n\u001b[0m",
      "\u001b[0;31mKeyError\u001b[0m: 'name'"
     ]
    }
   ],
   "source": [
    "sorted(students, key = lambda x: x[\"name\"], reverse = True)"
   ]
  },
  {
   "cell_type": "markdown",
   "id": "97f19049",
   "metadata": {},
   "source": [
    "## Higher Order Functions"
   ]
  },
  {
   "cell_type": "code",
   "execution_count": 55,
   "id": "40c89bc4",
   "metadata": {},
   "outputs": [],
   "source": [
    "def random():\n",
    "    masti = \"sasti\"\n",
    "    \n",
    "    return masti"
   ]
  },
  {
   "cell_type": "code",
   "execution_count": 65,
   "id": "9a7721f7",
   "metadata": {},
   "outputs": [],
   "source": [
    "def gen_exp(n):\n",
    "    def exp(x):\n",
    "        return x*m**n\n",
    "    \n",
    "    return exp"
   ]
  },
  {
   "cell_type": "code",
   "execution_count": 66,
   "id": "d6698266",
   "metadata": {},
   "outputs": [],
   "source": [
    "square = gen_exp(2,5)"
   ]
  },
  {
   "cell_type": "code",
   "execution_count": 63,
   "id": "2726a00c",
   "metadata": {},
   "outputs": [
    {
     "name": "stdout",
     "output_type": "stream",
     "text": [
      "<function gen_exp.<locals>.exp at 0x7ff4980fd4c0>\n"
     ]
    }
   ],
   "source": [
    "print(square)"
   ]
  },
  {
   "cell_type": "code",
   "execution_count": 58,
   "id": "3786326a",
   "metadata": {},
   "outputs": [
    {
     "data": {
      "text/plain": [
       "function"
      ]
     },
     "execution_count": 58,
     "metadata": {},
     "output_type": "execute_result"
    }
   ],
   "source": [
    "type(square)"
   ]
  },
  {
   "cell_type": "code",
   "execution_count": 59,
   "id": "9fd7f8fa",
   "metadata": {},
   "outputs": [
    {
     "data": {
      "text/plain": [
       "4"
      ]
     },
     "execution_count": 59,
     "metadata": {},
     "output_type": "execute_result"
    }
   ],
   "source": [
    "square(2)"
   ]
  },
  {
   "cell_type": "code",
   "execution_count": 60,
   "id": "720ed90f",
   "metadata": {},
   "outputs": [],
   "source": [
    "cube = gen_exp(3)"
   ]
  },
  {
   "cell_type": "code",
   "execution_count": 61,
   "id": "43f2cba3",
   "metadata": {},
   "outputs": [
    {
     "data": {
      "text/plain": [
       "27"
      ]
     },
     "execution_count": 61,
     "metadata": {},
     "output_type": "execute_result"
    }
   ],
   "source": [
    "cube(3)"
   ]
  },
  {
   "cell_type": "code",
   "execution_count": 62,
   "id": "637c049c",
   "metadata": {},
   "outputs": [
    {
     "name": "stdout",
     "output_type": "stream",
     "text": [
      "<function gen_exp at 0x7ff44801e280>\n"
     ]
    }
   ],
   "source": [
    "print(gen_exp)"
   ]
  },
  {
   "cell_type": "code",
   "execution_count": 67,
   "id": "dfaa243b",
   "metadata": {},
   "outputs": [],
   "source": [
    "def s(text):\n",
    "    return text.upper()"
   ]
  },
  {
   "cell_type": "code",
   "execution_count": 68,
   "id": "6e1da490",
   "metadata": {},
   "outputs": [],
   "source": [
    "random = \"something\""
   ]
  },
  {
   "cell_type": "code",
   "execution_count": 69,
   "id": "33ab652f",
   "metadata": {},
   "outputs": [],
   "source": [
    "randomest = s(random)"
   ]
  },
  {
   "cell_type": "code",
   "execution_count": 70,
   "id": "ee80dfff",
   "metadata": {},
   "outputs": [
    {
     "data": {
      "text/plain": [
       "'SOMETHING'"
      ]
     },
     "execution_count": 70,
     "metadata": {},
     "output_type": "execute_result"
    }
   ],
   "source": [
    "randomest"
   ]
  },
  {
   "cell_type": "markdown",
   "id": "7227ffbe",
   "metadata": {},
   "source": [
    "## Decorators"
   ]
  },
  {
   "cell_type": "code",
   "execution_count": 75,
   "id": "e36ce42f",
   "metadata": {},
   "outputs": [],
   "source": [
    "def foo():\n",
    "    print(\"-\"*15)\n",
    "    print(\"Heya tired people!\")\n",
    "    print(\"-\"*15)"
   ]
  },
  {
   "cell_type": "code",
   "execution_count": 76,
   "id": "d14df22b",
   "metadata": {},
   "outputs": [
    {
     "name": "stdout",
     "output_type": "stream",
     "text": [
      "---------------\n",
      "Heya tired people!\n",
      "---------------\n"
     ]
    }
   ],
   "source": [
    "foo()"
   ]
  },
  {
   "cell_type": "code",
   "execution_count": 81,
   "id": "1d4dabe0",
   "metadata": {},
   "outputs": [],
   "source": [
    "def bar():\n",
    "    print(\"-\"*15) # do something before\n",
    "    print(\"Heya alive people!\")\n",
    "    print(\"-\"*15) # do something after"
   ]
  },
  {
   "cell_type": "code",
   "execution_count": 82,
   "id": "57734969",
   "metadata": {},
   "outputs": [
    {
     "name": "stdout",
     "output_type": "stream",
     "text": [
      "---------------\n",
      "Heya alive people!\n",
      "---------------\n"
     ]
    }
   ],
   "source": [
    "bar()"
   ]
  },
  {
   "cell_type": "code",
   "execution_count": 83,
   "id": "45806dad",
   "metadata": {},
   "outputs": [],
   "source": [
    "# Redundancy in code here?"
   ]
  },
  {
   "cell_type": "code",
   "execution_count": 104,
   "id": "1da1b32d",
   "metadata": {},
   "outputs": [],
   "source": [
    "def pretty_printer(func):\n",
    "    def wrapper():\n",
    "        print(\"-\"*15)\n",
    "        func()\n",
    "        print(\"-\"*15)\n",
    "    \n",
    "    return wrapper"
   ]
  },
  {
   "cell_type": "code",
   "execution_count": 99,
   "id": "9c69f2df",
   "metadata": {},
   "outputs": [],
   "source": [
    "def foo(x):\n",
    "    print(\"Heya tired people!\", x)"
   ]
  },
  {
   "cell_type": "code",
   "execution_count": 100,
   "id": "98bbb294",
   "metadata": {},
   "outputs": [],
   "source": [
    "decorated_foo = pretty_printer(foo)"
   ]
  },
  {
   "cell_type": "code",
   "execution_count": 101,
   "id": "5c842c1b",
   "metadata": {},
   "outputs": [
    {
     "name": "stdout",
     "output_type": "stream",
     "text": [
      "---------------\n",
      "Heya tired people! 45\n",
      "---------------\n"
     ]
    }
   ],
   "source": [
    "decorated_foo(45)"
   ]
  },
  {
   "cell_type": "code",
   "execution_count": 90,
   "id": "30d5c385",
   "metadata": {},
   "outputs": [],
   "source": [
    "def bar():\n",
    "    print(\"Heya alive people!\")"
   ]
  },
  {
   "cell_type": "code",
   "execution_count": 91,
   "id": "0593f821",
   "metadata": {},
   "outputs": [],
   "source": [
    "decorated_bar = pretty_printer(bar)"
   ]
  },
  {
   "cell_type": "code",
   "execution_count": 92,
   "id": "61d4f619",
   "metadata": {},
   "outputs": [
    {
     "name": "stdout",
     "output_type": "stream",
     "text": [
      "---------------\n",
      "Heya alive people!\n",
      "---------------\n"
     ]
    }
   ],
   "source": [
    "decorated_bar()"
   ]
  },
  {
   "cell_type": "code",
   "execution_count": 107,
   "id": "a1cec1af",
   "metadata": {},
   "outputs": [],
   "source": [
    "@pretty_printer\n",
    "def bar():\n",
    "    print(\"random stuff!\")\n",
    "\n",
    "# a simpler syntax for defining functions using decorators in python"
   ]
  },
  {
   "cell_type": "code",
   "execution_count": 106,
   "id": "6da75f86",
   "metadata": {},
   "outputs": [
    {
     "name": "stdout",
     "output_type": "stream",
     "text": [
      "---------------\n",
      "random stuff!\n",
      "---------------\n"
     ]
    }
   ],
   "source": [
    "bar()"
   ]
  },
  {
   "cell_type": "code",
   "execution_count": 108,
   "id": "1a99360c",
   "metadata": {},
   "outputs": [],
   "source": [
    "def something():\n",
    "    print(\"what?\")"
   ]
  },
  {
   "cell_type": "code",
   "execution_count": 109,
   "id": "a9a8ee27",
   "metadata": {},
   "outputs": [],
   "source": [
    "def run_something(func):\n",
    "    func()"
   ]
  },
  {
   "cell_type": "code",
   "execution_count": 110,
   "id": "f6178874",
   "metadata": {},
   "outputs": [
    {
     "name": "stdout",
     "output_type": "stream",
     "text": [
      "what?\n"
     ]
    }
   ],
   "source": [
    "run_something(something)"
   ]
  },
  {
   "cell_type": "code",
   "execution_count": 115,
   "id": "096e483a",
   "metadata": {},
   "outputs": [],
   "source": [
    "def pretty_printer(func):\n",
    "    def wrapper(x):\n",
    "        print(\"-\"*15)\n",
    "        func(x)\n",
    "        print(\"-\"*15)\n",
    "    \n",
    "    return wrapper"
   ]
  },
  {
   "cell_type": "code",
   "execution_count": 116,
   "id": "fc5d4c9a",
   "metadata": {},
   "outputs": [],
   "source": [
    "def foo(x):\n",
    "    print(\"Heya tired people!\", x)"
   ]
  },
  {
   "cell_type": "code",
   "execution_count": 117,
   "id": "1f4545b8",
   "metadata": {},
   "outputs": [],
   "source": [
    "decorated_foo = pretty_printer(foo)"
   ]
  },
  {
   "cell_type": "code",
   "execution_count": 118,
   "id": "8277b1ab",
   "metadata": {},
   "outputs": [
    {
     "name": "stdout",
     "output_type": "stream",
     "text": [
      "---------------\n",
      "Heya tired people! 5\n",
      "---------------\n"
     ]
    }
   ],
   "source": [
    "decorated_foo(5)"
   ]
  },
  {
   "cell_type": "code",
   "execution_count": null,
   "id": "df6edc9d",
   "metadata": {},
   "outputs": [],
   "source": []
  }
 ],
 "metadata": {
  "kernelspec": {
   "display_name": "Python 3 (ipykernel)",
   "language": "python",
   "name": "python3"
  },
  "language_info": {
   "codemirror_mode": {
    "name": "ipython",
    "version": 3
   },
   "file_extension": ".py",
   "mimetype": "text/x-python",
   "name": "python",
   "nbconvert_exporter": "python",
   "pygments_lexer": "ipython3",
   "version": "3.9.5"
  }
 },
 "nbformat": 4,
 "nbformat_minor": 5
}
