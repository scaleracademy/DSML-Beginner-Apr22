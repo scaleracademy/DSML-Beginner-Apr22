{
 "cells": [
  {
   "cell_type": "code",
   "execution_count": 2,
   "id": "a971fd84",
   "metadata": {},
   "outputs": [],
   "source": [
    "# Functions can be stored as values"
   ]
  },
  {
   "cell_type": "code",
   "execution_count": 3,
   "id": "1b964933",
   "metadata": {},
   "outputs": [],
   "source": [
    "d1 = {\n",
    "    \"key\": \"value\"\n",
    "}"
   ]
  },
  {
   "cell_type": "code",
   "execution_count": 4,
   "id": "45004c2a",
   "metadata": {},
   "outputs": [],
   "source": [
    "def square(x):\n",
    "    return x**2\n",
    "\n",
    "def cube(x):\n",
    "    return x**3"
   ]
  },
  {
   "cell_type": "code",
   "execution_count": 5,
   "id": "3dca2289",
   "metadata": {},
   "outputs": [],
   "source": [
    "funcs = {\n",
    "    \"square\": square,\n",
    "    \"cube\": cube\n",
    "}"
   ]
  },
  {
   "cell_type": "code",
   "execution_count": 6,
   "id": "9e133555",
   "metadata": {},
   "outputs": [
    {
     "data": {
      "text/plain": [
       "function"
      ]
     },
     "execution_count": 6,
     "metadata": {},
     "output_type": "execute_result"
    }
   ],
   "source": [
    "type(funcs[\"square\"])"
   ]
  },
  {
   "cell_type": "code",
   "execution_count": 7,
   "id": "d03692d7",
   "metadata": {},
   "outputs": [
    {
     "data": {
      "text/plain": [
       "100"
      ]
     },
     "execution_count": 7,
     "metadata": {},
     "output_type": "execute_result"
    }
   ],
   "source": [
    "funcs[\"square\"](10)"
   ]
  },
  {
   "cell_type": "code",
   "execution_count": 8,
   "id": "429bcd58",
   "metadata": {},
   "outputs": [],
   "source": [
    "# Three principles of Functional programming"
   ]
  },
  {
   "cell_type": "code",
   "execution_count": 9,
   "id": "7424c9ae",
   "metadata": {},
   "outputs": [],
   "source": [
    "x = 5"
   ]
  },
  {
   "cell_type": "code",
   "execution_count": 10,
   "id": "d4096bcd",
   "metadata": {},
   "outputs": [],
   "source": [
    "x = 2*x"
   ]
  },
  {
   "cell_type": "code",
   "execution_count": 11,
   "id": "0fe6ef13",
   "metadata": {},
   "outputs": [],
   "source": [
    "x += 1"
   ]
  },
  {
   "cell_type": "code",
   "execution_count": 12,
   "id": "f0f468b3",
   "metadata": {},
   "outputs": [],
   "source": [
    "# This approach does not allow us to track values as they are changed"
   ]
  },
  {
   "cell_type": "code",
   "execution_count": 13,
   "id": "e3331e8b",
   "metadata": {},
   "outputs": [],
   "source": [
    "x = 5\n",
    "x1 = 2 * x\n",
    "x2 = x1 + 1"
   ]
  },
  {
   "cell_type": "code",
   "execution_count": 14,
   "id": "8211b01d",
   "metadata": {},
   "outputs": [],
   "source": [
    "x = 5"
   ]
  },
  {
   "cell_type": "code",
   "execution_count": 19,
   "id": "2afbc970",
   "metadata": {},
   "outputs": [],
   "source": [
    "def mutation_1(x):\n",
    "    x = 2*x\n",
    "    x += 1\n",
    "    \n",
    "    return x"
   ]
  },
  {
   "cell_type": "code",
   "execution_count": 20,
   "id": "1f4dca91",
   "metadata": {},
   "outputs": [],
   "source": [
    "x1 = mutation_1(x)"
   ]
  },
  {
   "cell_type": "code",
   "execution_count": 21,
   "id": "98d9ed6d",
   "metadata": {},
   "outputs": [
    {
     "data": {
      "text/plain": [
       "5"
      ]
     },
     "execution_count": 21,
     "metadata": {},
     "output_type": "execute_result"
    }
   ],
   "source": [
    "x"
   ]
  },
  {
   "cell_type": "code",
   "execution_count": 22,
   "id": "b09a4504",
   "metadata": {
    "scrolled": true
   },
   "outputs": [
    {
     "data": {
      "text/plain": [
       "11"
      ]
     },
     "execution_count": 22,
     "metadata": {},
     "output_type": "execute_result"
    }
   ],
   "source": [
    "x1"
   ]
  },
  {
   "cell_type": "code",
   "execution_count": 23,
   "id": "17c99d6a",
   "metadata": {},
   "outputs": [],
   "source": [
    "# Maps"
   ]
  },
  {
   "cell_type": "code",
   "execution_count": 25,
   "id": "60106317",
   "metadata": {},
   "outputs": [],
   "source": [
    "a = [1,2,3,4]"
   ]
  },
  {
   "cell_type": "code",
   "execution_count": 26,
   "id": "4763a9b0",
   "metadata": {},
   "outputs": [],
   "source": [
    "m = map(lambda x: x**2,a)"
   ]
  },
  {
   "cell_type": "code",
   "execution_count": 27,
   "id": "49e85f70",
   "metadata": {},
   "outputs": [
    {
     "data": {
      "text/plain": [
       "<map at 0x7f9f603fa880>"
      ]
     },
     "execution_count": 27,
     "metadata": {},
     "output_type": "execute_result"
    }
   ],
   "source": [
    "m"
   ]
  },
  {
   "cell_type": "code",
   "execution_count": 28,
   "id": "94855a02",
   "metadata": {},
   "outputs": [],
   "source": [
    "m_list = list(m)"
   ]
  },
  {
   "cell_type": "code",
   "execution_count": 29,
   "id": "6b5be966",
   "metadata": {},
   "outputs": [
    {
     "data": {
      "text/plain": [
       "[1, 4, 9, 16]"
      ]
     },
     "execution_count": 29,
     "metadata": {},
     "output_type": "execute_result"
    }
   ],
   "source": [
    "m_list"
   ]
  },
  {
   "cell_type": "code",
   "execution_count": 32,
   "id": "a1614f33",
   "metadata": {},
   "outputs": [],
   "source": [
    "for i in m:\n",
    "    print(i)"
   ]
  },
  {
   "cell_type": "code",
   "execution_count": 37,
   "id": "65d2c301",
   "metadata": {},
   "outputs": [],
   "source": [
    "# Convert an array of heights into an array of sizes\n",
    "# h < 150 -> S\n",
    "# h > 150 , h < 180 -> M\n",
    "# h > 180 -> L\n",
    "\n",
    "h = [125, 150, 160, 190, 145, 175, 200, 120, 100, 160]"
   ]
  },
  {
   "cell_type": "code",
   "execution_count": 38,
   "id": "adbfe188",
   "metadata": {},
   "outputs": [],
   "source": [
    "def height_to_size_mapper(x):\n",
    "    if x < 150:\n",
    "        return \"S\"\n",
    "    elif x >= 150 and x < 180:\n",
    "        return \"M\"\n",
    "    else:\n",
    "        return \"L\""
   ]
  },
  {
   "cell_type": "code",
   "execution_count": 39,
   "id": "6efc91df",
   "metadata": {},
   "outputs": [
    {
     "data": {
      "text/plain": [
       "'L'"
      ]
     },
     "execution_count": 39,
     "metadata": {},
     "output_type": "execute_result"
    }
   ],
   "source": [
    "height_to_size_mapper(200)"
   ]
  },
  {
   "cell_type": "code",
   "execution_count": 40,
   "id": "ebdce2e7",
   "metadata": {},
   "outputs": [],
   "source": [
    "height_map = list(map(height_to_size_mapper, h))"
   ]
  },
  {
   "cell_type": "code",
   "execution_count": 41,
   "id": "8d13e172",
   "metadata": {},
   "outputs": [
    {
     "data": {
      "text/plain": [
       "['S', 'M', 'M', 'L', 'S', 'M', 'L', 'S', 'S', 'M']"
      ]
     },
     "execution_count": 41,
     "metadata": {},
     "output_type": "execute_result"
    }
   ],
   "source": [
    "height_map"
   ]
  },
  {
   "cell_type": "code",
   "execution_count": 42,
   "id": "0e8aac72",
   "metadata": {},
   "outputs": [
    {
     "data": {
      "text/plain": [
       "[125, 150, 160, 190, 145, 175, 200, 120, 100, 160]"
      ]
     },
     "execution_count": 42,
     "metadata": {},
     "output_type": "execute_result"
    }
   ],
   "source": [
    "h"
   ]
  },
  {
   "cell_type": "code",
   "execution_count": 43,
   "id": "1d2b4344",
   "metadata": {},
   "outputs": [],
   "source": [
    "# A = [1,0,1,1,1,0,0,0,1,0,1]\n",
    "# B = [0,1,1,1,0,0,0,1,0,1,1]\n",
    "\n",
    "# C -> [Individual comparisons between the elements of A and B]"
   ]
  },
  {
   "cell_type": "code",
   "execution_count": 48,
   "id": "9394b78c",
   "metadata": {},
   "outputs": [],
   "source": [
    "A = [1,2,3,4]\n",
    "B = [1,2,3]\n",
    "\n",
    "C = list(map(lambda x, y: x+y, A, B))"
   ]
  },
  {
   "cell_type": "code",
   "execution_count": 49,
   "id": "18ae311a",
   "metadata": {},
   "outputs": [
    {
     "data": {
      "text/plain": [
       "[2, 4, 6]"
      ]
     },
     "execution_count": 49,
     "metadata": {},
     "output_type": "execute_result"
    }
   ],
   "source": [
    "C"
   ]
  },
  {
   "cell_type": "code",
   "execution_count": 50,
   "id": "3465641b",
   "metadata": {},
   "outputs": [],
   "source": [
    "# Filters"
   ]
  },
  {
   "cell_type": "code",
   "execution_count": 51,
   "id": "49887db7",
   "metadata": {},
   "outputs": [],
   "source": [
    "a = list(range(1,11))"
   ]
  },
  {
   "cell_type": "code",
   "execution_count": 52,
   "id": "acae9b32",
   "metadata": {},
   "outputs": [
    {
     "data": {
      "text/plain": [
       "[1, 2, 3, 4, 5, 6, 7, 8, 9, 10]"
      ]
     },
     "execution_count": 52,
     "metadata": {},
     "output_type": "execute_result"
    }
   ],
   "source": [
    "a"
   ]
  },
  {
   "cell_type": "code",
   "execution_count": 57,
   "id": "0c83529f",
   "metadata": {},
   "outputs": [],
   "source": [
    "f = filter(lambda x: x%2==0, a)\n",
    "# condition and data"
   ]
  },
  {
   "cell_type": "code",
   "execution_count": 58,
   "id": "b2dfd596",
   "metadata": {},
   "outputs": [
    {
     "data": {
      "text/plain": [
       "<filter at 0x7f9f41aec160>"
      ]
     },
     "execution_count": 58,
     "metadata": {},
     "output_type": "execute_result"
    }
   ],
   "source": [
    "f"
   ]
  },
  {
   "cell_type": "code",
   "execution_count": 59,
   "id": "76afa1a4",
   "metadata": {},
   "outputs": [],
   "source": [
    "f_list = list(f)"
   ]
  },
  {
   "cell_type": "code",
   "execution_count": 60,
   "id": "6001f3bc",
   "metadata": {},
   "outputs": [
    {
     "data": {
      "text/plain": [
       "[2, 4, 6, 8, 10]"
      ]
     },
     "execution_count": 60,
     "metadata": {},
     "output_type": "execute_result"
    }
   ],
   "source": [
    "f_list"
   ]
  },
  {
   "cell_type": "code",
   "execution_count": 62,
   "id": "90841e64",
   "metadata": {},
   "outputs": [
    {
     "data": {
      "text/plain": [
       "[1, 2, 3, 4, 5, 6, 7, 8, 9, 10]"
      ]
     },
     "execution_count": 62,
     "metadata": {},
     "output_type": "execute_result"
    }
   ],
   "source": [
    "a"
   ]
  },
  {
   "cell_type": "code",
   "execution_count": 66,
   "id": "2aed9cf0",
   "metadata": {},
   "outputs": [],
   "source": [
    "def cdn(x):\n",
    "    if x.count('@')==1:\n",
    "        a,b = x.split('@')\n",
    "        \n",
    "        print(a)\n",
    "        print(b)\n",
    "        \n",
    "        if len(a)<= 20 and len(b)>0:\n",
    "            return True\n",
    "        \n",
    "        return False"
   ]
  },
  {
   "cell_type": "code",
   "execution_count": 67,
   "id": "b86bebfb",
   "metadata": {},
   "outputs": [],
   "source": [
    "EMAIL = \"bipinkalra@gmail.com\""
   ]
  },
  {
   "cell_type": "code",
   "execution_count": 68,
   "id": "144aa0a9",
   "metadata": {},
   "outputs": [
    {
     "name": "stdout",
     "output_type": "stream",
     "text": [
      "bipinkalra\n",
      "gmail.com\n"
     ]
    },
    {
     "data": {
      "text/plain": [
       "True"
      ]
     },
     "execution_count": 68,
     "metadata": {},
     "output_type": "execute_result"
    }
   ],
   "source": [
    "cdn(EMAIL)"
   ]
  },
  {
   "cell_type": "code",
   "execution_count": 69,
   "id": "60e65cd2",
   "metadata": {},
   "outputs": [
    {
     "ename": "NameError",
     "evalue": "name 'l1' is not defined",
     "output_type": "error",
     "traceback": [
      "\u001b[0;31m---------------------------------------------------------------------------\u001b[0m",
      "\u001b[0;31mNameError\u001b[0m                                 Traceback (most recent call last)",
      "\u001b[0;32m/var/folders/nn/c52y0d3j0gq59dpsswchkt2r0000gn/T/ipykernel_38338/2585568370.py\u001b[0m in \u001b[0;36m<module>\u001b[0;34m\u001b[0m\n\u001b[0;32m----> 1\u001b[0;31m \u001b[0ml1\u001b[0m\u001b[0;34m\u001b[0m\u001b[0;34m\u001b[0m\u001b[0m\n\u001b[0m",
      "\u001b[0;31mNameError\u001b[0m: name 'l1' is not defined"
     ]
    }
   ],
   "source": [
    "l1"
   ]
  },
  {
   "cell_type": "code",
   "execution_count": 70,
   "id": "616d9ea7",
   "metadata": {},
   "outputs": [],
   "source": [
    "# [cdn(x) for x in l1]"
   ]
  },
  {
   "cell_type": "code",
   "execution_count": 71,
   "id": "13c2ac74",
   "metadata": {},
   "outputs": [],
   "source": [
    "# Reduce"
   ]
  },
  {
   "cell_type": "code",
   "execution_count": 72,
   "id": "7dbd3b5f",
   "metadata": {},
   "outputs": [],
   "source": [
    "from functools import reduce"
   ]
  },
  {
   "cell_type": "code",
   "execution_count": 81,
   "id": "f99dbf30",
   "metadata": {},
   "outputs": [],
   "source": [
    "a = [1,2,3,4,5,6,7,8,9]"
   ]
  },
  {
   "cell_type": "code",
   "execution_count": 85,
   "id": "a63f9405",
   "metadata": {},
   "outputs": [],
   "source": [
    "r = reduce(lambda x, y: x+y, a)"
   ]
  },
  {
   "cell_type": "code",
   "execution_count": 86,
   "id": "be823f24",
   "metadata": {},
   "outputs": [
    {
     "data": {
      "text/plain": [
       "45"
      ]
     },
     "execution_count": 86,
     "metadata": {},
     "output_type": "execute_result"
    }
   ],
   "source": [
    "r"
   ]
  },
  {
   "cell_type": "code",
   "execution_count": 94,
   "id": "c03b51a1",
   "metadata": {},
   "outputs": [],
   "source": [
    "b = [1]"
   ]
  },
  {
   "cell_type": "code",
   "execution_count": 95,
   "id": "7ca06a3f",
   "metadata": {},
   "outputs": [],
   "source": [
    "rb = reduce(lambda x, y: x+y, b)"
   ]
  },
  {
   "cell_type": "code",
   "execution_count": 96,
   "id": "af95a23b",
   "metadata": {},
   "outputs": [
    {
     "data": {
      "text/plain": [
       "1"
      ]
     },
     "execution_count": 96,
     "metadata": {},
     "output_type": "execute_result"
    }
   ],
   "source": [
    "rb"
   ]
  },
  {
   "cell_type": "code",
   "execution_count": 97,
   "id": "c759df42",
   "metadata": {},
   "outputs": [],
   "source": [
    "a = list(range(1,11))"
   ]
  },
  {
   "cell_type": "code",
   "execution_count": 98,
   "id": "6260a21b",
   "metadata": {},
   "outputs": [
    {
     "data": {
      "text/plain": [
       "[1, 2, 3, 4, 5, 6, 7, 8, 9, 10]"
      ]
     },
     "execution_count": 98,
     "metadata": {},
     "output_type": "execute_result"
    }
   ],
   "source": [
    "a"
   ]
  },
  {
   "cell_type": "code",
   "execution_count": 101,
   "id": "41aefbb5",
   "metadata": {},
   "outputs": [],
   "source": [
    "b = list(reversed(a))"
   ]
  },
  {
   "cell_type": "code",
   "execution_count": 102,
   "id": "30dbdf35",
   "metadata": {},
   "outputs": [
    {
     "data": {
      "text/plain": [
       "[10, 9, 8, 7, 6, 5, 4, 3, 2, 1]"
      ]
     },
     "execution_count": 102,
     "metadata": {},
     "output_type": "execute_result"
    }
   ],
   "source": [
    "b"
   ]
  },
  {
   "cell_type": "code",
   "execution_count": 103,
   "id": "4daecb01",
   "metadata": {},
   "outputs": [
    {
     "name": "stdout",
     "output_type": "stream",
     "text": [
      "True\n"
     ]
    }
   ],
   "source": [
    "print(reduce(lambda x,y: x*y, a) == reduce(lambda x,y: x*y, b))"
   ]
  },
  {
   "cell_type": "code",
   "execution_count": 104,
   "id": "1c69b9e2",
   "metadata": {},
   "outputs": [],
   "source": [
    "# Calc the max element in this list without using max"
   ]
  },
  {
   "cell_type": "code",
   "execution_count": 105,
   "id": "daf034a1",
   "metadata": {},
   "outputs": [
    {
     "data": {
      "text/plain": [
       "10"
      ]
     },
     "execution_count": 105,
     "metadata": {},
     "output_type": "execute_result"
    }
   ],
   "source": [
    "reduce(lambda x,y : x if x > y else y ,a)"
   ]
  },
  {
   "cell_type": "code",
   "execution_count": 112,
   "id": "50e78592",
   "metadata": {},
   "outputs": [],
   "source": [
    "a = [1,2,3,4,5]\n",
    "b = [\"a\", \"b\", \"c\"]\n",
    "d = [98,99,100]"
   ]
  },
  {
   "cell_type": "code",
   "execution_count": 113,
   "id": "55da94c6",
   "metadata": {},
   "outputs": [],
   "source": [
    "c = list(zip(a,b,d))"
   ]
  },
  {
   "cell_type": "code",
   "execution_count": 114,
   "id": "4aa6e77e",
   "metadata": {},
   "outputs": [
    {
     "data": {
      "text/plain": [
       "[(1, 'a', 98), (2, 'b', 99), (3, 'c', 100)]"
      ]
     },
     "execution_count": 114,
     "metadata": {},
     "output_type": "execute_result"
    }
   ],
   "source": [
    "c"
   ]
  },
  {
   "cell_type": "code",
   "execution_count": 120,
   "id": "134632d2",
   "metadata": {},
   "outputs": [],
   "source": [
    "def say_name_penny():\n",
    "    print(\"knock knock knock\") # something before\n",
    "    print(\"penny\")\n",
    "    print(\"pause for 3 seconds\") # something after"
   ]
  },
  {
   "cell_type": "code",
   "execution_count": 123,
   "id": "3d4b48e9",
   "metadata": {},
   "outputs": [
    {
     "name": "stdout",
     "output_type": "stream",
     "text": [
      "knock knock knock\n",
      "penny\n",
      "pause for 3 seconds\n"
     ]
    }
   ],
   "source": [
    "say_name_penny()"
   ]
  },
  {
   "cell_type": "code",
   "execution_count": 124,
   "id": "12346a12",
   "metadata": {},
   "outputs": [],
   "source": [
    "def say_name_leonard():\n",
    "    print(\"leonard\")"
   ]
  },
  {
   "cell_type": "code",
   "execution_count": 125,
   "id": "d6684119",
   "metadata": {},
   "outputs": [],
   "source": [
    "def sheldon_knock(func):\n",
    "    def wrapper():\n",
    "        print(\"knock knock knock\") # something before\n",
    "        func()\n",
    "        print(\"pause for 3 seconds\") # something after\n",
    "    \n",
    "    return wrapper"
   ]
  },
  {
   "cell_type": "code",
   "execution_count": 126,
   "id": "335be0ec",
   "metadata": {},
   "outputs": [],
   "source": [
    "@sheldon_knock\n",
    "def say_name_penny():\n",
    "    print(\"penny\")"
   ]
  },
  {
   "cell_type": "code",
   "execution_count": 127,
   "id": "c6b4fa09",
   "metadata": {},
   "outputs": [
    {
     "name": "stdout",
     "output_type": "stream",
     "text": [
      "knock knock knock\n",
      "penny\n",
      "pause for 3 seconds\n"
     ]
    }
   ],
   "source": [
    "say_name_penny()"
   ]
  },
  {
   "cell_type": "code",
   "execution_count": 133,
   "id": "de195a37",
   "metadata": {},
   "outputs": [],
   "source": [
    "def random(a,num):\n",
    "    a.append(num)\n",
    "    num -= 4\n",
    "    \n",
    "    print(num)"
   ]
  },
  {
   "cell_type": "code",
   "execution_count": 134,
   "id": "dad806d4",
   "metadata": {},
   "outputs": [],
   "source": [
    "a = [1,2,3,4]\n",
    "num = 4"
   ]
  },
  {
   "cell_type": "code",
   "execution_count": 135,
   "id": "f1a7ded2",
   "metadata": {},
   "outputs": [
    {
     "name": "stdout",
     "output_type": "stream",
     "text": [
      "0\n"
     ]
    }
   ],
   "source": [
    "random(a,num)"
   ]
  },
  {
   "cell_type": "code",
   "execution_count": 136,
   "id": "96754149",
   "metadata": {},
   "outputs": [
    {
     "data": {
      "text/plain": [
       "[1, 2, 3, 4, 4]"
      ]
     },
     "execution_count": 136,
     "metadata": {},
     "output_type": "execute_result"
    }
   ],
   "source": [
    "a"
   ]
  },
  {
   "cell_type": "code",
   "execution_count": 137,
   "id": "8315f830",
   "metadata": {},
   "outputs": [
    {
     "data": {
      "text/plain": [
       "4"
      ]
     },
     "execution_count": 137,
     "metadata": {},
     "output_type": "execute_result"
    }
   ],
   "source": [
    "num"
   ]
  },
  {
   "cell_type": "code",
   "execution_count": null,
   "id": "85261650",
   "metadata": {},
   "outputs": [],
   "source": []
  }
 ],
 "metadata": {
  "kernelspec": {
   "display_name": "Python 3 (ipykernel)",
   "language": "python",
   "name": "python3"
  },
  "language_info": {
   "codemirror_mode": {
    "name": "ipython",
    "version": 3
   },
   "file_extension": ".py",
   "mimetype": "text/x-python",
   "name": "python",
   "nbconvert_exporter": "python",
   "pygments_lexer": "ipython3",
   "version": "3.9.5"
  }
 },
 "nbformat": 4,
 "nbformat_minor": 5
}
