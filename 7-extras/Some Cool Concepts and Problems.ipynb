{
 "cells": [
  {
   "cell_type": "code",
   "execution_count": 8,
   "id": "542d440c",
   "metadata": {},
   "outputs": [],
   "source": [
    "class ABC:\n",
    "    pass"
   ]
  },
  {
   "cell_type": "code",
   "execution_count": 2,
   "id": "ab3402dc",
   "metadata": {},
   "outputs": [
    {
     "data": {
      "text/plain": [
       "False"
      ]
     },
     "execution_count": 2,
     "metadata": {},
     "output_type": "execute_result"
    }
   ],
   "source": [
    "ABC() == ABC()"
   ]
  },
  {
   "cell_type": "code",
   "execution_count": 3,
   "id": "88421d85",
   "metadata": {},
   "outputs": [
    {
     "data": {
      "text/plain": [
       "False"
      ]
     },
     "execution_count": 3,
     "metadata": {},
     "output_type": "execute_result"
    }
   ],
   "source": [
    "ABC() is ABC()"
   ]
  },
  {
   "cell_type": "code",
   "execution_count": 4,
   "id": "4cb520ef",
   "metadata": {},
   "outputs": [
    {
     "ename": "TypeError",
     "evalue": "unhashable type: 'list'",
     "output_type": "error",
     "traceback": [
      "\u001b[0;31m---------------------------------------------------------------------------\u001b[0m",
      "\u001b[0;31mTypeError\u001b[0m                                 Traceback (most recent call last)",
      "\u001b[0;32m/var/folders/nn/c52y0d3j0gq59dpsswchkt2r0000gn/T/ipykernel_75146/3911534130.py\u001b[0m in \u001b[0;36m<module>\u001b[0;34m\u001b[0m\n\u001b[0;32m----> 1\u001b[0;31m d1 = {\n\u001b[0m\u001b[1;32m      2\u001b[0m     \u001b[0;34m[\u001b[0m\u001b[0;36m1\u001b[0m\u001b[0;34m,\u001b[0m\u001b[0;36m2\u001b[0m\u001b[0;34m,\u001b[0m\u001b[0;36m3\u001b[0m\u001b[0;34m]\u001b[0m\u001b[0;34m:\u001b[0m \u001b[0;34m\"value\"\u001b[0m\u001b[0;34m\u001b[0m\u001b[0;34m\u001b[0m\u001b[0m\n\u001b[1;32m      3\u001b[0m }\n",
      "\u001b[0;31mTypeError\u001b[0m: unhashable type: 'list'"
     ]
    }
   ],
   "source": [
    "d1 = {\n",
    "    [1,2,3]: \"value\"\n",
    "}"
   ]
  },
  {
   "cell_type": "code",
   "execution_count": 5,
   "id": "04960064",
   "metadata": {},
   "outputs": [
    {
     "data": {
      "text/plain": [
       "True"
      ]
     },
     "execution_count": 5,
     "metadata": {},
     "output_type": "execute_result"
    }
   ],
   "source": [
    "hash(5) == hash(5)"
   ]
  },
  {
   "cell_type": "code",
   "execution_count": 6,
   "id": "1f62b4bb",
   "metadata": {},
   "outputs": [
    {
     "data": {
      "text/plain": [
       "True"
      ]
     },
     "execution_count": 6,
     "metadata": {},
     "output_type": "execute_result"
    }
   ],
   "source": [
    "hash(ABC()) == hash(ABC())"
   ]
  },
  {
   "cell_type": "code",
   "execution_count": 7,
   "id": "4a9044d8",
   "metadata": {},
   "outputs": [
    {
     "data": {
      "text/plain": [
       "True"
      ]
     },
     "execution_count": 7,
     "metadata": {},
     "output_type": "execute_result"
    }
   ],
   "source": [
    "id(ABC()) == id(ABC())"
   ]
  },
  {
   "cell_type": "code",
   "execution_count": 9,
   "id": "3258bf10",
   "metadata": {},
   "outputs": [],
   "source": [
    "class ABC:\n",
    "    def __init__(self):\n",
    "        print(\"Created\")\n",
    "        \n",
    "    def __del__(self):\n",
    "        print(\"Destroyed\")"
   ]
  },
  {
   "cell_type": "code",
   "execution_count": 10,
   "id": "9af1d13b",
   "metadata": {},
   "outputs": [
    {
     "name": "stdout",
     "output_type": "stream",
     "text": [
      "Created\n",
      "Created\n",
      "Destroyed\n",
      "Destroyed\n"
     ]
    },
    {
     "data": {
      "text/plain": [
       "False"
      ]
     },
     "execution_count": 10,
     "metadata": {},
     "output_type": "execute_result"
    }
   ],
   "source": [
    "ABC() == ABC()"
   ]
  },
  {
   "cell_type": "code",
   "execution_count": 11,
   "id": "44c77e01",
   "metadata": {},
   "outputs": [
    {
     "name": "stdout",
     "output_type": "stream",
     "text": [
      "Created\n",
      "Created\n",
      "Destroyed\n",
      "Destroyed\n"
     ]
    },
    {
     "data": {
      "text/plain": [
       "False"
      ]
     },
     "execution_count": 11,
     "metadata": {},
     "output_type": "execute_result"
    }
   ],
   "source": [
    "ABC() is ABC()"
   ]
  },
  {
   "cell_type": "code",
   "execution_count": 12,
   "id": "dd40d260",
   "metadata": {},
   "outputs": [
    {
     "name": "stdout",
     "output_type": "stream",
     "text": [
      "Created\n",
      "Destroyed\n",
      "Created\n",
      "Destroyed\n"
     ]
    },
    {
     "data": {
      "text/plain": [
       "True"
      ]
     },
     "execution_count": 12,
     "metadata": {},
     "output_type": "execute_result"
    }
   ],
   "source": [
    "hash(ABC()) == hash(ABC())"
   ]
  },
  {
   "cell_type": "code",
   "execution_count": 13,
   "id": "09d09b0c",
   "metadata": {},
   "outputs": [
    {
     "name": "stdout",
     "output_type": "stream",
     "text": [
      "Created\n",
      "Destroyed\n",
      "Created\n",
      "Destroyed\n"
     ]
    },
    {
     "data": {
      "text/plain": [
       "True"
      ]
     },
     "execution_count": 13,
     "metadata": {},
     "output_type": "execute_result"
    }
   ],
   "source": [
    "id(ABC()) == id(ABC())"
   ]
  },
  {
   "cell_type": "code",
   "execution_count": 14,
   "id": "c61782c3",
   "metadata": {},
   "outputs": [
    {
     "data": {
      "text/plain": [
       "True"
      ]
     },
     "execution_count": 14,
     "metadata": {},
     "output_type": "execute_result"
    }
   ],
   "source": [
    "hash(5) == hash(5.0) == hash(5+0j)"
   ]
  },
  {
   "cell_type": "code",
   "execution_count": 15,
   "id": "ecf9cce5",
   "metadata": {},
   "outputs": [
    {
     "data": {
      "text/plain": [
       "5"
      ]
     },
     "execution_count": 15,
     "metadata": {},
     "output_type": "execute_result"
    }
   ],
   "source": [
    "hash(5)"
   ]
  },
  {
   "cell_type": "code",
   "execution_count": 16,
   "id": "e443ebd3",
   "metadata": {},
   "outputs": [
    {
     "data": {
      "text/plain": [
       "True"
      ]
     },
     "execution_count": 16,
     "metadata": {},
     "output_type": "execute_result"
    }
   ],
   "source": [
    "isinstance(3, int)"
   ]
  },
  {
   "cell_type": "code",
   "execution_count": 17,
   "id": "b5f32052",
   "metadata": {},
   "outputs": [
    {
     "data": {
      "text/plain": [
       "True"
      ]
     },
     "execution_count": 17,
     "metadata": {},
     "output_type": "execute_result"
    }
   ],
   "source": [
    "isinstance(int, type)"
   ]
  },
  {
   "cell_type": "code",
   "execution_count": 18,
   "id": "abb4b20a",
   "metadata": {},
   "outputs": [
    {
     "data": {
      "text/plain": [
       "True"
      ]
     },
     "execution_count": 18,
     "metadata": {},
     "output_type": "execute_result"
    }
   ],
   "source": [
    "isinstance(type, object)"
   ]
  },
  {
   "cell_type": "code",
   "execution_count": 19,
   "id": "36a8033b",
   "metadata": {},
   "outputs": [
    {
     "data": {
      "text/plain": [
       "True"
      ]
     },
     "execution_count": 19,
     "metadata": {},
     "output_type": "execute_result"
    }
   ],
   "source": [
    "isinstance(object, type)"
   ]
  },
  {
   "cell_type": "code",
   "execution_count": 20,
   "id": "65506607",
   "metadata": {},
   "outputs": [],
   "source": [
    "class A:\n",
    "    pass"
   ]
  },
  {
   "cell_type": "code",
   "execution_count": 21,
   "id": "2e951470",
   "metadata": {},
   "outputs": [
    {
     "data": {
      "text/plain": [
       "False"
      ]
     },
     "execution_count": 21,
     "metadata": {},
     "output_type": "execute_result"
    }
   ],
   "source": [
    "isinstance(A, A)"
   ]
  },
  {
   "cell_type": "code",
   "execution_count": 22,
   "id": "d3971d84",
   "metadata": {},
   "outputs": [
    {
     "data": {
      "text/plain": [
       "True"
      ]
     },
     "execution_count": 22,
     "metadata": {},
     "output_type": "execute_result"
    }
   ],
   "source": [
    "isinstance(type, type)"
   ]
  },
  {
   "cell_type": "code",
   "execution_count": 23,
   "id": "e1bb2850",
   "metadata": {},
   "outputs": [
    {
     "data": {
      "text/plain": [
       "True"
      ]
     },
     "execution_count": 23,
     "metadata": {},
     "output_type": "execute_result"
    }
   ],
   "source": [
    "isinstance(object, object)"
   ]
  },
  {
   "cell_type": "code",
   "execution_count": 25,
   "id": "01878c41",
   "metadata": {},
   "outputs": [
    {
     "data": {
      "text/plain": [
       "False"
      ]
     },
     "execution_count": 25,
     "metadata": {},
     "output_type": "execute_result"
    }
   ],
   "source": [
    "isinstance(int, int)"
   ]
  },
  {
   "cell_type": "code",
   "execution_count": 26,
   "id": "b0d02058",
   "metadata": {},
   "outputs": [
    {
     "data": {
      "text/plain": [
       "True"
      ]
     },
     "execution_count": 26,
     "metadata": {},
     "output_type": "execute_result"
    }
   ],
   "source": [
    "issubclass(int, object)"
   ]
  },
  {
   "cell_type": "code",
   "execution_count": 27,
   "id": "6ebe8d5c",
   "metadata": {},
   "outputs": [
    {
     "data": {
      "text/plain": [
       "True"
      ]
     },
     "execution_count": 27,
     "metadata": {},
     "output_type": "execute_result"
    }
   ],
   "source": [
    "issubclass(type, object)"
   ]
  },
  {
   "cell_type": "code",
   "execution_count": 28,
   "id": "1111ff63",
   "metadata": {},
   "outputs": [
    {
     "data": {
      "text/plain": [
       "False"
      ]
     },
     "execution_count": 28,
     "metadata": {},
     "output_type": "execute_result"
    }
   ],
   "source": [
    "issubclass(object, type)"
   ]
  },
  {
   "cell_type": "code",
   "execution_count": 29,
   "id": "10c230fe",
   "metadata": {},
   "outputs": [],
   "source": [
    "# Point proven - object is the ultimate base class"
   ]
  },
  {
   "cell_type": "code",
   "execution_count": 37,
   "id": "3dbc0e0d",
   "metadata": {},
   "outputs": [
    {
     "data": {
      "text/plain": [
       "False"
      ]
     },
     "execution_count": 37,
     "metadata": {},
     "output_type": "execute_result"
    }
   ],
   "source": [
    "all([True, True, False, 0, \"string\"])"
   ]
  },
  {
   "cell_type": "code",
   "execution_count": 38,
   "id": "ef992784",
   "metadata": {},
   "outputs": [
    {
     "data": {
      "text/plain": [
       "True"
      ]
     },
     "execution_count": 38,
     "metadata": {},
     "output_type": "execute_result"
    }
   ],
   "source": [
    "all([])"
   ]
  },
  {
   "cell_type": "code",
   "execution_count": 39,
   "id": "6cc09625",
   "metadata": {},
   "outputs": [],
   "source": [
    "def all_definition(a):\n",
    "    for e in a:\n",
    "        if not e:\n",
    "            return False\n",
    "        \n",
    "        return True"
   ]
  },
  {
   "cell_type": "code",
   "execution_count": 40,
   "id": "1baf380d",
   "metadata": {},
   "outputs": [
    {
     "data": {
      "text/plain": [
       "False"
      ]
     },
     "execution_count": 40,
     "metadata": {},
     "output_type": "execute_result"
    }
   ],
   "source": [
    "all([[]])"
   ]
  },
  {
   "cell_type": "code",
   "execution_count": 42,
   "id": "4bf3a076",
   "metadata": {},
   "outputs": [
    {
     "name": "stdout",
     "output_type": "stream",
     "text": [
      "WALLA!\n"
     ]
    }
   ],
   "source": [
    "if [[]]:\n",
    "    print(\"WALLA!\")"
   ]
  },
  {
   "cell_type": "code",
   "execution_count": 44,
   "id": "fdde9864",
   "metadata": {},
   "outputs": [
    {
     "data": {
      "text/plain": [
       "False"
      ]
     },
     "execution_count": 44,
     "metadata": {},
     "output_type": "execute_result"
    }
   ],
   "source": [
    "all([[[]], []])"
   ]
  },
  {
   "cell_type": "code",
   "execution_count": 45,
   "id": "d51b95ac",
   "metadata": {},
   "outputs": [],
   "source": [
    "x = True\n",
    "y = False"
   ]
  },
  {
   "cell_type": "code",
   "execution_count": 46,
   "id": "3149eacf",
   "metadata": {},
   "outputs": [
    {
     "data": {
      "text/plain": [
       "True"
      ]
     },
     "execution_count": 46,
     "metadata": {},
     "output_type": "execute_result"
    }
   ],
   "source": [
    "not x == y"
   ]
  },
  {
   "cell_type": "code",
   "execution_count": 48,
   "id": "6021bb19",
   "metadata": {},
   "outputs": [
    {
     "data": {
      "text/plain": [
       "True"
      ]
     },
     "execution_count": 48,
     "metadata": {},
     "output_type": "execute_result"
    }
   ],
   "source": [
    "x == (not y)"
   ]
  },
  {
   "cell_type": "code",
   "execution_count": 49,
   "id": "bbe3882f",
   "metadata": {},
   "outputs": [],
   "source": [
    "random_list = [False, 1.0, \"string\", 3, True, [], False]\n",
    "\n",
    "integers_found = 0\n",
    "booleans_found = 0\n",
    "\n",
    "for i in random_list:\n",
    "    if isinstance(i, int):\n",
    "        integers_found += 1\n",
    "    elif isinstance(i, bool):\n",
    "        booleans_found += 1"
   ]
  },
  {
   "cell_type": "code",
   "execution_count": 51,
   "id": "098330ab",
   "metadata": {},
   "outputs": [
    {
     "data": {
      "text/plain": [
       "4"
      ]
     },
     "execution_count": 51,
     "metadata": {},
     "output_type": "execute_result"
    }
   ],
   "source": [
    "integers_found"
   ]
  },
  {
   "cell_type": "code",
   "execution_count": 52,
   "id": "d20d7db1",
   "metadata": {},
   "outputs": [
    {
     "data": {
      "text/plain": [
       "0"
      ]
     },
     "execution_count": 52,
     "metadata": {},
     "output_type": "execute_result"
    }
   ],
   "source": [
    "booleans_found"
   ]
  },
  {
   "cell_type": "code",
   "execution_count": 53,
   "id": "c4f26924",
   "metadata": {},
   "outputs": [
    {
     "data": {
      "text/plain": [
       "'random'"
      ]
     },
     "execution_count": 53,
     "metadata": {},
     "output_type": "execute_result"
    }
   ],
   "source": [
    "\"random\"*True"
   ]
  },
  {
   "cell_type": "code",
   "execution_count": 54,
   "id": "13f5cc73",
   "metadata": {},
   "outputs": [
    {
     "data": {
      "text/plain": [
       "''"
      ]
     },
     "execution_count": 54,
     "metadata": {},
     "output_type": "execute_result"
    }
   ],
   "source": [
    "\"random\"*False"
   ]
  },
  {
   "cell_type": "code",
   "execution_count": 55,
   "id": "db9e7c7f",
   "metadata": {},
   "outputs": [
    {
     "data": {
      "text/plain": [
       "''"
      ]
     },
     "execution_count": 55,
     "metadata": {},
     "output_type": "execute_result"
    }
   ],
   "source": [
    "\"random\"*0"
   ]
  },
  {
   "cell_type": "code",
   "execution_count": 57,
   "id": "27a7e345",
   "metadata": {},
   "outputs": [
    {
     "data": {
      "text/plain": [
       "True"
      ]
     },
     "execution_count": 57,
     "metadata": {},
     "output_type": "execute_result"
    }
   ],
   "source": [
    "issubclass(bool, int)"
   ]
  },
  {
   "cell_type": "code",
   "execution_count": 58,
   "id": "b555f6e2",
   "metadata": {},
   "outputs": [
    {
     "data": {
      "text/plain": [
       "True"
      ]
     },
     "execution_count": 58,
     "metadata": {},
     "output_type": "execute_result"
    }
   ],
   "source": [
    "isinstance(True, int)"
   ]
  },
  {
   "cell_type": "code",
   "execution_count": 59,
   "id": "7d6b18fb",
   "metadata": {},
   "outputs": [
    {
     "data": {
      "text/plain": [
       "1"
      ]
     },
     "execution_count": 59,
     "metadata": {},
     "output_type": "execute_result"
    }
   ],
   "source": [
    "int(True)"
   ]
  },
  {
   "cell_type": "code",
   "execution_count": 60,
   "id": "8dbebc09",
   "metadata": {},
   "outputs": [
    {
     "data": {
      "text/plain": [
       "0"
      ]
     },
     "execution_count": 60,
     "metadata": {},
     "output_type": "execute_result"
    }
   ],
   "source": [
    "int(False)"
   ]
  },
  {
   "cell_type": "code",
   "execution_count": 61,
   "id": "2ea2aa4c",
   "metadata": {},
   "outputs": [
    {
     "name": "stdout",
     "output_type": "stream",
     "text": [
      "WHAT?\n"
     ]
    }
   ],
   "source": [
    "if True == 1:\n",
    "    print(\"WHAT?\")"
   ]
  },
  {
   "cell_type": "code",
   "execution_count": 62,
   "id": "f6b13e59",
   "metadata": {},
   "outputs": [
    {
     "data": {
      "text/plain": [
       "True"
      ]
     },
     "execution_count": 62,
     "metadata": {},
     "output_type": "execute_result"
    }
   ],
   "source": [
    "bool(1)"
   ]
  },
  {
   "cell_type": "code",
   "execution_count": 63,
   "id": "cbea8a6d",
   "metadata": {},
   "outputs": [
    {
     "data": {
      "text/plain": [
       "False"
      ]
     },
     "execution_count": 63,
     "metadata": {},
     "output_type": "execute_result"
    }
   ],
   "source": [
    "bool([])"
   ]
  },
  {
   "cell_type": "code",
   "execution_count": 64,
   "id": "3933a2d7",
   "metadata": {},
   "outputs": [
    {
     "ename": "SyntaxError",
     "evalue": "cannot assign to True (1221754445.py, line 2)",
     "output_type": "error",
     "traceback": [
      "\u001b[0;36m  File \u001b[0;32m\"/var/folders/nn/c52y0d3j0gq59dpsswchkt2r0000gn/T/ipykernel_75146/1221754445.py\"\u001b[0;36m, line \u001b[0;32m2\u001b[0m\n\u001b[0;31m    True = False\u001b[0m\n\u001b[0m    ^\u001b[0m\n\u001b[0;31mSyntaxError\u001b[0m\u001b[0;31m:\u001b[0m cannot assign to True\n"
     ]
    }
   ],
   "source": [
    "def tell_truth():\n",
    "    True = False\n",
    "    \n",
    "    if True == False:\n",
    "        print(\"I HAVE LOST FAITH NOW!\")\n",
    "        \n",
    "tell_truth()"
   ]
  },
  {
   "cell_type": "code",
   "execution_count": 65,
   "id": "dae87b45",
   "metadata": {},
   "outputs": [
    {
     "data": {
      "text/plain": [
       "250"
      ]
     },
     "execution_count": 65,
     "metadata": {},
     "output_type": "execute_result"
    }
   ],
   "source": [
    "a = 1_2_5\n",
    "b = 2\n",
    "\n",
    "a*b"
   ]
  },
  {
   "cell_type": "code",
   "execution_count": 78,
   "id": "ab94b583",
   "metadata": {},
   "outputs": [],
   "source": [
    "a = [1, 2, [3,4], [[5,6], [[[[7,8], [9,0]]]]]]"
   ]
  },
  {
   "cell_type": "code",
   "execution_count": 79,
   "id": "3252f3f8",
   "metadata": {},
   "outputs": [],
   "source": [
    "def flatten(a):\n",
    "    result = []\n",
    "    \n",
    "    while a:\n",
    "        element = a.pop()\n",
    "        \n",
    "        if type(element) == list:\n",
    "            a.extend(element)\n",
    "        else:\n",
    "            result.append(element)\n",
    "      \n",
    "    result.sort()\n",
    "    return result"
   ]
  },
  {
   "cell_type": "code",
   "execution_count": 80,
   "id": "5af396b5",
   "metadata": {},
   "outputs": [
    {
     "data": {
      "text/plain": [
       "[0, 1, 2, 3, 4, 5, 6, 7, 8, 9]"
      ]
     },
     "execution_count": 80,
     "metadata": {},
     "output_type": "execute_result"
    }
   ],
   "source": [
    "flatten(a)"
   ]
  },
  {
   "cell_type": "code",
   "execution_count": 82,
   "id": "98fda3bb",
   "metadata": {},
   "outputs": [],
   "source": [
    "# cout << \"HELLO WORLD!\""
   ]
  },
  {
   "cell_type": "code",
   "execution_count": 88,
   "id": "8dc4527e",
   "metadata": {},
   "outputs": [],
   "source": [
    "class CPP:\n",
    "    def __lshift__(self, value):\n",
    "        print(value)\n",
    "        \n",
    "        return self"
   ]
  },
  {
   "cell_type": "code",
   "execution_count": 89,
   "id": "ee307c90",
   "metadata": {},
   "outputs": [],
   "source": [
    "cout = CPP()"
   ]
  },
  {
   "cell_type": "code",
   "execution_count": 90,
   "id": "11980771",
   "metadata": {},
   "outputs": [
    {
     "name": "stdout",
     "output_type": "stream",
     "text": [
      "HELLO WORLD!\n"
     ]
    },
    {
     "data": {
      "text/plain": [
       "<__main__.CPP at 0x7fdeb84478e0>"
      ]
     },
     "execution_count": 90,
     "metadata": {},
     "output_type": "execute_result"
    }
   ],
   "source": [
    "cout << \"HELLO WORLD!\""
   ]
  },
  {
   "cell_type": "code",
   "execution_count": 91,
   "id": "42e014f6",
   "metadata": {},
   "outputs": [
    {
     "name": "stdout",
     "output_type": "stream",
     "text": [
      "A\n",
      "B\n"
     ]
    },
    {
     "data": {
      "text/plain": [
       "<__main__.CPP at 0x7fdeb84478e0>"
      ]
     },
     "execution_count": 91,
     "metadata": {},
     "output_type": "execute_result"
    }
   ],
   "source": [
    "cout << \"A\" << \"B\""
   ]
  },
  {
   "cell_type": "code",
   "execution_count": 93,
   "id": "7f086807",
   "metadata": {},
   "outputs": [],
   "source": [
    "from functools import reduce\n",
    "\n",
    "a = {1,2,3}\n",
    "\n",
    "subsets = reduce(lambda P, x: P + [{x}.union(subset) for subset in P], a, [set()])\n",
    "\n",
    "# P = [set(), {1}, {2}, {2,1}]\n",
    "# List comprehension list = [{2}, {2,1}]\n",
    "# x = 2"
   ]
  },
  {
   "cell_type": "code",
   "execution_count": 94,
   "id": "7f771d17",
   "metadata": {},
   "outputs": [
    {
     "data": {
      "text/plain": [
       "[set(), {1}, {2}, {1, 2}, {3}, {1, 3}, {2, 3}, {1, 2, 3}]"
      ]
     },
     "execution_count": 94,
     "metadata": {},
     "output_type": "execute_result"
    }
   ],
   "source": [
    "subsets"
   ]
  },
  {
   "cell_type": "code",
   "execution_count": 95,
   "id": "317fa684",
   "metadata": {},
   "outputs": [],
   "source": [
    "d1 = {\n",
    "    1: \"value1\",\n",
    "    2: \"value2\",\n",
    "    3: \"value3\"\n",
    "}"
   ]
  },
  {
   "cell_type": "code",
   "execution_count": 97,
   "id": "1a4d1fda",
   "metadata": {},
   "outputs": [
    {
     "data": {
      "text/plain": [
       "True"
      ]
     },
     "execution_count": 97,
     "metadata": {},
     "output_type": "execute_result"
    }
   ],
   "source": [
    "1 in d1 # constant time operation"
   ]
  },
  {
   "cell_type": "code",
   "execution_count": 99,
   "id": "225a890b",
   "metadata": {},
   "outputs": [],
   "source": [
    "d1[4] = \"value4\" # constant time operation"
   ]
  },
  {
   "cell_type": "code",
   "execution_count": null,
   "id": "84e191f6",
   "metadata": {},
   "outputs": [],
   "source": []
  }
 ],
 "metadata": {
  "kernelspec": {
   "display_name": "Python 3 (ipykernel)",
   "language": "python",
   "name": "python3"
  },
  "language_info": {
   "codemirror_mode": {
    "name": "ipython",
    "version": 3
   },
   "file_extension": ".py",
   "mimetype": "text/x-python",
   "name": "python",
   "nbconvert_exporter": "python",
   "pygments_lexer": "ipython3",
   "version": "3.9.5"
  }
 },
 "nbformat": 4,
 "nbformat_minor": 5
}
