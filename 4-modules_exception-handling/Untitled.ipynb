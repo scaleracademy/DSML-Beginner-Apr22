{
 "cells": [
  {
   "cell_type": "code",
   "execution_count": 27,
   "id": "75f2935f",
   "metadata": {},
   "outputs": [],
   "source": [
    "class A:\n",
    "    def __init__(self, a):\n",
    "        self.a = a\n",
    "\n",
    "class B:\n",
    "    def __init__(self, b):\n",
    "        self.b = b\n",
    "\n",
    "class C(A, B):\n",
    "    def __init__(self, a, b):\n",
    "#         A.__init__(self, a)\n",
    "#         B.__init__(self, b)"
   ]
  },
  {
   "cell_type": "code",
   "execution_count": 24,
   "id": "262a6874",
   "metadata": {},
   "outputs": [],
   "source": [
    "c1 = C(4,5)"
   ]
  },
  {
   "cell_type": "code",
   "execution_count": 25,
   "id": "ba7eb163",
   "metadata": {},
   "outputs": [
    {
     "data": {
      "text/plain": [
       "4"
      ]
     },
     "execution_count": 25,
     "metadata": {},
     "output_type": "execute_result"
    }
   ],
   "source": [
    "c1.a"
   ]
  },
  {
   "cell_type": "code",
   "execution_count": 26,
   "id": "2976fbd2",
   "metadata": {},
   "outputs": [
    {
     "data": {
      "text/plain": [
       "5"
      ]
     },
     "execution_count": 26,
     "metadata": {},
     "output_type": "execute_result"
    }
   ],
   "source": [
    "c1.b"
   ]
  },
  {
   "cell_type": "code",
   "execution_count": 28,
   "id": "cf8061b3",
   "metadata": {},
   "outputs": [],
   "source": [
    "class A:\n",
    "    def __init__(self, a):\n",
    "        self.a = a\n",
    "\n",
    "class B(A):\n",
    "    def __init__(self, a, b):\n",
    "        self.b = b\n",
    "        super().__init__(a)\n",
    "#         A.__init__(a)"
   ]
  },
  {
   "cell_type": "markdown",
   "id": "059d8d9c",
   "metadata": {},
   "source": [
    "# Exception Handling and Modules"
   ]
  },
  {
   "cell_type": "markdown",
   "id": "080f5b70",
   "metadata": {},
   "source": [
    "### Modules"
   ]
  },
  {
   "cell_type": "code",
   "execution_count": 29,
   "id": "f9126314",
   "metadata": {},
   "outputs": [],
   "source": [
    "import math"
   ]
  },
  {
   "cell_type": "code",
   "execution_count": 30,
   "id": "997aefd2",
   "metadata": {},
   "outputs": [
    {
     "data": {
      "text/plain": [
       "module"
      ]
     },
     "execution_count": 30,
     "metadata": {},
     "output_type": "execute_result"
    }
   ],
   "source": [
    "type(math)"
   ]
  },
  {
   "cell_type": "code",
   "execution_count": 31,
   "id": "09f2a0ae",
   "metadata": {},
   "outputs": [
    {
     "data": {
      "text/plain": [
       "True"
      ]
     },
     "execution_count": 31,
     "metadata": {},
     "output_type": "execute_result"
    }
   ],
   "source": [
    "isinstance(math, object)"
   ]
  },
  {
   "cell_type": "code",
   "execution_count": 32,
   "id": "3151ffb1",
   "metadata": {},
   "outputs": [
    {
     "data": {
      "text/plain": [
       "5"
      ]
     },
     "execution_count": 32,
     "metadata": {},
     "output_type": "execute_result"
    }
   ],
   "source": [
    "math.floor(5.6)"
   ]
  },
  {
   "cell_type": "code",
   "execution_count": 33,
   "id": "1adb7717",
   "metadata": {},
   "outputs": [
    {
     "data": {
      "text/plain": [
       "5"
      ]
     },
     "execution_count": 33,
     "metadata": {},
     "output_type": "execute_result"
    }
   ],
   "source": [
    "math.ceil(4.56)"
   ]
  },
  {
   "cell_type": "code",
   "execution_count": 34,
   "id": "0cddb5fb",
   "metadata": {},
   "outputs": [
    {
     "data": {
      "text/plain": [
       "3.1622776601683795"
      ]
     },
     "execution_count": 34,
     "metadata": {},
     "output_type": "execute_result"
    }
   ],
   "source": [
    "math.sqrt(10)"
   ]
  },
  {
   "cell_type": "code",
   "execution_count": 35,
   "id": "f5d68ee5",
   "metadata": {},
   "outputs": [
    {
     "data": {
      "text/plain": [
       "120"
      ]
     },
     "execution_count": 35,
     "metadata": {},
     "output_type": "execute_result"
    }
   ],
   "source": [
    "math.factorial(5)"
   ]
  },
  {
   "cell_type": "code",
   "execution_count": 37,
   "id": "b8b956dd",
   "metadata": {},
   "outputs": [],
   "source": [
    "# help(math)"
   ]
  },
  {
   "cell_type": "code",
   "execution_count": 38,
   "id": "64f3d853",
   "metadata": {},
   "outputs": [],
   "source": [
    "import random"
   ]
  },
  {
   "cell_type": "code",
   "execution_count": 45,
   "id": "f8c41aa6",
   "metadata": {},
   "outputs": [
    {
     "data": {
      "text/plain": [
       "3"
      ]
     },
     "execution_count": 45,
     "metadata": {},
     "output_type": "execute_result"
    }
   ],
   "source": [
    "random.randint(0,100)"
   ]
  },
  {
   "cell_type": "code",
   "execution_count": 47,
   "id": "25f0b15e",
   "metadata": {},
   "outputs": [],
   "source": [
    "# help(random)"
   ]
  },
  {
   "cell_type": "code",
   "execution_count": 59,
   "id": "50a6f20e",
   "metadata": {},
   "outputs": [],
   "source": [
    "def foo():\n",
    "    '''\n",
    "    this is a random function\n",
    "    it takes no arguments\n",
    "    it returns - hello bar!!!!\n",
    "    changed!\n",
    "    '''\n",
    "#     comment\n",
    "    print(\"hello bar!!!!\")\n",
    "    print(\"_\"*50)"
   ]
  },
  {
   "cell_type": "code",
   "execution_count": 60,
   "id": "149e7caa",
   "metadata": {},
   "outputs": [
    {
     "name": "stdout",
     "output_type": "stream",
     "text": [
      "Help on function foo in module __main__:\n",
      "\n",
      "foo()\n",
      "    this is a random function\n",
      "    it takes no arguments\n",
      "    it returns - hello bar!!!!\n",
      "    changed!\n",
      "\n"
     ]
    }
   ],
   "source": [
    "help(foo)"
   ]
  },
  {
   "cell_type": "code",
   "execution_count": 61,
   "id": "66adf825",
   "metadata": {},
   "outputs": [],
   "source": [
    "from math import *\n",
    "# import everything from the math module"
   ]
  },
  {
   "cell_type": "code",
   "execution_count": 62,
   "id": "4a1f15f1",
   "metadata": {},
   "outputs": [
    {
     "data": {
      "text/plain": [
       "3.1622776601683795"
      ]
     },
     "execution_count": 62,
     "metadata": {},
     "output_type": "execute_result"
    }
   ],
   "source": [
    "sqrt(10)"
   ]
  },
  {
   "cell_type": "code",
   "execution_count": 63,
   "id": "76116c0a",
   "metadata": {},
   "outputs": [
    {
     "data": {
      "text/plain": [
       "2432902008176640000"
      ]
     },
     "execution_count": 63,
     "metadata": {},
     "output_type": "execute_result"
    }
   ],
   "source": [
    "factorial(20)"
   ]
  },
  {
   "cell_type": "code",
   "execution_count": 67,
   "id": "51e289b2",
   "metadata": {},
   "outputs": [],
   "source": [
    "import math as MAD\n",
    "# m acts an alias for the math module"
   ]
  },
  {
   "cell_type": "code",
   "execution_count": 68,
   "id": "e731881f",
   "metadata": {},
   "outputs": [
    {
     "data": {
      "text/plain": [
       "7.211102550927978"
      ]
     },
     "execution_count": 68,
     "metadata": {},
     "output_type": "execute_result"
    }
   ],
   "source": [
    "MAD.sqrt(52)"
   ]
  },
  {
   "cell_type": "code",
   "execution_count": 74,
   "id": "7b6ae1a7",
   "metadata": {},
   "outputs": [],
   "source": [
    "from math import sqrt as rt"
   ]
  },
  {
   "cell_type": "code",
   "execution_count": 75,
   "id": "5533cee9",
   "metadata": {},
   "outputs": [
    {
     "data": {
      "text/plain": [
       "7.0710678118654755"
      ]
     },
     "execution_count": 75,
     "metadata": {},
     "output_type": "execute_result"
    }
   ],
   "source": [
    "sqrt(50)"
   ]
  },
  {
   "cell_type": "code",
   "execution_count": 73,
   "id": "607ab05b",
   "metadata": {},
   "outputs": [
    {
     "data": {
      "text/plain": [
       "3628800"
      ]
     },
     "execution_count": 73,
     "metadata": {},
     "output_type": "execute_result"
    }
   ],
   "source": [
    "factorial(10)"
   ]
  },
  {
   "cell_type": "code",
   "execution_count": 76,
   "id": "d1b23bd1",
   "metadata": {},
   "outputs": [
    {
     "data": {
      "text/plain": [
       "7.0710678118654755"
      ]
     },
     "execution_count": 76,
     "metadata": {},
     "output_type": "execute_result"
    }
   ],
   "source": [
    "rt(50)"
   ]
  },
  {
   "cell_type": "code",
   "execution_count": 79,
   "id": "99e7055b",
   "metadata": {},
   "outputs": [],
   "source": [
    "# YOU HAVE TO CREATE YOUR OWN MATH MODULE!\n",
    "# - sum\n",
    "# - div\n",
    "# - multiply\n",
    "# - sub"
   ]
  },
  {
   "cell_type": "markdown",
   "id": "91760b7a",
   "metadata": {},
   "source": [
    "### Exceptions and Errors"
   ]
  },
  {
   "cell_type": "code",
   "execution_count": 84,
   "id": "43562790",
   "metadata": {},
   "outputs": [],
   "source": [
    "# Exceptions are well degined errors"
   ]
  },
  {
   "cell_type": "code",
   "execution_count": 86,
   "id": "32674e5d",
   "metadata": {},
   "outputs": [
    {
     "ename": "IndentationError",
     "evalue": "expected an indented block (721889852.py, line 1)",
     "output_type": "error",
     "traceback": [
      "\u001b[0;36m  File \u001b[0;32m\"/var/folders/nn/c52y0d3j0gq59dpsswchkt2r0000gn/T/ipykernel_62366/721889852.py\"\u001b[0;36m, line \u001b[0;32m1\u001b[0m\n\u001b[0;31m    if 5>4:\u001b[0m\n\u001b[0m           ^\u001b[0m\n\u001b[0;31mIndentationError\u001b[0m\u001b[0;31m:\u001b[0m expected an indented block\n"
     ]
    }
   ],
   "source": [
    "if 5>4:"
   ]
  },
  {
   "cell_type": "code",
   "execution_count": 87,
   "id": "dd84c492",
   "metadata": {},
   "outputs": [
    {
     "ename": "ZeroDivisionError",
     "evalue": "division by zero",
     "output_type": "error",
     "traceback": [
      "\u001b[0;31m---------------------------------------------------------------------------\u001b[0m",
      "\u001b[0;31mZeroDivisionError\u001b[0m                         Traceback (most recent call last)",
      "\u001b[0;32m/var/folders/nn/c52y0d3j0gq59dpsswchkt2r0000gn/T/ipykernel_62366/1455669704.py\u001b[0m in \u001b[0;36m<module>\u001b[0;34m\u001b[0m\n\u001b[0;32m----> 1\u001b[0;31m \u001b[0;36m1\u001b[0m \u001b[0;34m/\u001b[0m \u001b[0;36m0\u001b[0m\u001b[0;34m\u001b[0m\u001b[0;34m\u001b[0m\u001b[0m\n\u001b[0m",
      "\u001b[0;31mZeroDivisionError\u001b[0m: division by zero"
     ]
    }
   ],
   "source": [
    "1 / 0"
   ]
  },
  {
   "cell_type": "code",
   "execution_count": 88,
   "id": "652db285",
   "metadata": {},
   "outputs": [
    {
     "ename": "ModuleNotFoundError",
     "evalue": "No module named 'donotknow'",
     "output_type": "error",
     "traceback": [
      "\u001b[0;31m---------------------------------------------------------------------------\u001b[0m",
      "\u001b[0;31mModuleNotFoundError\u001b[0m                       Traceback (most recent call last)",
      "\u001b[0;32m/var/folders/nn/c52y0d3j0gq59dpsswchkt2r0000gn/T/ipykernel_62366/293835657.py\u001b[0m in \u001b[0;36m<module>\u001b[0;34m\u001b[0m\n\u001b[0;32m----> 1\u001b[0;31m \u001b[0;32mimport\u001b[0m \u001b[0mdonotknow\u001b[0m\u001b[0;34m\u001b[0m\u001b[0;34m\u001b[0m\u001b[0m\n\u001b[0m",
      "\u001b[0;31mModuleNotFoundError\u001b[0m: No module named 'donotknow'"
     ]
    }
   ],
   "source": [
    "import donotknow"
   ]
  },
  {
   "cell_type": "code",
   "execution_count": 90,
   "id": "cf9e2977",
   "metadata": {},
   "outputs": [],
   "source": [
    "# dir(__builtins__)"
   ]
  },
  {
   "cell_type": "code",
   "execution_count": 95,
   "id": "1df6b2c8",
   "metadata": {},
   "outputs": [],
   "source": [
    "def something():\n",
    "    raise Exception(\"I am a custon exception!\")\n",
    "    print(\"something after the exception\")\n",
    "    \n",
    "#     it halts the interpretation of every line after it"
   ]
  },
  {
   "cell_type": "code",
   "execution_count": 94,
   "id": "b0d5aeff",
   "metadata": {},
   "outputs": [
    {
     "ename": "Exception",
     "evalue": "I am a custon exception!",
     "output_type": "error",
     "traceback": [
      "\u001b[0;31m---------------------------------------------------------------------------\u001b[0m",
      "\u001b[0;31mException\u001b[0m                                 Traceback (most recent call last)",
      "\u001b[0;32m/var/folders/nn/c52y0d3j0gq59dpsswchkt2r0000gn/T/ipykernel_62366/1016637328.py\u001b[0m in \u001b[0;36m<module>\u001b[0;34m\u001b[0m\n\u001b[0;32m----> 1\u001b[0;31m \u001b[0msomething\u001b[0m\u001b[0;34m(\u001b[0m\u001b[0;34m)\u001b[0m\u001b[0;34m\u001b[0m\u001b[0;34m\u001b[0m\u001b[0m\n\u001b[0m",
      "\u001b[0;32m/var/folders/nn/c52y0d3j0gq59dpsswchkt2r0000gn/T/ipykernel_62366/2319280914.py\u001b[0m in \u001b[0;36msomething\u001b[0;34m()\u001b[0m\n\u001b[1;32m      1\u001b[0m \u001b[0;32mdef\u001b[0m \u001b[0msomething\u001b[0m\u001b[0;34m(\u001b[0m\u001b[0;34m)\u001b[0m\u001b[0;34m:\u001b[0m\u001b[0;34m\u001b[0m\u001b[0;34m\u001b[0m\u001b[0m\n\u001b[0;32m----> 2\u001b[0;31m     \u001b[0;32mraise\u001b[0m \u001b[0mException\u001b[0m\u001b[0;34m(\u001b[0m\u001b[0;34m\"I am a custon exception!\"\u001b[0m\u001b[0;34m)\u001b[0m\u001b[0;34m\u001b[0m\u001b[0;34m\u001b[0m\u001b[0m\n\u001b[0m\u001b[1;32m      3\u001b[0m     \u001b[0mprint\u001b[0m\u001b[0;34m(\u001b[0m\u001b[0;34m\"something after the exception\"\u001b[0m\u001b[0;34m)\u001b[0m\u001b[0;34m\u001b[0m\u001b[0;34m\u001b[0m\u001b[0m\n",
      "\u001b[0;31mException\u001b[0m: I am a custon exception!"
     ]
    }
   ],
   "source": [
    "something()"
   ]
  },
  {
   "cell_type": "code",
   "execution_count": 96,
   "id": "fa369c22",
   "metadata": {},
   "outputs": [],
   "source": [
    "# try - except"
   ]
  },
  {
   "cell_type": "code",
   "execution_count": 97,
   "id": "67204797",
   "metadata": {},
   "outputs": [],
   "source": [
    "def divide(a,b):\n",
    "    return a/b"
   ]
  },
  {
   "cell_type": "code",
   "execution_count": 98,
   "id": "00b50428",
   "metadata": {},
   "outputs": [
    {
     "ename": "ZeroDivisionError",
     "evalue": "division by zero",
     "output_type": "error",
     "traceback": [
      "\u001b[0;31m---------------------------------------------------------------------------\u001b[0m",
      "\u001b[0;31mZeroDivisionError\u001b[0m                         Traceback (most recent call last)",
      "\u001b[0;32m/var/folders/nn/c52y0d3j0gq59dpsswchkt2r0000gn/T/ipykernel_62366/4088679331.py\u001b[0m in \u001b[0;36m<module>\u001b[0;34m\u001b[0m\n\u001b[0;32m----> 1\u001b[0;31m \u001b[0mdivide\u001b[0m\u001b[0;34m(\u001b[0m\u001b[0;36m4\u001b[0m\u001b[0;34m,\u001b[0m\u001b[0;36m0\u001b[0m\u001b[0;34m)\u001b[0m\u001b[0;34m\u001b[0m\u001b[0;34m\u001b[0m\u001b[0m\n\u001b[0m",
      "\u001b[0;32m/var/folders/nn/c52y0d3j0gq59dpsswchkt2r0000gn/T/ipykernel_62366/2285670455.py\u001b[0m in \u001b[0;36mdivide\u001b[0;34m(a, b)\u001b[0m\n\u001b[1;32m      1\u001b[0m \u001b[0;32mdef\u001b[0m \u001b[0mdivide\u001b[0m\u001b[0;34m(\u001b[0m\u001b[0ma\u001b[0m\u001b[0;34m,\u001b[0m\u001b[0mb\u001b[0m\u001b[0;34m)\u001b[0m\u001b[0;34m:\u001b[0m\u001b[0;34m\u001b[0m\u001b[0;34m\u001b[0m\u001b[0m\n\u001b[0;32m----> 2\u001b[0;31m     \u001b[0;32mreturn\u001b[0m \u001b[0ma\u001b[0m\u001b[0;34m/\u001b[0m\u001b[0mb\u001b[0m\u001b[0;34m\u001b[0m\u001b[0;34m\u001b[0m\u001b[0m\n\u001b[0m",
      "\u001b[0;31mZeroDivisionError\u001b[0m: division by zero"
     ]
    }
   ],
   "source": [
    "divide(4,0)"
   ]
  },
  {
   "cell_type": "code",
   "execution_count": 105,
   "id": "94b615dc",
   "metadata": {},
   "outputs": [
    {
     "name": "stdout",
     "output_type": "stream",
     "text": [
      "An exeption was raised. Please try again!\n",
      "I CAN RUN NOW!\n"
     ]
    }
   ],
   "source": [
    "try:\n",
    "    divide(4,0)\n",
    "#     raise Exception()\n",
    "except:\n",
    "    print(\"An exeption was raised. Please try again!\")\n",
    "    \n",
    "print(\"I CAN RUN NOW!\")"
   ]
  },
  {
   "cell_type": "code",
   "execution_count": 106,
   "id": "3639abf0",
   "metadata": {},
   "outputs": [],
   "source": [
    "l1 = [2,0,\"why\",None]"
   ]
  },
  {
   "cell_type": "code",
   "execution_count": 112,
   "id": "6e3d32b0",
   "metadata": {},
   "outputs": [
    {
     "name": "stdout",
     "output_type": "stream",
     "text": [
      "Current Element - 2\n",
      "Result - 2.5\n",
      "--------------------------------------------------\n",
      "Current Element - 0\n",
      "Exception - division by zero\n",
      "--------------------------------------------------\n",
      "Current Element - why\n",
      "Exception - unsupported operand type(s) for /: 'int' and 'str'\n",
      "--------------------------------------------------\n",
      "Current Element - None\n",
      "Exception - unsupported operand type(s) for /: 'int' and 'NoneType'\n",
      "--------------------------------------------------\n"
     ]
    }
   ],
   "source": [
    "for x in l1:\n",
    "    try:\n",
    "        print(\"Current Element -\", x)\n",
    "        result = 5/x\n",
    "        print(\"Result -\", result)\n",
    "    except ZeroDivisionError:\n",
    "        result = 5\n",
    "        print(\"Result - \", result)\n",
    "    except Exception as e:\n",
    "        print(\"Exception -\", e)\n",
    "    \n",
    "    print(\"-\"*50)"
   ]
  },
  {
   "cell_type": "code",
   "execution_count": 115,
   "id": "9b927b72",
   "metadata": {},
   "outputs": [],
   "source": [
    "# try and except"
   ]
  },
  {
   "cell_type": "code",
   "execution_count": 122,
   "id": "10d77093",
   "metadata": {},
   "outputs": [],
   "source": [
    "# else and finally\n",
    "# else runs only if no exception was raised\n",
    "# finally runs no matter what"
   ]
  },
  {
   "cell_type": "code",
   "execution_count": 127,
   "id": "9627f468",
   "metadata": {},
   "outputs": [
    {
     "name": "stdout",
     "output_type": "stream",
     "text": [
      "exception!\n",
      "I AM INEVITABLE!\n"
     ]
    }
   ],
   "source": [
    "try:\n",
    "    1 / 0\n",
    "#     raise ZeroDivisionException()\n",
    "    print(\"I am trying yaarrr!\" + 42 + None)\n",
    "except:\n",
    "    print(\"exception!\")\n",
    "\n",
    "print(\"I AM INEVITABLE!\")"
   ]
  },
  {
   "cell_type": "code",
   "execution_count": 128,
   "id": "1a7dcc65",
   "metadata": {},
   "outputs": [
    {
     "name": "stdout",
     "output_type": "stream",
     "text": [
      "except\n",
      "finally\n",
      "outside\n"
     ]
    }
   ],
   "source": [
    "try:\n",
    "    1/0\n",
    "except:\n",
    "    print(\"except\")\n",
    "else:\n",
    "    print(\"else\")\n",
    "finally:\n",
    "    print(\"finally\")\n",
    "    \n",
    "print(\"outside\")"
   ]
  },
  {
   "cell_type": "code",
   "execution_count": 129,
   "id": "28775341",
   "metadata": {},
   "outputs": [],
   "source": [
    "# BaseException\n",
    "\n",
    "# class MyCustomExcpetion(BaseException):\n",
    "#     pass"
   ]
  },
  {
   "cell_type": "code",
   "execution_count": 138,
   "id": "86818079",
   "metadata": {},
   "outputs": [
    {
     "ename": "ZeroDivisionError",
     "evalue": "",
     "output_type": "error",
     "traceback": [
      "\u001b[0;31m---------------------------------------------------------------------------\u001b[0m",
      "\u001b[0;31mZeroDivisionError\u001b[0m                         Traceback (most recent call last)",
      "\u001b[0;32m/var/folders/nn/c52y0d3j0gq59dpsswchkt2r0000gn/T/ipykernel_62366/358704005.py\u001b[0m in \u001b[0;36m<module>\u001b[0;34m\u001b[0m\n\u001b[0;32m----> 1\u001b[0;31m \u001b[0;32mraise\u001b[0m \u001b[0mZeroDivisionError\u001b[0m\u001b[0;34m\u001b[0m\u001b[0;34m\u001b[0m\u001b[0m\n\u001b[0m",
      "\u001b[0;31mZeroDivisionError\u001b[0m: "
     ]
    }
   ],
   "source": [
    "raise ZeroDivisionError"
   ]
  },
  {
   "cell_type": "code",
   "execution_count": 131,
   "id": "bfc2dcd6",
   "metadata": {},
   "outputs": [],
   "source": [
    "usernames = [\"bob\", \"jill\", \"random\"]"
   ]
  },
  {
   "cell_type": "code",
   "execution_count": 132,
   "id": "68ac00b3",
   "metadata": {},
   "outputs": [
    {
     "name": "stdout",
     "output_type": "stream",
     "text": [
      "bob\n",
      "Username already exists!\n"
     ]
    }
   ],
   "source": [
    "try:\n",
    "    user_name = input()\n",
    "    if user_name in usernames:\n",
    "        raise Exception(\"Username already exists!\")\n",
    "    else:\n",
    "        usernames.append(user_name)\n",
    "except Exception as e:\n",
    "    print(e)"
   ]
  },
  {
   "cell_type": "code",
   "execution_count": 135,
   "id": "e131236d",
   "metadata": {},
   "outputs": [],
   "source": [
    "class Animal:\n",
    "    def __init__(self, random):\n",
    "        print(\"Animal is Here\")\n",
    "        self.random = random\n",
    "    \n",
    "    def sound(self):\n",
    "        print(\"Animal Sounds\")\n",
    "        \n",
    "class Dog(Animal):\n",
    "    def __init__(self,random, name, breed): \n",
    "        super().__init__(random)\n",
    "        self.name=name\n",
    "        self.breed=breed"
   ]
  },
  {
   "cell_type": "code",
   "execution_count": 136,
   "id": "c1df0962",
   "metadata": {},
   "outputs": [
    {
     "name": "stdout",
     "output_type": "stream",
     "text": [
      "Animal is Here\n"
     ]
    }
   ],
   "source": [
    "d1 = Dog(\"tuffy\", \"no_idea\")"
   ]
  },
  {
   "cell_type": "code",
   "execution_count": null,
   "id": "1720fcd7",
   "metadata": {},
   "outputs": [],
   "source": []
  }
 ],
 "metadata": {
  "kernelspec": {
   "display_name": "Python 3 (ipykernel)",
   "language": "python",
   "name": "python3"
  },
  "language_info": {
   "codemirror_mode": {
    "name": "ipython",
    "version": 3
   },
   "file_extension": ".py",
   "mimetype": "text/x-python",
   "name": "python",
   "nbconvert_exporter": "python",
   "pygments_lexer": "ipython3",
   "version": "3.9.5"
  }
 },
 "nbformat": 4,
 "nbformat_minor": 5
}
