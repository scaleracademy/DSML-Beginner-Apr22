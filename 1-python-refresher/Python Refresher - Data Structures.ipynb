{
 "cells": [
  {
   "cell_type": "code",
   "execution_count": 11,
   "id": "8658bf62",
   "metadata": {},
   "outputs": [
    {
     "name": "stdout",
     "output_type": "stream",
     "text": [
      "50\n",
      "140304770461520\n"
     ]
    }
   ],
   "source": [
    "x = 50\n",
    "\n",
    "def multiply():\n",
    "    x = 70\n",
    "    y = 3\n",
    "    \n",
    "    print(id(x))\n",
    "    \n",
    "    return x*y\n",
    "\n",
    "print(x)\n",
    "print(id(x))"
   ]
  },
  {
   "cell_type": "code",
   "execution_count": 10,
   "id": "2faa82ef",
   "metadata": {},
   "outputs": [
    {
     "name": "stdout",
     "output_type": "stream",
     "text": [
      "140304770650640\n"
     ]
    },
    {
     "data": {
      "text/plain": [
       "210"
      ]
     },
     "execution_count": 10,
     "metadata": {},
     "output_type": "execute_result"
    }
   ],
   "source": [
    "multiply()"
   ]
  },
  {
   "cell_type": "code",
   "execution_count": 15,
   "id": "086b10e6",
   "metadata": {},
   "outputs": [],
   "source": [
    "def multiply():\n",
    "    a = 70\n",
    "    b = 3\n",
    "    \n",
    "    print(a)\n",
    "    return a*b\n",
    "\n",
    "# print(a)"
   ]
  },
  {
   "cell_type": "code",
   "execution_count": 16,
   "id": "c629d10d",
   "metadata": {},
   "outputs": [
    {
     "name": "stdout",
     "output_type": "stream",
     "text": [
      "70\n"
     ]
    },
    {
     "data": {
      "text/plain": [
       "210"
      ]
     },
     "execution_count": 16,
     "metadata": {},
     "output_type": "execute_result"
    }
   ],
   "source": [
    "multiply()"
   ]
  },
  {
   "cell_type": "code",
   "execution_count": 17,
   "id": "028493ce",
   "metadata": {},
   "outputs": [],
   "source": [
    "a = [1,2,3,4,5,6]"
   ]
  },
  {
   "cell_type": "code",
   "execution_count": 18,
   "id": "6bffe30f",
   "metadata": {},
   "outputs": [
    {
     "data": {
      "text/plain": [
       "[6, 5, 4, 3, 2, 1]"
      ]
     },
     "execution_count": 18,
     "metadata": {},
     "output_type": "execute_result"
    }
   ],
   "source": [
    "a[::-1]"
   ]
  },
  {
   "cell_type": "code",
   "execution_count": 19,
   "id": "f1e94f40",
   "metadata": {},
   "outputs": [
    {
     "data": {
      "text/plain": [
       "[1, 2, 3, 4, 5, 6]"
      ]
     },
     "execution_count": 19,
     "metadata": {},
     "output_type": "execute_result"
    }
   ],
   "source": [
    "a"
   ]
  },
  {
   "cell_type": "code",
   "execution_count": 20,
   "id": "f6e07e8c",
   "metadata": {},
   "outputs": [
    {
     "data": {
      "text/plain": [
       "[6, 5, 4, 3, 2, 1]"
      ]
     },
     "execution_count": 20,
     "metadata": {},
     "output_type": "execute_result"
    }
   ],
   "source": [
    "list(reversed(a))"
   ]
  },
  {
   "cell_type": "code",
   "execution_count": 21,
   "id": "231e5a27",
   "metadata": {},
   "outputs": [
    {
     "data": {
      "text/plain": [
       "[1, 2, 3, 4, 5, 6]"
      ]
     },
     "execution_count": 21,
     "metadata": {},
     "output_type": "execute_result"
    }
   ],
   "source": [
    "a"
   ]
  },
  {
   "cell_type": "code",
   "execution_count": 22,
   "id": "1c467e92",
   "metadata": {},
   "outputs": [],
   "source": [
    "a.reverse()"
   ]
  },
  {
   "cell_type": "code",
   "execution_count": 23,
   "id": "afc19884",
   "metadata": {},
   "outputs": [
    {
     "data": {
      "text/plain": [
       "[6, 5, 4, 3, 2, 1]"
      ]
     },
     "execution_count": 23,
     "metadata": {},
     "output_type": "execute_result"
    }
   ],
   "source": [
    "a"
   ]
  },
  {
   "cell_type": "code",
   "execution_count": 24,
   "id": "9db4c64c",
   "metadata": {},
   "outputs": [
    {
     "data": {
      "text/plain": [
       "[]"
      ]
     },
     "execution_count": 24,
     "metadata": {},
     "output_type": "execute_result"
    }
   ],
   "source": [
    "a = [1,2,3,4,5,6,7,8,9,10]\n",
    "\n",
    "a[3:8:-1]"
   ]
  },
  {
   "cell_type": "code",
   "execution_count": 25,
   "id": "5c5e67ec",
   "metadata": {},
   "outputs": [
    {
     "data": {
      "text/plain": [
       "[7, 6, 5, 4]"
      ]
     },
     "execution_count": 25,
     "metadata": {},
     "output_type": "execute_result"
    }
   ],
   "source": [
    "a[-4:-8:-1]"
   ]
  },
  {
   "cell_type": "code",
   "execution_count": 26,
   "id": "29c073ec",
   "metadata": {},
   "outputs": [
    {
     "data": {
      "text/plain": [
       "[10, 9, 8, 7, 6, 5, 4, 3, 2, 1]"
      ]
     },
     "execution_count": 26,
     "metadata": {},
     "output_type": "execute_result"
    }
   ],
   "source": [
    "a[::-1] # Special Syntax which reverses a python list"
   ]
  },
  {
   "cell_type": "code",
   "execution_count": 27,
   "id": "d7c2b29b",
   "metadata": {},
   "outputs": [
    {
     "data": {
      "text/plain": [
       "[]"
      ]
     },
     "execution_count": 27,
     "metadata": {},
     "output_type": "execute_result"
    }
   ],
   "source": [
    "a[0:0:-1]"
   ]
  },
  {
   "cell_type": "code",
   "execution_count": 28,
   "id": "522008f8",
   "metadata": {},
   "outputs": [
    {
     "ename": "TypeError",
     "evalue": "slice indices must be integers or None or have an __index__ method",
     "output_type": "error",
     "traceback": [
      "\u001b[0;31m---------------------------------------------------------------------------\u001b[0m",
      "\u001b[0;31mTypeError\u001b[0m                                 Traceback (most recent call last)",
      "\u001b[0;32m/var/folders/nn/c52y0d3j0gq59dpsswchkt2r0000gn/T/ipykernel_21621/2420340165.py\u001b[0m in \u001b[0;36m<module>\u001b[0;34m\u001b[0m\n\u001b[0;32m----> 1\u001b[0;31m \u001b[0ma\u001b[0m\u001b[0;34m[\u001b[0m\u001b[0;34m\"something\"\u001b[0m\u001b[0;34m:\u001b[0m\u001b[0;34m:\u001b[0m\u001b[0;34m]\u001b[0m\u001b[0;34m\u001b[0m\u001b[0;34m\u001b[0m\u001b[0m\n\u001b[0m",
      "\u001b[0;31mTypeError\u001b[0m: slice indices must be integers or None or have an __index__ method"
     ]
    }
   ],
   "source": [
    "a[\"something\"::]"
   ]
  },
  {
   "cell_type": "code",
   "execution_count": 29,
   "id": "c9cbcedc",
   "metadata": {},
   "outputs": [],
   "source": [
    "board = [[\"\"]*3]*3"
   ]
  },
  {
   "cell_type": "code",
   "execution_count": 30,
   "id": "361e7a02",
   "metadata": {},
   "outputs": [
    {
     "data": {
      "text/plain": [
       "[['', '', ''], ['', '', ''], ['', '', '']]"
      ]
     },
     "execution_count": 30,
     "metadata": {},
     "output_type": "execute_result"
    }
   ],
   "source": [
    "board"
   ]
  },
  {
   "cell_type": "code",
   "execution_count": 31,
   "id": "fb72844b",
   "metadata": {},
   "outputs": [],
   "source": [
    "step1 = [\"\"]*3"
   ]
  },
  {
   "cell_type": "code",
   "execution_count": 32,
   "id": "84cda258",
   "metadata": {},
   "outputs": [
    {
     "data": {
      "text/plain": [
       "['', '', '']"
      ]
     },
     "execution_count": 32,
     "metadata": {},
     "output_type": "execute_result"
    }
   ],
   "source": [
    "step1"
   ]
  },
  {
   "cell_type": "code",
   "execution_count": 33,
   "id": "0a5655e4",
   "metadata": {},
   "outputs": [],
   "source": [
    "step2 = [step1]*3\n",
    "# step2 = [step1, step1, step1]"
   ]
  },
  {
   "cell_type": "code",
   "execution_count": 34,
   "id": "6529337e",
   "metadata": {},
   "outputs": [
    {
     "data": {
      "text/plain": [
       "[['', '', ''], ['', '', ''], ['', '', '']]"
      ]
     },
     "execution_count": 34,
     "metadata": {},
     "output_type": "execute_result"
    }
   ],
   "source": [
    "step2"
   ]
  },
  {
   "cell_type": "code",
   "execution_count": 36,
   "id": "649b69b3",
   "metadata": {},
   "outputs": [
    {
     "name": "stdout",
     "output_type": "stream",
     "text": [
      "140304523081664\n",
      "140304523081664\n",
      "140304523081664\n"
     ]
    }
   ],
   "source": [
    "print(id(board[0]))\n",
    "print(id(board[1]))\n",
    "print(id(board[2]))"
   ]
  },
  {
   "cell_type": "code",
   "execution_count": 37,
   "id": "2bd0c756",
   "metadata": {},
   "outputs": [
    {
     "name": "stdout",
     "output_type": "stream",
     "text": [
      "True\n"
     ]
    }
   ],
   "source": [
    "print(id(board[0][0]) == id(board[1][1]) == id(board[2][2]))"
   ]
  },
  {
   "cell_type": "code",
   "execution_count": 38,
   "id": "a25fddb0",
   "metadata": {},
   "outputs": [
    {
     "data": {
      "text/plain": [
       "True"
      ]
     },
     "execution_count": 38,
     "metadata": {},
     "output_type": "execute_result"
    }
   ],
   "source": [
    "a = ''\n",
    "b = ''\n",
    "\n",
    "id(a) == id(b)"
   ]
  },
  {
   "cell_type": "code",
   "execution_count": 39,
   "id": "a5b7cacb",
   "metadata": {},
   "outputs": [],
   "source": [
    "board[0][0] = \"X\""
   ]
  },
  {
   "cell_type": "code",
   "execution_count": 40,
   "id": "844f6099",
   "metadata": {},
   "outputs": [
    {
     "data": {
      "text/plain": [
       "[['X', '', ''], ['X', '', ''], ['X', '', '']]"
      ]
     },
     "execution_count": 40,
     "metadata": {},
     "output_type": "execute_result"
    }
   ],
   "source": [
    "board"
   ]
  },
  {
   "cell_type": "markdown",
   "id": "8900f682",
   "metadata": {},
   "source": [
    "# Tuples"
   ]
  },
  {
   "cell_type": "code",
   "execution_count": 41,
   "id": "a7b660fe",
   "metadata": {},
   "outputs": [],
   "source": [
    "# Immutable list"
   ]
  },
  {
   "cell_type": "code",
   "execution_count": 42,
   "id": "aef59737",
   "metadata": {},
   "outputs": [],
   "source": [
    "a = (1,2,3,4)"
   ]
  },
  {
   "cell_type": "code",
   "execution_count": 43,
   "id": "1011fa07",
   "metadata": {},
   "outputs": [
    {
     "data": {
      "text/plain": [
       "(1, 2, 3, 4)"
      ]
     },
     "execution_count": 43,
     "metadata": {},
     "output_type": "execute_result"
    }
   ],
   "source": [
    "a"
   ]
  },
  {
   "cell_type": "code",
   "execution_count": 44,
   "id": "f4a73c25",
   "metadata": {},
   "outputs": [
    {
     "data": {
      "text/plain": [
       "tuple"
      ]
     },
     "execution_count": 44,
     "metadata": {},
     "output_type": "execute_result"
    }
   ],
   "source": [
    "type(a)"
   ]
  },
  {
   "cell_type": "code",
   "execution_count": 45,
   "id": "e7b9cc45",
   "metadata": {},
   "outputs": [],
   "source": [
    "a = []"
   ]
  },
  {
   "cell_type": "code",
   "execution_count": 47,
   "id": "5f6df4e4",
   "metadata": {},
   "outputs": [
    {
     "data": {
      "text/plain": [
       "list"
      ]
     },
     "execution_count": 47,
     "metadata": {},
     "output_type": "execute_result"
    }
   ],
   "source": [
    "type(a)"
   ]
  },
  {
   "cell_type": "code",
   "execution_count": 48,
   "id": "1a50ac52",
   "metadata": {},
   "outputs": [],
   "source": [
    "a = ()"
   ]
  },
  {
   "cell_type": "code",
   "execution_count": 49,
   "id": "d4623ebe",
   "metadata": {},
   "outputs": [
    {
     "data": {
      "text/plain": [
       "tuple"
      ]
     },
     "execution_count": 49,
     "metadata": {},
     "output_type": "execute_result"
    }
   ],
   "source": [
    "type(a)"
   ]
  },
  {
   "cell_type": "code",
   "execution_count": 52,
   "id": "270e88ed",
   "metadata": {},
   "outputs": [],
   "source": [
    "a = (100,)"
   ]
  },
  {
   "cell_type": "code",
   "execution_count": 53,
   "id": "da66f298",
   "metadata": {},
   "outputs": [
    {
     "data": {
      "text/plain": [
       "tuple"
      ]
     },
     "execution_count": 53,
     "metadata": {},
     "output_type": "execute_result"
    }
   ],
   "source": [
    "type(a)"
   ]
  },
  {
   "cell_type": "code",
   "execution_count": 54,
   "id": "6054d5b3",
   "metadata": {},
   "outputs": [],
   "source": [
    "a = (1,2,3)"
   ]
  },
  {
   "cell_type": "code",
   "execution_count": 55,
   "id": "d9795559",
   "metadata": {},
   "outputs": [],
   "source": [
    "x, y, z = a"
   ]
  },
  {
   "cell_type": "code",
   "execution_count": 56,
   "id": "09abcab6",
   "metadata": {},
   "outputs": [
    {
     "name": "stdout",
     "output_type": "stream",
     "text": [
      "1 2 3\n"
     ]
    }
   ],
   "source": [
    "print(x,y,z)"
   ]
  },
  {
   "cell_type": "code",
   "execution_count": 57,
   "id": "b144aeee",
   "metadata": {},
   "outputs": [],
   "source": [
    "# Unpacking in python"
   ]
  },
  {
   "cell_type": "code",
   "execution_count": 58,
   "id": "41add15f",
   "metadata": {},
   "outputs": [
    {
     "ename": "ValueError",
     "evalue": "too many values to unpack (expected 2)",
     "output_type": "error",
     "traceback": [
      "\u001b[0;31m---------------------------------------------------------------------------\u001b[0m",
      "\u001b[0;31mValueError\u001b[0m                                Traceback (most recent call last)",
      "\u001b[0;32m/var/folders/nn/c52y0d3j0gq59dpsswchkt2r0000gn/T/ipykernel_21621/2126142076.py\u001b[0m in \u001b[0;36m<module>\u001b[0;34m\u001b[0m\n\u001b[0;32m----> 1\u001b[0;31m \u001b[0mfirst\u001b[0m\u001b[0;34m,\u001b[0m \u001b[0msecond\u001b[0m \u001b[0;34m=\u001b[0m \u001b[0ma\u001b[0m\u001b[0;34m\u001b[0m\u001b[0;34m\u001b[0m\u001b[0m\n\u001b[0m",
      "\u001b[0;31mValueError\u001b[0m: too many values to unpack (expected 2)"
     ]
    }
   ],
   "source": [
    "first, second = a"
   ]
  },
  {
   "cell_type": "code",
   "execution_count": 59,
   "id": "331de2ad",
   "metadata": {},
   "outputs": [],
   "source": [
    "a = [1,2,3]"
   ]
  },
  {
   "cell_type": "code",
   "execution_count": 62,
   "id": "3dac181b",
   "metadata": {},
   "outputs": [],
   "source": [
    "x, y, z = a"
   ]
  },
  {
   "cell_type": "code",
   "execution_count": 63,
   "id": "666d910c",
   "metadata": {},
   "outputs": [
    {
     "name": "stdout",
     "output_type": "stream",
     "text": [
      "1 2 3\n"
     ]
    }
   ],
   "source": [
    "print(x,y,z)"
   ]
  },
  {
   "cell_type": "code",
   "execution_count": 75,
   "id": "d3a0ff00",
   "metadata": {},
   "outputs": [],
   "source": [
    "def foo():\n",
    "    return \"I\", \"AM\", \"COOL!\""
   ]
  },
  {
   "cell_type": "code",
   "execution_count": 76,
   "id": "49b2be90",
   "metadata": {},
   "outputs": [],
   "source": [
    "bar = foo()"
   ]
  },
  {
   "cell_type": "code",
   "execution_count": 77,
   "id": "771432c2",
   "metadata": {},
   "outputs": [
    {
     "data": {
      "text/plain": [
       "('I', 'AM', 'COOL!')"
      ]
     },
     "execution_count": 77,
     "metadata": {},
     "output_type": "execute_result"
    }
   ],
   "source": [
    "bar"
   ]
  },
  {
   "cell_type": "code",
   "execution_count": 78,
   "id": "185bb612",
   "metadata": {},
   "outputs": [
    {
     "data": {
      "text/plain": [
       "tuple"
      ]
     },
     "execution_count": 78,
     "metadata": {},
     "output_type": "execute_result"
    }
   ],
   "source": [
    "type(bar)"
   ]
  },
  {
   "cell_type": "code",
   "execution_count": 79,
   "id": "93994993",
   "metadata": {},
   "outputs": [],
   "source": [
    "# Packing in python"
   ]
  },
  {
   "cell_type": "code",
   "execution_count": 80,
   "id": "3c5c3fc0",
   "metadata": {},
   "outputs": [],
   "source": [
    "you, are, neah = foo()"
   ]
  },
  {
   "cell_type": "code",
   "execution_count": 81,
   "id": "3d06e278",
   "metadata": {},
   "outputs": [
    {
     "data": {
      "text/plain": [
       "'I'"
      ]
     },
     "execution_count": 81,
     "metadata": {},
     "output_type": "execute_result"
    }
   ],
   "source": [
    "you"
   ]
  },
  {
   "cell_type": "code",
   "execution_count": 82,
   "id": "4eab8073",
   "metadata": {},
   "outputs": [
    {
     "data": {
      "text/plain": [
       "'AM'"
      ]
     },
     "execution_count": 82,
     "metadata": {},
     "output_type": "execute_result"
    }
   ],
   "source": [
    "are"
   ]
  },
  {
   "cell_type": "code",
   "execution_count": 83,
   "id": "c4f111a5",
   "metadata": {},
   "outputs": [
    {
     "data": {
      "text/plain": [
       "'COOL!'"
      ]
     },
     "execution_count": 83,
     "metadata": {},
     "output_type": "execute_result"
    }
   ],
   "source": [
    "neah"
   ]
  },
  {
   "cell_type": "code",
   "execution_count": 84,
   "id": "a720842c",
   "metadata": {},
   "outputs": [],
   "source": [
    "tup1 = 1,2,3,4"
   ]
  },
  {
   "cell_type": "code",
   "execution_count": 85,
   "id": "b54130c0",
   "metadata": {},
   "outputs": [
    {
     "data": {
      "text/plain": [
       "tuple"
      ]
     },
     "execution_count": 85,
     "metadata": {},
     "output_type": "execute_result"
    }
   ],
   "source": [
    "type(tup1)"
   ]
  },
  {
   "cell_type": "code",
   "execution_count": 86,
   "id": "d560dd5b",
   "metadata": {},
   "outputs": [
    {
     "data": {
      "text/plain": [
       "2"
      ]
     },
     "execution_count": 86,
     "metadata": {},
     "output_type": "execute_result"
    }
   ],
   "source": [
    "tup1[1]"
   ]
  },
  {
   "cell_type": "code",
   "execution_count": 87,
   "id": "e659fb53",
   "metadata": {},
   "outputs": [
    {
     "data": {
      "text/plain": [
       "(2, 3)"
      ]
     },
     "execution_count": 87,
     "metadata": {},
     "output_type": "execute_result"
    }
   ],
   "source": [
    "tup1[1:3]"
   ]
  },
  {
   "cell_type": "code",
   "execution_count": 88,
   "id": "30d314f5",
   "metadata": {},
   "outputs": [
    {
     "name": "stdout",
     "output_type": "stream",
     "text": [
      "1\n",
      "2\n",
      "3\n",
      "4\n"
     ]
    }
   ],
   "source": [
    "for i in tup1:\n",
    "    print(i)"
   ]
  },
  {
   "cell_type": "code",
   "execution_count": 89,
   "id": "030dd1dc",
   "metadata": {},
   "outputs": [
    {
     "data": {
      "text/plain": [
       "4"
      ]
     },
     "execution_count": 89,
     "metadata": {},
     "output_type": "execute_result"
    }
   ],
   "source": [
    "len(tup1)"
   ]
  },
  {
   "cell_type": "code",
   "execution_count": 90,
   "id": "fdba13aa",
   "metadata": {},
   "outputs": [
    {
     "data": {
      "text/plain": [
       "4"
      ]
     },
     "execution_count": 90,
     "metadata": {},
     "output_type": "execute_result"
    }
   ],
   "source": [
    "max(tup1)"
   ]
  },
  {
   "cell_type": "code",
   "execution_count": 91,
   "id": "69ab22a5",
   "metadata": {},
   "outputs": [
    {
     "data": {
      "text/plain": [
       "10"
      ]
     },
     "execution_count": 91,
     "metadata": {},
     "output_type": "execute_result"
    }
   ],
   "source": [
    "sum(tup1)"
   ]
  },
  {
   "cell_type": "code",
   "execution_count": 92,
   "id": "a467ee7e",
   "metadata": {},
   "outputs": [
    {
     "data": {
      "text/plain": [
       "False"
      ]
     },
     "execution_count": 92,
     "metadata": {},
     "output_type": "execute_result"
    }
   ],
   "source": [
    "5 in tup1"
   ]
  },
  {
   "cell_type": "code",
   "execution_count": 93,
   "id": "536839f8",
   "metadata": {},
   "outputs": [
    {
     "data": {
      "text/plain": [
       "True"
      ]
     },
     "execution_count": 93,
     "metadata": {},
     "output_type": "execute_result"
    }
   ],
   "source": [
    "5 not in tup1"
   ]
  },
  {
   "cell_type": "code",
   "execution_count": 99,
   "id": "4ce49414",
   "metadata": {},
   "outputs": [
    {
     "data": {
      "text/plain": [
       "True"
      ]
     },
     "execution_count": 99,
     "metadata": {},
     "output_type": "execute_result"
    }
   ],
   "source": [
    "a = (1,2,3,4,6)\n",
    "b = (1,2,3,5)\n",
    "\n",
    "a < b"
   ]
  },
  {
   "cell_type": "code",
   "execution_count": 103,
   "id": "4af82292",
   "metadata": {},
   "outputs": [
    {
     "name": "stdout",
     "output_type": "stream",
     "text": [
      "140304523499136\n"
     ]
    }
   ],
   "source": [
    "a = (1,2,3,4,5)\n",
    "print(id(a))\n",
    "# change this value 3 to 100"
   ]
  },
  {
   "cell_type": "code",
   "execution_count": 104,
   "id": "6561beeb",
   "metadata": {},
   "outputs": [],
   "source": [
    "a = a[:2] + (100,) + a[3:]"
   ]
  },
  {
   "cell_type": "code",
   "execution_count": 105,
   "id": "b9646128",
   "metadata": {},
   "outputs": [
    {
     "data": {
      "text/plain": [
       "(1, 2, 100, 4, 5)"
      ]
     },
     "execution_count": 105,
     "metadata": {},
     "output_type": "execute_result"
    }
   ],
   "source": [
    "a"
   ]
  },
  {
   "cell_type": "code",
   "execution_count": 106,
   "id": "83bf8bfc",
   "metadata": {},
   "outputs": [
    {
     "name": "stdout",
     "output_type": "stream",
     "text": [
      "140304523269520\n"
     ]
    }
   ],
   "source": [
    "print(id(a))"
   ]
  },
  {
   "cell_type": "code",
   "execution_count": 107,
   "id": "fae006dd",
   "metadata": {},
   "outputs": [],
   "source": [
    "a = 10\n",
    "b = 20"
   ]
  },
  {
   "cell_type": "code",
   "execution_count": 108,
   "id": "df503663",
   "metadata": {},
   "outputs": [],
   "source": [
    "temp = a "
   ]
  },
  {
   "cell_type": "code",
   "execution_count": 109,
   "id": "89c035bb",
   "metadata": {},
   "outputs": [],
   "source": [
    "a = b"
   ]
  },
  {
   "cell_type": "code",
   "execution_count": 110,
   "id": "b9728c73",
   "metadata": {},
   "outputs": [],
   "source": [
    "b = temp"
   ]
  },
  {
   "cell_type": "code",
   "execution_count": 111,
   "id": "79a451f7",
   "metadata": {},
   "outputs": [
    {
     "data": {
      "text/plain": [
       "20"
      ]
     },
     "execution_count": 111,
     "metadata": {},
     "output_type": "execute_result"
    }
   ],
   "source": [
    "a"
   ]
  },
  {
   "cell_type": "code",
   "execution_count": 112,
   "id": "11940c46",
   "metadata": {},
   "outputs": [
    {
     "data": {
      "text/plain": [
       "10"
      ]
     },
     "execution_count": 112,
     "metadata": {},
     "output_type": "execute_result"
    }
   ],
   "source": [
    "b"
   ]
  },
  {
   "cell_type": "code",
   "execution_count": 113,
   "id": "7bd510c4",
   "metadata": {},
   "outputs": [],
   "source": [
    "a,b = b,a"
   ]
  },
  {
   "cell_type": "code",
   "execution_count": 114,
   "id": "eca47d0f",
   "metadata": {},
   "outputs": [
    {
     "data": {
      "text/plain": [
       "10"
      ]
     },
     "execution_count": 114,
     "metadata": {},
     "output_type": "execute_result"
    }
   ],
   "source": [
    "a"
   ]
  },
  {
   "cell_type": "code",
   "execution_count": 115,
   "id": "2582ac8a",
   "metadata": {},
   "outputs": [
    {
     "data": {
      "text/plain": [
       "20"
      ]
     },
     "execution_count": 115,
     "metadata": {},
     "output_type": "execute_result"
    }
   ],
   "source": [
    "b"
   ]
  },
  {
   "cell_type": "markdown",
   "id": "1c2a5af1",
   "metadata": {},
   "source": [
    "# Dictionaries"
   ]
  },
  {
   "cell_type": "code",
   "execution_count": 116,
   "id": "a0ce9389",
   "metadata": {},
   "outputs": [],
   "source": [
    "Person = {\n",
    "    \"name\": \"Bipin Kalra\",\n",
    "    \"company\": \"Scaler\",\n",
    "    \"age\": 5000\n",
    "}"
   ]
  },
  {
   "cell_type": "code",
   "execution_count": 117,
   "id": "196b9fa9",
   "metadata": {},
   "outputs": [
    {
     "data": {
      "text/plain": [
       "'Bipin Kalra'"
      ]
     },
     "execution_count": 117,
     "metadata": {},
     "output_type": "execute_result"
    }
   ],
   "source": [
    "Person[\"name\"]"
   ]
  },
  {
   "cell_type": "code",
   "execution_count": 118,
   "id": "9111c267",
   "metadata": {},
   "outputs": [
    {
     "data": {
      "text/plain": [
       "'Bipin Kalra'"
      ]
     },
     "execution_count": 118,
     "metadata": {},
     "output_type": "execute_result"
    }
   ],
   "source": [
    "Person.get(\"name\")"
   ]
  },
  {
   "cell_type": "code",
   "execution_count": 119,
   "id": "bfd5b870",
   "metadata": {},
   "outputs": [],
   "source": [
    "Person[\"name\"] = \"Odinson\""
   ]
  },
  {
   "cell_type": "code",
   "execution_count": 120,
   "id": "3de63773",
   "metadata": {},
   "outputs": [
    {
     "data": {
      "text/plain": [
       "{'name': 'Odinson', 'company': 'Scaler', 'age': 5000}"
      ]
     },
     "execution_count": 120,
     "metadata": {},
     "output_type": "execute_result"
    }
   ],
   "source": [
    "Person"
   ]
  },
  {
   "cell_type": "code",
   "execution_count": 121,
   "id": "4e3bae55",
   "metadata": {},
   "outputs": [],
   "source": [
    "Person.update({\n",
    "    \"name\": \"Thor Odinson\",\n",
    "    \"strongest_avenger\": False\n",
    "})"
   ]
  },
  {
   "cell_type": "code",
   "execution_count": 123,
   "id": "3d9309a1",
   "metadata": {},
   "outputs": [
    {
     "data": {
      "text/plain": [
       "{'name': 'Thor Odinson',\n",
       " 'company': 'Scaler',\n",
       " 'age': 5000,\n",
       " 'strongest_avenger': False}"
      ]
     },
     "execution_count": 123,
     "metadata": {},
     "output_type": "execute_result"
    }
   ],
   "source": [
    "Person"
   ]
  },
  {
   "cell_type": "code",
   "execution_count": 124,
   "id": "d142103a",
   "metadata": {},
   "outputs": [
    {
     "data": {
      "text/plain": [
       "5000"
      ]
     },
     "execution_count": 124,
     "metadata": {},
     "output_type": "execute_result"
    }
   ],
   "source": [
    "Person.pop(\"age\")"
   ]
  },
  {
   "cell_type": "code",
   "execution_count": 125,
   "id": "770fc83d",
   "metadata": {},
   "outputs": [
    {
     "data": {
      "text/plain": [
       "{'name': 'Thor Odinson', 'company': 'Scaler', 'strongest_avenger': False}"
      ]
     },
     "execution_count": 125,
     "metadata": {},
     "output_type": "execute_result"
    }
   ],
   "source": [
    "Person"
   ]
  },
  {
   "cell_type": "code",
   "execution_count": 126,
   "id": "150db216",
   "metadata": {},
   "outputs": [],
   "source": [
    "Person[\"age\"] = 5000"
   ]
  },
  {
   "cell_type": "code",
   "execution_count": 127,
   "id": "3abe5df1",
   "metadata": {},
   "outputs": [
    {
     "data": {
      "text/plain": [
       "{'name': 'Thor Odinson',\n",
       " 'company': 'Scaler',\n",
       " 'strongest_avenger': False,\n",
       " 'age': 5000}"
      ]
     },
     "execution_count": 127,
     "metadata": {},
     "output_type": "execute_result"
    }
   ],
   "source": [
    "Person"
   ]
  },
  {
   "cell_type": "code",
   "execution_count": 128,
   "id": "77758f34",
   "metadata": {},
   "outputs": [],
   "source": [
    "Person[(1,2,3)] = \"Bizarre\""
   ]
  },
  {
   "cell_type": "code",
   "execution_count": 129,
   "id": "57c3b581",
   "metadata": {},
   "outputs": [
    {
     "data": {
      "text/plain": [
       "{'name': 'Thor Odinson',\n",
       " 'company': 'Scaler',\n",
       " 'strongest_avenger': False,\n",
       " 'age': 5000,\n",
       " (1, 2, 3): 'Bizarre'}"
      ]
     },
     "execution_count": 129,
     "metadata": {},
     "output_type": "execute_result"
    }
   ],
   "source": [
    "Person"
   ]
  },
  {
   "cell_type": "code",
   "execution_count": 152,
   "id": "77d8c95f",
   "metadata": {},
   "outputs": [],
   "source": [
    "a = {\n",
    "    \"string\" : [12,13],\n",
    "    23: \"integer\",\n",
    "    (1,2,3): {\n",
    "        \"abc\": \"am nested dictionary\"\n",
    "    }\n",
    "}"
   ]
  },
  {
   "cell_type": "code",
   "execution_count": 153,
   "id": "536789dc",
   "metadata": {},
   "outputs": [
    {
     "data": {
      "text/plain": [
       "{'string': [12, 13], 23: 'integer', (1, 2, 3): {'abc': 'am nested dictionary'}}"
      ]
     },
     "execution_count": 153,
     "metadata": {},
     "output_type": "execute_result"
    }
   ],
   "source": [
    "a"
   ]
  },
  {
   "cell_type": "code",
   "execution_count": 154,
   "id": "674418f1",
   "metadata": {},
   "outputs": [],
   "source": [
    "a[True] = False"
   ]
  },
  {
   "cell_type": "code",
   "execution_count": 155,
   "id": "79e2ef2e",
   "metadata": {},
   "outputs": [
    {
     "data": {
      "text/plain": [
       "{'string': [12, 13],\n",
       " 23: 'integer',\n",
       " (1, 2, 3): {'abc': 'am nested dictionary'},\n",
       " True: False}"
      ]
     },
     "execution_count": 155,
     "metadata": {},
     "output_type": "execute_result"
    }
   ],
   "source": [
    "a"
   ]
  },
  {
   "cell_type": "code",
   "execution_count": 159,
   "id": "3c08b3f4",
   "metadata": {},
   "outputs": [],
   "source": [
    "funky = \"anything\""
   ]
  },
  {
   "cell_type": "code",
   "execution_count": 160,
   "id": "a0abc955",
   "metadata": {},
   "outputs": [
    {
     "data": {
      "text/plain": [
       "{'string': [12, 13],\n",
       " 23: 'integer',\n",
       " (1, 2, 3): {'abc': 'am nested dictionary'},\n",
       " True: False,\n",
       " 'bizarre': 'why?'}"
      ]
     },
     "execution_count": 160,
     "metadata": {},
     "output_type": "execute_result"
    }
   ],
   "source": [
    "a"
   ]
  },
  {
   "cell_type": "code",
   "execution_count": 158,
   "id": "143bb0c4",
   "metadata": {},
   "outputs": [
    {
     "data": {
      "text/plain": [
       "'am nested dictionary'"
      ]
     },
     "execution_count": 158,
     "metadata": {},
     "output_type": "execute_result"
    }
   ],
   "source": [
    "a[(1,2,3)]['abc']"
   ]
  },
  {
   "cell_type": "code",
   "execution_count": 164,
   "id": "0072f774",
   "metadata": {},
   "outputs": [
    {
     "name": "stdout",
     "output_type": "stream",
     "text": [
      "name\n",
      "company\n",
      "strongest_avenger\n",
      "age\n",
      "(1, 2, 3)\n"
     ]
    }
   ],
   "source": [
    "for x in Person.keys():\n",
    "    print(x)"
   ]
  },
  {
   "cell_type": "code",
   "execution_count": 165,
   "id": "b64240cc",
   "metadata": {},
   "outputs": [],
   "source": [
    "b = a.items()"
   ]
  },
  {
   "cell_type": "code",
   "execution_count": 166,
   "id": "09a8e653",
   "metadata": {},
   "outputs": [
    {
     "data": {
      "text/plain": [
       "dict_items([('string', [12, 13]), (23, 'integer'), ((1, 2, 3), {'abc': 'am nested dictionary'}), (True, False), ('bizarre', 'why?')])"
      ]
     },
     "execution_count": 166,
     "metadata": {},
     "output_type": "execute_result"
    }
   ],
   "source": [
    "b"
   ]
  },
  {
   "cell_type": "code",
   "execution_count": 168,
   "id": "e73bb68b",
   "metadata": {
    "scrolled": false
   },
   "outputs": [
    {
     "data": {
      "text/plain": [
       "dict_items([('string', [12, 13]), (23, 'integer'), ((1, 2, 3), {'abc': 'am nested dictionary'}), (True, False), ('bizarre', 'why?')])"
      ]
     },
     "execution_count": 168,
     "metadata": {},
     "output_type": "execute_result"
    }
   ],
   "source": [
    "b"
   ]
  },
  {
   "cell_type": "code",
   "execution_count": 171,
   "id": "cdf9b063",
   "metadata": {},
   "outputs": [
    {
     "name": "stdout",
     "output_type": "stream",
     "text": [
      "[('string', [12, 13]), (23, 'integer'), ((1, 2, 3), {'abc': 'am nested dictionary'}), (True, False), ('bizarre', 'why?')]\n"
     ]
    }
   ],
   "source": [
    "c = list(b)\n",
    "print(c)"
   ]
  },
  {
   "cell_type": "code",
   "execution_count": 170,
   "id": "a4401a4f",
   "metadata": {},
   "outputs": [
    {
     "name": "stdout",
     "output_type": "stream",
     "text": [
      "name => Thor Odinson\n",
      "company => Scaler\n",
      "strongest_avenger => False\n",
      "age => 5000\n",
      "(1, 2, 3) => Bizarre\n"
     ]
    }
   ],
   "source": [
    "for key, value in Person.items():\n",
    "    print(key, \"=>\", value)"
   ]
  },
  {
   "cell_type": "code",
   "execution_count": 172,
   "id": "b75a0481",
   "metadata": {},
   "outputs": [],
   "source": [
    "dict1 = {\n",
    "    1: \"a\",\n",
    "    2: \"b\",\n",
    "    3: \"c\"\n",
    "}"
   ]
  },
  {
   "cell_type": "code",
   "execution_count": 176,
   "id": "21f37c9a",
   "metadata": {},
   "outputs": [],
   "source": [
    "result = dict1.get(7, \"Not Found\")\n",
    "# get function can take default values"
   ]
  },
  {
   "cell_type": "code",
   "execution_count": 177,
   "id": "de8aee6e",
   "metadata": {},
   "outputs": [
    {
     "name": "stdout",
     "output_type": "stream",
     "text": [
      "Not Found\n"
     ]
    }
   ],
   "source": [
    "print(result)"
   ]
  },
  {
   "cell_type": "markdown",
   "id": "0fb9de7b",
   "metadata": {},
   "source": [
    "# Sets"
   ]
  },
  {
   "cell_type": "code",
   "execution_count": 180,
   "id": "395b1322",
   "metadata": {},
   "outputs": [],
   "source": [
    "# - Unordered\n",
    "# - Unique\n",
    "# - Mutable"
   ]
  },
  {
   "cell_type": "code",
   "execution_count": 194,
   "id": "5bb26142",
   "metadata": {},
   "outputs": [],
   "source": [
    "s1 = {4, 6, 7, 8, 9, 10, 10, 10}"
   ]
  },
  {
   "cell_type": "code",
   "execution_count": 195,
   "id": "4fcef2d7",
   "metadata": {},
   "outputs": [
    {
     "data": {
      "text/plain": [
       "{4, 6, 7, 8, 9, 10}"
      ]
     },
     "execution_count": 195,
     "metadata": {},
     "output_type": "execute_result"
    }
   ],
   "source": [
    "s1"
   ]
  },
  {
   "cell_type": "code",
   "execution_count": 197,
   "id": "f59ceab4",
   "metadata": {},
   "outputs": [],
   "source": [
    "s2 = set([1,2,3,4,5])"
   ]
  },
  {
   "cell_type": "code",
   "execution_count": 198,
   "id": "8a00f81d",
   "metadata": {},
   "outputs": [
    {
     "data": {
      "text/plain": [
       "{1, 2, 3, 4, 5}"
      ]
     },
     "execution_count": 198,
     "metadata": {},
     "output_type": "execute_result"
    }
   ],
   "source": [
    "s2"
   ]
  },
  {
   "cell_type": "code",
   "execution_count": 199,
   "id": "163d2abf",
   "metadata": {},
   "outputs": [],
   "source": [
    "s2 = {}"
   ]
  },
  {
   "cell_type": "code",
   "execution_count": 200,
   "id": "7545c2b6",
   "metadata": {},
   "outputs": [
    {
     "data": {
      "text/plain": [
       "dict"
      ]
     },
     "execution_count": 200,
     "metadata": {},
     "output_type": "execute_result"
    }
   ],
   "source": [
    "type(s2)"
   ]
  },
  {
   "cell_type": "code",
   "execution_count": 201,
   "id": "a5648401",
   "metadata": {},
   "outputs": [],
   "source": [
    "s3 = set()"
   ]
  },
  {
   "cell_type": "code",
   "execution_count": 202,
   "id": "0d02bc47",
   "metadata": {},
   "outputs": [
    {
     "data": {
      "text/plain": [
       "set"
      ]
     },
     "execution_count": 202,
     "metadata": {},
     "output_type": "execute_result"
    }
   ],
   "source": [
    "type(s3)"
   ]
  },
  {
   "cell_type": "code",
   "execution_count": 204,
   "id": "32ed517b",
   "metadata": {},
   "outputs": [],
   "source": [
    "s1.add(100)"
   ]
  },
  {
   "cell_type": "code",
   "execution_count": 205,
   "id": "094babda",
   "metadata": {},
   "outputs": [
    {
     "data": {
      "text/plain": [
       "{4, 6, 7, 8, 9, 10, 100}"
      ]
     },
     "execution_count": 205,
     "metadata": {},
     "output_type": "execute_result"
    }
   ],
   "source": [
    "s1"
   ]
  },
  {
   "cell_type": "code",
   "execution_count": 206,
   "id": "6d8e8d9e",
   "metadata": {},
   "outputs": [],
   "source": [
    "s1.remove(10)"
   ]
  },
  {
   "cell_type": "code",
   "execution_count": 207,
   "id": "fcee300f",
   "metadata": {},
   "outputs": [
    {
     "data": {
      "text/plain": [
       "{4, 6, 7, 8, 9, 100}"
      ]
     },
     "execution_count": 207,
     "metadata": {},
     "output_type": "execute_result"
    }
   ],
   "source": [
    "s1"
   ]
  },
  {
   "cell_type": "code",
   "execution_count": 209,
   "id": "b6922e90",
   "metadata": {},
   "outputs": [
    {
     "name": "stdout",
     "output_type": "stream",
     "text": [
      "4\n",
      "100\n",
      "6\n",
      "7\n",
      "8\n",
      "9\n"
     ]
    }
   ],
   "source": [
    "for i in s1:\n",
    "    print(i)"
   ]
  },
  {
   "cell_type": "code",
   "execution_count": 210,
   "id": "436b75d0",
   "metadata": {},
   "outputs": [],
   "source": [
    "string1 = \"this is a string which has a lot of repetitive characters!\""
   ]
  },
  {
   "cell_type": "code",
   "execution_count": 211,
   "id": "8652f9c9",
   "metadata": {},
   "outputs": [
    {
     "data": {
      "text/plain": [
       "18"
      ]
     },
     "execution_count": 211,
     "metadata": {},
     "output_type": "execute_result"
    }
   ],
   "source": [
    "len(set(string1))"
   ]
  },
  {
   "cell_type": "code",
   "execution_count": 212,
   "id": "55be19bb",
   "metadata": {},
   "outputs": [
    {
     "data": {
      "text/plain": [
       "{' ',\n",
       " '!',\n",
       " 'a',\n",
       " 'c',\n",
       " 'e',\n",
       " 'f',\n",
       " 'g',\n",
       " 'h',\n",
       " 'i',\n",
       " 'l',\n",
       " 'n',\n",
       " 'o',\n",
       " 'p',\n",
       " 'r',\n",
       " 's',\n",
       " 't',\n",
       " 'v',\n",
       " 'w'}"
      ]
     },
     "execution_count": 212,
     "metadata": {},
     "output_type": "execute_result"
    }
   ],
   "source": [
    "set(string1)"
   ]
  },
  {
   "cell_type": "code",
   "execution_count": 213,
   "id": "f900397b",
   "metadata": {},
   "outputs": [],
   "source": [
    "s1 = {1,2,3}\n",
    "s2 = {1,3,4,5,6}"
   ]
  },
  {
   "cell_type": "code",
   "execution_count": 214,
   "id": "e2ff32b2",
   "metadata": {},
   "outputs": [
    {
     "data": {
      "text/plain": [
       "{1, 2, 3, 4, 5, 6}"
      ]
     },
     "execution_count": 214,
     "metadata": {},
     "output_type": "execute_result"
    }
   ],
   "source": [
    "s1.union(s2)"
   ]
  },
  {
   "cell_type": "code",
   "execution_count": 217,
   "id": "85fe16de",
   "metadata": {},
   "outputs": [
    {
     "data": {
      "text/plain": [
       "{1, 2, 3, 4, 5, 6}"
      ]
     },
     "execution_count": 217,
     "metadata": {},
     "output_type": "execute_result"
    }
   ],
   "source": [
    "s1 | s2\n",
    "# Union"
   ]
  },
  {
   "cell_type": "code",
   "execution_count": 218,
   "id": "3be7ae94",
   "metadata": {},
   "outputs": [
    {
     "data": {
      "text/plain": [
       "{1, 3}"
      ]
     },
     "execution_count": 218,
     "metadata": {},
     "output_type": "execute_result"
    }
   ],
   "source": [
    "s1.intersection(s2)"
   ]
  },
  {
   "cell_type": "code",
   "execution_count": 220,
   "id": "ce2ae2cd",
   "metadata": {},
   "outputs": [
    {
     "data": {
      "text/plain": [
       "{1, 3}"
      ]
     },
     "execution_count": 220,
     "metadata": {},
     "output_type": "execute_result"
    }
   ],
   "source": [
    "s1 & s2\n",
    "# Intersetion"
   ]
  },
  {
   "cell_type": "code",
   "execution_count": 221,
   "id": "b62e04af",
   "metadata": {},
   "outputs": [
    {
     "data": {
      "text/plain": [
       "{2}"
      ]
     },
     "execution_count": 221,
     "metadata": {},
     "output_type": "execute_result"
    }
   ],
   "source": [
    "s1.difference(s2)"
   ]
  },
  {
   "cell_type": "code",
   "execution_count": 225,
   "id": "f4bf619e",
   "metadata": {},
   "outputs": [
    {
     "data": {
      "text/plain": [
       "{2}"
      ]
     },
     "execution_count": 225,
     "metadata": {},
     "output_type": "execute_result"
    }
   ],
   "source": [
    "s1 - s2\n",
    "# difference"
   ]
  },
  {
   "cell_type": "code",
   "execution_count": 226,
   "id": "871945f4",
   "metadata": {},
   "outputs": [
    {
     "data": {
      "text/plain": [
       "False"
      ]
     },
     "execution_count": 226,
     "metadata": {},
     "output_type": "execute_result"
    }
   ],
   "source": [
    "s1 - s2 == s2 - s1"
   ]
  },
  {
   "cell_type": "code",
   "execution_count": 227,
   "id": "6ffc8339",
   "metadata": {},
   "outputs": [
    {
     "data": {
      "text/plain": [
       "{2, 4, 5, 6}"
      ]
     },
     "execution_count": 227,
     "metadata": {},
     "output_type": "execute_result"
    }
   ],
   "source": [
    "s1.symmetric_difference(s2)"
   ]
  },
  {
   "cell_type": "code",
   "execution_count": 229,
   "id": "ea4070d4",
   "metadata": {},
   "outputs": [
    {
     "data": {
      "text/plain": [
       "{2, 4, 5, 6}"
      ]
     },
     "execution_count": 229,
     "metadata": {},
     "output_type": "execute_result"
    }
   ],
   "source": [
    "s1 ^ s2\n",
    "# symmetric difference"
   ]
  },
  {
   "cell_type": "code",
   "execution_count": 231,
   "id": "5f2fb0c3",
   "metadata": {},
   "outputs": [
    {
     "ename": "TypeError",
     "evalue": "unhashable type: 'list'",
     "output_type": "error",
     "traceback": [
      "\u001b[0;31m---------------------------------------------------------------------------\u001b[0m",
      "\u001b[0;31mTypeError\u001b[0m                                 Traceback (most recent call last)",
      "\u001b[0;32m/var/folders/nn/c52y0d3j0gq59dpsswchkt2r0000gn/T/ipykernel_21621/2759621284.py\u001b[0m in \u001b[0;36m<module>\u001b[0;34m\u001b[0m\n\u001b[0;32m----> 1\u001b[0;31m \u001b[0ms\u001b[0m \u001b[0;34m=\u001b[0m \u001b[0;34m{\u001b[0m\u001b[0;36m1\u001b[0m\u001b[0;34m,\u001b[0m \u001b[0;34m\"scaler\"\u001b[0m\u001b[0;34m,\u001b[0m \u001b[0;34m[\u001b[0m\u001b[0;36m1\u001b[0m\u001b[0;34m,\u001b[0m\u001b[0;36m2\u001b[0m\u001b[0;34m,\u001b[0m\u001b[0;36m3\u001b[0m\u001b[0;34m]\u001b[0m\u001b[0;34m,\u001b[0m \u001b[0;32mTrue\u001b[0m\u001b[0;34m}\u001b[0m\u001b[0;34m\u001b[0m\u001b[0;34m\u001b[0m\u001b[0m\n\u001b[0m\u001b[1;32m      2\u001b[0m \u001b[0;31m# A set can only hold immutable datatypes\u001b[0m\u001b[0;34m\u001b[0m\u001b[0;34m\u001b[0m\u001b[0;34m\u001b[0m\u001b[0m\n",
      "\u001b[0;31mTypeError\u001b[0m: unhashable type: 'list'"
     ]
    }
   ],
   "source": [
    "s = {1, \"scaler\", [1,2,3], True}\n",
    "# A set can only hold immutable datatypes"
   ]
  },
  {
   "cell_type": "code",
   "execution_count": 232,
   "id": "54046271",
   "metadata": {},
   "outputs": [],
   "source": [
    "s = {1, \"scaler\", (1,2,3), True}"
   ]
  },
  {
   "cell_type": "code",
   "execution_count": 233,
   "id": "7fa5f794",
   "metadata": {},
   "outputs": [],
   "source": [
    "# H/W"
   ]
  },
  {
   "cell_type": "code",
   "execution_count": 235,
   "id": "292da12c",
   "metadata": {},
   "outputs": [],
   "source": [
    "str1 = \"100101010101\"\n",
    "# Whether this string represents a binary number or not"
   ]
  },
  {
   "cell_type": "code",
   "execution_count": null,
   "id": "a4ce4525",
   "metadata": {},
   "outputs": [],
   "source": []
  }
 ],
 "metadata": {
  "kernelspec": {
   "display_name": "Python 3 (ipykernel)",
   "language": "python",
   "name": "python3"
  },
  "language_info": {
   "codemirror_mode": {
    "name": "ipython",
    "version": 3
   },
   "file_extension": ".py",
   "mimetype": "text/x-python",
   "name": "python",
   "nbconvert_exporter": "python",
   "pygments_lexer": "ipython3",
   "version": "3.9.5"
  }
 },
 "nbformat": 4,
 "nbformat_minor": 5
}
