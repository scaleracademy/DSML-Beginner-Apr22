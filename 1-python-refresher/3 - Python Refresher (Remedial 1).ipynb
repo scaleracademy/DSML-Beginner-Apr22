{
 "cells": [
  {
   "cell_type": "code",
   "execution_count": null,
   "id": "166bbade",
   "metadata": {},
   "outputs": [],
   "source": [
    "5 > 6"
   ]
  },
  {
   "cell_type": "code",
   "execution_count": null,
   "id": "21ce5334",
   "metadata": {},
   "outputs": [],
   "source": [
    "\"Iron Man\" == \"Iron Man\""
   ]
  },
  {
   "cell_type": "code",
   "execution_count": null,
   "id": "f3f365cf",
   "metadata": {},
   "outputs": [],
   "source": [
    "value = \"Thanos\"\n",
    "\n",
    "if value == \"Thanos\":\n",
    "    print(\"I am inevitable!\")\n",
    "else value == \"Iron Man\":\n",
    "    print(\"I am Iron Man!\")"
   ]
  },
  {
   "cell_type": "code",
   "execution_count": null,
   "id": "115f8d2f",
   "metadata": {},
   "outputs": [],
   "source": [
    "value = \"Thanos\"\n",
    "\n",
    "if value == \"Thanos\":\n",
    "    print(\"I am inevitable!\")\n",
    "elif value == \"Iron Man\":\n",
    "    print(\"I am Iron Man!\")\n",
    "else:\n",
    "    print(\"I AM GROOT!\")"
   ]
  },
  {
   "cell_type": "code",
   "execution_count": null,
   "id": "d5ead625",
   "metadata": {},
   "outputs": [],
   "source": [
    "a = 60\n",
    "if a > 50:\n",
    "    print(\"FIRST\")\n",
    "if a > 40:\n",
    "    print(\"SECOND\")"
   ]
  },
  {
   "cell_type": "code",
   "execution_count": null,
   "id": "7de659c0",
   "metadata": {},
   "outputs": [],
   "source": [
    "def sum(a,b):\n",
    "    return a + b"
   ]
  },
  {
   "cell_type": "code",
   "execution_count": null,
   "id": "6068a738",
   "metadata": {},
   "outputs": [],
   "source": [
    "sum(5,6)"
   ]
  },
  {
   "cell_type": "code",
   "execution_count": null,
   "id": "6079b2cf",
   "metadata": {},
   "outputs": [],
   "source": [
    "a = \"python\""
   ]
  },
  {
   "cell_type": "code",
   "execution_count": null,
   "id": "8a9be525",
   "metadata": {},
   "outputs": [],
   "source": [
    "for x in a:\n",
    "    print(x)"
   ]
  },
  {
   "cell_type": "code",
   "execution_count": null,
   "id": "1ccc27f7",
   "metadata": {},
   "outputs": [],
   "source": [
    "a = 10\n",
    "\n",
    "while a > 0:\n",
    "    print(a)\n",
    "    a = a - 1"
   ]
  },
  {
   "cell_type": "code",
   "execution_count": null,
   "id": "4a247992",
   "metadata": {},
   "outputs": [],
   "source": [
    "_"
   ]
  },
  {
   "cell_type": "code",
   "execution_count": null,
   "id": "6fb3c32c",
   "metadata": {
    "scrolled": true
   },
   "outputs": [],
   "source": [
    "for x in a:\n",
    "    print(x)"
   ]
  },
  {
   "cell_type": "code",
   "execution_count": null,
   "id": "faafa186",
   "metadata": {},
   "outputs": [],
   "source": [
    "a = \"python\""
   ]
  },
  {
   "cell_type": "code",
   "execution_count": null,
   "id": "aa45f412",
   "metadata": {},
   "outputs": [],
   "source": [
    "for x in a:\n",
    "    print(x)"
   ]
  },
  {
   "cell_type": "code",
   "execution_count": null,
   "id": "022b51f6",
   "metadata": {},
   "outputs": [],
   "source": [
    "a"
   ]
  },
  {
   "cell_type": "code",
   "execution_count": null,
   "id": "88bdf2e7",
   "metadata": {},
   "outputs": [],
   "source": [
    "it = iter(a)"
   ]
  },
  {
   "cell_type": "code",
   "execution_count": null,
   "id": "fa752f35",
   "metadata": {},
   "outputs": [],
   "source": [
    "it"
   ]
  },
  {
   "cell_type": "code",
   "execution_count": null,
   "id": "ae0d72d4",
   "metadata": {},
   "outputs": [],
   "source": [
    "# it2 = iter(56)"
   ]
  },
  {
   "cell_type": "code",
   "execution_count": null,
   "id": "120669f8",
   "metadata": {},
   "outputs": [],
   "source": [
    "next(it)"
   ]
  },
  {
   "cell_type": "code",
   "execution_count": null,
   "id": "df63e6bf",
   "metadata": {},
   "outputs": [],
   "source": [
    "next"
   ]
  },
  {
   "cell_type": "code",
   "execution_count": null,
   "id": "b177900a",
   "metadata": {},
   "outputs": [],
   "source": [
    "next(it)"
   ]
  },
  {
   "cell_type": "code",
   "execution_count": null,
   "id": "80fa3560",
   "metadata": {},
   "outputs": [],
   "source": [
    "a = \"marvel\""
   ]
  },
  {
   "cell_type": "code",
   "execution_count": null,
   "id": "d0d5745e",
   "metadata": {},
   "outputs": [],
   "source": [
    "marvel_iterator = iter(a)"
   ]
  },
  {
   "cell_type": "code",
   "execution_count": null,
   "id": "84837a26",
   "metadata": {},
   "outputs": [],
   "source": [
    "next(marvel_iterator)"
   ]
  },
  {
   "cell_type": "code",
   "execution_count": null,
   "id": "b7d13ca8",
   "metadata": {},
   "outputs": [],
   "source": [
    "for x in range(10):\n",
    "    print(x)"
   ]
  },
  {
   "cell_type": "code",
   "execution_count": null,
   "id": "f7a20caa",
   "metadata": {},
   "outputs": [],
   "source": [
    "random = range(10)"
   ]
  },
  {
   "cell_type": "code",
   "execution_count": null,
   "id": "3de9175b",
   "metadata": {},
   "outputs": [],
   "source": [
    "random"
   ]
  },
  {
   "cell_type": "code",
   "execution_count": null,
   "id": "404d419e",
   "metadata": {},
   "outputs": [],
   "source": [
    "type(random)"
   ]
  },
  {
   "cell_type": "code",
   "execution_count": null,
   "id": "8b313dfb",
   "metadata": {},
   "outputs": [],
   "source": [
    "it = iter(random)"
   ]
  },
  {
   "cell_type": "code",
   "execution_count": null,
   "id": "fc17a54d",
   "metadata": {},
   "outputs": [],
   "source": [
    "it"
   ]
  },
  {
   "cell_type": "code",
   "execution_count": null,
   "id": "c687a260",
   "metadata": {},
   "outputs": [],
   "source": [
    "next(it)"
   ]
  },
  {
   "cell_type": "code",
   "execution_count": null,
   "id": "cbfe6622",
   "metadata": {},
   "outputs": [],
   "source": [
    "next(it)"
   ]
  },
  {
   "cell_type": "code",
   "execution_count": null,
   "id": "5fb7a372",
   "metadata": {},
   "outputs": [],
   "source": [
    "for i in range(5,10,2):\n",
    "    print(i)"
   ]
  },
  {
   "cell_type": "code",
   "execution_count": null,
   "id": "44244db9",
   "metadata": {},
   "outputs": [],
   "source": [
    "def sheldon_knock(name):\n",
    "    print(\"knock knock\", name)\n",
    "    print(\"knock knock\", name)\n",
    "    print(\"knock knock\", name)"
   ]
  },
  {
   "cell_type": "code",
   "execution_count": null,
   "id": "bd0dd70e",
   "metadata": {},
   "outputs": [],
   "source": [
    "sheldon_knock(\"penny\")"
   ]
  },
  {
   "cell_type": "code",
   "execution_count": null,
   "id": "585aa994",
   "metadata": {},
   "outputs": [],
   "source": [
    "sheldon_knock(\"leonard\")"
   ]
  },
  {
   "cell_type": "code",
   "execution_count": null,
   "id": "bd251570",
   "metadata": {},
   "outputs": [],
   "source": [
    "def sum(a,b):\n",
    "    print(\"a = \", a)\n",
    "    print(\"b = \", b)\n",
    "    return a + b"
   ]
  },
  {
   "cell_type": "code",
   "execution_count": null,
   "id": "fc221b92",
   "metadata": {},
   "outputs": [],
   "source": [
    "sum(b = 10, a = 5)"
   ]
  },
  {
   "cell_type": "code",
   "execution_count": null,
   "id": "3d9cbf94",
   "metadata": {},
   "outputs": [],
   "source": [
    "sum(7)"
   ]
  },
  {
   "cell_type": "code",
   "execution_count": null,
   "id": "9cd39dbd",
   "metadata": {},
   "outputs": [],
   "source": []
  },
  {
   "cell_type": "code",
   "execution_count": null,
   "id": "608eaeab",
   "metadata": {},
   "outputs": [],
   "source": []
  },
  {
   "cell_type": "code",
   "execution_count": null,
   "id": "dcb8dde0",
   "metadata": {},
   "outputs": [],
   "source": [
    "abc = sum(80,60)"
   ]
  },
  {
   "cell_type": "code",
   "execution_count": null,
   "id": "7f60e100",
   "metadata": {},
   "outputs": [],
   "source": []
  },
  {
   "cell_type": "code",
   "execution_count": null,
   "id": "c9350775",
   "metadata": {},
   "outputs": [],
   "source": [
    "type(abc)"
   ]
  },
  {
   "cell_type": "code",
   "execution_count": null,
   "id": "f045eb82",
   "metadata": {},
   "outputs": [],
   "source": [
    "print(abc)"
   ]
  },
  {
   "cell_type": "code",
   "execution_count": null,
   "id": "00de67aa",
   "metadata": {},
   "outputs": [],
   "source": []
  },
  {
   "cell_type": "code",
   "execution_count": null,
   "id": "298642d8",
   "metadata": {},
   "outputs": [],
   "source": [
    "sum(5,6)"
   ]
  },
  {
   "cell_type": "code",
   "execution_count": null,
   "id": "26aa2840",
   "metadata": {},
   "outputs": [],
   "source": []
  },
  {
   "cell_type": "code",
   "execution_count": null,
   "id": "ea30afe5",
   "metadata": {},
   "outputs": [],
   "source": [
    "sum(10,90)"
   ]
  },
  {
   "cell_type": "code",
   "execution_count": null,
   "id": "657573ac",
   "metadata": {},
   "outputs": [],
   "source": [
    "def whatsMyName(name):\n",
    "    return name"
   ]
  },
  {
   "cell_type": "code",
   "execution_count": null,
   "id": "9406c5f2",
   "metadata": {},
   "outputs": [],
   "source": [
    "myName = whatsMyName(\"bipin\")"
   ]
  },
  {
   "cell_type": "code",
   "execution_count": null,
   "id": "51da4413",
   "metadata": {},
   "outputs": [],
   "source": [
    "myName"
   ]
  },
  {
   "cell_type": "code",
   "execution_count": null,
   "id": "f895151d",
   "metadata": {},
   "outputs": [],
   "source": [
    "def sum(a,b,c=10):\n",
    "    return a+b+c"
   ]
  },
  {
   "cell_type": "code",
   "execution_count": null,
   "id": "822a260d",
   "metadata": {},
   "outputs": [],
   "source": [
    "sum(60,70,100)"
   ]
  },
  {
   "cell_type": "code",
   "execution_count": null,
   "id": "1d13e117",
   "metadata": {},
   "outputs": [],
   "source": [
    "def xyz(a = 4, b = 10):\n",
    "    print(a,b)"
   ]
  },
  {
   "cell_type": "code",
   "execution_count": null,
   "id": "cfd730e7",
   "metadata": {},
   "outputs": [],
   "source": [
    "xyz(10)"
   ]
  },
  {
   "cell_type": "code",
   "execution_count": 1,
   "id": "e7e81215",
   "metadata": {},
   "outputs": [
    {
     "data": {
      "text/plain": [
       "11"
      ]
     },
     "execution_count": 1,
     "metadata": {},
     "output_type": "execute_result"
    }
   ],
   "source": [
    "5+6"
   ]
  },
  {
   "cell_type": "code",
   "execution_count": 2,
   "id": "f0231bd8",
   "metadata": {},
   "outputs": [
    {
     "data": {
      "text/plain": [
       "11"
      ]
     },
     "execution_count": 2,
     "metadata": {},
     "output_type": "execute_result"
    }
   ],
   "source": [
    "_"
   ]
  },
  {
   "cell_type": "code",
   "execution_count": 3,
   "id": "e2703e0a",
   "metadata": {},
   "outputs": [
    {
     "name": "stdout",
     "output_type": "stream",
     "text": [
      "0\n",
      "1\n",
      "2\n",
      "3\n",
      "4\n",
      "5\n",
      "6\n",
      "7\n",
      "8\n",
      "9\n",
      "10\n"
     ]
    }
   ],
   "source": [
    "for i in range(_):\n",
    "    print(i)"
   ]
  },
  {
   "cell_type": "code",
   "execution_count": null,
   "id": "7ae744f6",
   "metadata": {},
   "outputs": [],
   "source": []
  }
 ],
 "metadata": {
  "kernelspec": {
   "display_name": "Python 3 (ipykernel)",
   "language": "python",
   "name": "python3"
  },
  "language_info": {
   "codemirror_mode": {
    "name": "ipython",
    "version": 3
   },
   "file_extension": ".py",
   "mimetype": "text/x-python",
   "name": "python",
   "nbconvert_exporter": "python",
   "pygments_lexer": "ipython3",
   "version": "3.9.5"
  }
 },
 "nbformat": 4,
 "nbformat_minor": 5
}
