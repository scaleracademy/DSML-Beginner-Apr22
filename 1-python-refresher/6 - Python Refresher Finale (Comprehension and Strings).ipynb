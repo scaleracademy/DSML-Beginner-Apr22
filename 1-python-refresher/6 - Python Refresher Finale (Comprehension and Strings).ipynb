{
 "cells": [
  {
   "cell_type": "code",
   "execution_count": 6,
   "id": "b04ca821",
   "metadata": {},
   "outputs": [
    {
     "data": {
      "text/plain": [
       "5"
      ]
     },
     "execution_count": 6,
     "metadata": {},
     "output_type": "execute_result"
    }
   ],
   "source": [
    "_"
   ]
  },
  {
   "cell_type": "code",
   "execution_count": 7,
   "id": "83cd33dd",
   "metadata": {},
   "outputs": [
    {
     "name": "stdout",
     "output_type": "stream",
     "text": [
      "False\n"
     ]
    }
   ],
   "source": [
    "tup1 = (1,2)\n",
    "tup2 = (1,2)\n",
    "\n",
    "print(id(tup1) == id(tup2))"
   ]
  },
  {
   "cell_type": "code",
   "execution_count": 8,
   "id": "c0dc5c5c",
   "metadata": {},
   "outputs": [],
   "source": [
    "def computations(a,b):\n",
    "    return a+b, a-b, a*b, a//b"
   ]
  },
  {
   "cell_type": "code",
   "execution_count": 15,
   "id": "8d4aa0e0",
   "metadata": {},
   "outputs": [],
   "source": [
    "x, y, _, _ = computations(10,2)\n",
    "# _ is also known as a throwaway variable"
   ]
  },
  {
   "cell_type": "code",
   "execution_count": 16,
   "id": "3445e925",
   "metadata": {},
   "outputs": [
    {
     "data": {
      "text/plain": [
       "5"
      ]
     },
     "execution_count": 16,
     "metadata": {},
     "output_type": "execute_result"
    }
   ],
   "source": [
    "_"
   ]
  },
  {
   "cell_type": "code",
   "execution_count": 17,
   "id": "3829551d",
   "metadata": {},
   "outputs": [
    {
     "data": {
      "text/plain": [
       "12"
      ]
     },
     "execution_count": 17,
     "metadata": {},
     "output_type": "execute_result"
    }
   ],
   "source": [
    "x"
   ]
  },
  {
   "cell_type": "code",
   "execution_count": 18,
   "id": "76407ffb",
   "metadata": {},
   "outputs": [
    {
     "data": {
      "text/plain": [
       "8"
      ]
     },
     "execution_count": 18,
     "metadata": {},
     "output_type": "execute_result"
    }
   ],
   "source": [
    "y"
   ]
  },
  {
   "cell_type": "code",
   "execution_count": 19,
   "id": "d8b8b1be",
   "metadata": {},
   "outputs": [
    {
     "ename": "NameError",
     "evalue": "name 'c' is not defined",
     "output_type": "error",
     "traceback": [
      "\u001b[0;31m---------------------------------------------------------------------------\u001b[0m",
      "\u001b[0;31mNameError\u001b[0m                                 Traceback (most recent call last)",
      "\u001b[0;32m/var/folders/nn/c52y0d3j0gq59dpsswchkt2r0000gn/T/ipykernel_25603/3235490055.py\u001b[0m in \u001b[0;36m<module>\u001b[0;34m\u001b[0m\n\u001b[0;32m----> 1\u001b[0;31m \u001b[0mc\u001b[0m\u001b[0;34m\u001b[0m\u001b[0;34m\u001b[0m\u001b[0m\n\u001b[0m",
      "\u001b[0;31mNameError\u001b[0m: name 'c' is not defined"
     ]
    }
   ],
   "source": [
    "c"
   ]
  },
  {
   "cell_type": "code",
   "execution_count": 20,
   "id": "cab74aa5",
   "metadata": {},
   "outputs": [
    {
     "name": "stdout",
     "output_type": "stream",
     "text": [
      "Hello!\n",
      "Hello!\n",
      "Hello!\n",
      "Hello!\n",
      "Hello!\n"
     ]
    }
   ],
   "source": [
    "for _ in range(5):\n",
    "    print(\"Hello!\")"
   ]
  },
  {
   "cell_type": "code",
   "execution_count": 23,
   "id": "1c598845",
   "metadata": {},
   "outputs": [
    {
     "ename": "TypeError",
     "evalue": "'>' not supported between instances of 'str' and 'int'",
     "output_type": "error",
     "traceback": [
      "\u001b[0;31m---------------------------------------------------------------------------\u001b[0m",
      "\u001b[0;31mTypeError\u001b[0m                                 Traceback (most recent call last)",
      "\u001b[0;32m/var/folders/nn/c52y0d3j0gq59dpsswchkt2r0000gn/T/ipykernel_25603/3800346913.py\u001b[0m in \u001b[0;36m<module>\u001b[0;34m\u001b[0m\n\u001b[1;32m      2\u001b[0m \u001b[0mb\u001b[0m \u001b[0;34m=\u001b[0m \u001b[0;34m(\u001b[0m\u001b[0;36m1\u001b[0m\u001b[0;34m,\u001b[0m\u001b[0;36m2\u001b[0m\u001b[0;34m,\u001b[0m\u001b[0;36m3\u001b[0m\u001b[0;34m,\u001b[0m\u001b[0;36m4\u001b[0m\u001b[0;34m)\u001b[0m\u001b[0;34m\u001b[0m\u001b[0;34m\u001b[0m\u001b[0m\n\u001b[1;32m      3\u001b[0m \u001b[0;34m\u001b[0m\u001b[0m\n\u001b[0;32m----> 4\u001b[0;31m \u001b[0mprint\u001b[0m\u001b[0;34m(\u001b[0m\u001b[0ma\u001b[0m \u001b[0;34m>\u001b[0m \u001b[0mb\u001b[0m\u001b[0;34m)\u001b[0m\u001b[0;34m\u001b[0m\u001b[0;34m\u001b[0m\u001b[0m\n\u001b[0m",
      "\u001b[0;31mTypeError\u001b[0m: '>' not supported between instances of 'str' and 'int'"
     ]
    }
   ],
   "source": [
    "a = (1,2,3,'5')\n",
    "b = (1,2,3,4)\n",
    "\n",
    "print(a > b)"
   ]
  },
  {
   "cell_type": "markdown",
   "id": "c76d8eab",
   "metadata": {},
   "source": [
    "# Comprehension!"
   ]
  },
  {
   "cell_type": "code",
   "execution_count": 24,
   "id": "1cf83366",
   "metadata": {},
   "outputs": [],
   "source": [
    "l1 = [1,2,3,4,5]\n",
    "\n",
    "# Create a list which has the squares of all the numbers in l1"
   ]
  },
  {
   "cell_type": "code",
   "execution_count": 31,
   "id": "528f620c",
   "metadata": {},
   "outputs": [],
   "source": [
    "def sq_list(l):\n",
    "    result = []\n",
    "    \n",
    "    for i in l:\n",
    "        result.append(i**2)\n",
    "    \n",
    "    return result"
   ]
  },
  {
   "cell_type": "code",
   "execution_count": 32,
   "id": "fc7ee536",
   "metadata": {},
   "outputs": [
    {
     "data": {
      "text/plain": [
       "[1, 4, 9, 16, 25]"
      ]
     },
     "execution_count": 32,
     "metadata": {},
     "output_type": "execute_result"
    }
   ],
   "source": [
    "sq_list(l1)"
   ]
  },
  {
   "cell_type": "code",
   "execution_count": 33,
   "id": "7bf8b7f8",
   "metadata": {},
   "outputs": [],
   "source": [
    "result1 = [i**2 for i in l1]\n",
    "# Easier to read and shorter to write"
   ]
  },
  {
   "cell_type": "code",
   "execution_count": 34,
   "id": "c8d915ee",
   "metadata": {},
   "outputs": [
    {
     "data": {
      "text/plain": [
       "[1, 4, 9, 16, 25]"
      ]
     },
     "execution_count": 34,
     "metadata": {},
     "output_type": "execute_result"
    }
   ],
   "source": [
    "result1"
   ]
  },
  {
   "cell_type": "code",
   "execution_count": 36,
   "id": "4a769441",
   "metadata": {},
   "outputs": [],
   "source": [
    "# i -> \n",
    "# if i**3 is even -> i**3 + 1\n",
    "# else if i**3 is odd -> i**3 - 1"
   ]
  },
  {
   "cell_type": "code",
   "execution_count": 37,
   "id": "a1256d04",
   "metadata": {},
   "outputs": [],
   "source": [
    "random = [\"what?\" for i in range(5)]"
   ]
  },
  {
   "cell_type": "code",
   "execution_count": 38,
   "id": "066ac46b",
   "metadata": {},
   "outputs": [
    {
     "data": {
      "text/plain": [
       "['what?', 'what?', 'what?', 'what?', 'what?']"
      ]
     },
     "execution_count": 38,
     "metadata": {},
     "output_type": "execute_result"
    }
   ],
   "source": [
    "random"
   ]
  },
  {
   "cell_type": "code",
   "execution_count": 39,
   "id": "a32ba067",
   "metadata": {},
   "outputs": [],
   "source": [
    "def value_generator(i):\n",
    "    return i**2"
   ]
  },
  {
   "cell_type": "code",
   "execution_count": 40,
   "id": "2d4759c9",
   "metadata": {},
   "outputs": [],
   "source": [
    "random = [value_generator(i) for i in range(5)]"
   ]
  },
  {
   "cell_type": "code",
   "execution_count": 41,
   "id": "d1618c6e",
   "metadata": {},
   "outputs": [
    {
     "data": {
      "text/plain": [
       "[0, 1, 4, 9, 16]"
      ]
     },
     "execution_count": 41,
     "metadata": {},
     "output_type": "execute_result"
    }
   ],
   "source": [
    "random"
   ]
  },
  {
   "cell_type": "code",
   "execution_count": 42,
   "id": "6bc86512",
   "metadata": {},
   "outputs": [],
   "source": [
    "def value_generator(i):\n",
    "    check = i**3\n",
    "    \n",
    "    if check % 2 == 0:\n",
    "        return check + 1\n",
    "    else:\n",
    "        return check - 1"
   ]
  },
  {
   "cell_type": "code",
   "execution_count": 43,
   "id": "0da4a2e7",
   "metadata": {},
   "outputs": [],
   "source": [
    "hey = [value_generator(i) for i in l1]"
   ]
  },
  {
   "cell_type": "code",
   "execution_count": 44,
   "id": "3b26817e",
   "metadata": {},
   "outputs": [
    {
     "data": {
      "text/plain": [
       "[0, 9, 26, 65, 124]"
      ]
     },
     "execution_count": 44,
     "metadata": {},
     "output_type": "execute_result"
    }
   ],
   "source": [
    "hey"
   ]
  },
  {
   "cell_type": "code",
   "execution_count": 45,
   "id": "70813c47",
   "metadata": {},
   "outputs": [],
   "source": [
    "# Set Comprehension"
   ]
  },
  {
   "cell_type": "code",
   "execution_count": 46,
   "id": "d4ebdc2c",
   "metadata": {},
   "outputs": [],
   "source": [
    "s = { i**2 for i in range(1,10) }"
   ]
  },
  {
   "cell_type": "code",
   "execution_count": 47,
   "id": "efda3401",
   "metadata": {},
   "outputs": [
    {
     "data": {
      "text/plain": [
       "{1, 4, 9, 16, 25, 36, 49, 64, 81}"
      ]
     },
     "execution_count": 47,
     "metadata": {},
     "output_type": "execute_result"
    }
   ],
   "source": [
    "s"
   ]
  },
  {
   "cell_type": "code",
   "execution_count": 54,
   "id": "51bd8fdd",
   "metadata": {},
   "outputs": [],
   "source": [
    "t = ( i**2 for i in range(1,10) )\n",
    "# usually we dont use comprehension with tuples"
   ]
  },
  {
   "cell_type": "code",
   "execution_count": 55,
   "id": "104eb8fa",
   "metadata": {},
   "outputs": [
    {
     "data": {
      "text/plain": [
       "<generator object <genexpr> at 0x7f8660647270>"
      ]
     },
     "execution_count": 55,
     "metadata": {},
     "output_type": "execute_result"
    }
   ],
   "source": [
    "t"
   ]
  },
  {
   "cell_type": "code",
   "execution_count": 56,
   "id": "e2b2db6e",
   "metadata": {},
   "outputs": [
    {
     "data": {
      "text/plain": [
       "(1, 4, 9, 16, 25, 36, 49, 64, 81)"
      ]
     },
     "execution_count": 56,
     "metadata": {},
     "output_type": "execute_result"
    }
   ],
   "source": [
    "tuple(t)"
   ]
  },
  {
   "cell_type": "code",
   "execution_count": 61,
   "id": "691aa5a3",
   "metadata": {},
   "outputs": [],
   "source": [
    "s1 = \"x**2 for x in range(1,5)\"\n",
    "s = \"4+5\""
   ]
  },
  {
   "cell_type": "code",
   "execution_count": 62,
   "id": "c7b0c0a5",
   "metadata": {},
   "outputs": [
    {
     "data": {
      "text/plain": [
       "'x**2 for x in range(1,5)'"
      ]
     },
     "execution_count": 62,
     "metadata": {},
     "output_type": "execute_result"
    }
   ],
   "source": [
    "s1"
   ]
  },
  {
   "cell_type": "code",
   "execution_count": 63,
   "id": "162f41ff",
   "metadata": {},
   "outputs": [],
   "source": [
    "# Dictionary Comprehension"
   ]
  },
  {
   "cell_type": "code",
   "execution_count": 64,
   "id": "282fb5fe",
   "metadata": {},
   "outputs": [],
   "source": [
    "dict1 = { i:i**2 for i in range(5) }"
   ]
  },
  {
   "cell_type": "code",
   "execution_count": 65,
   "id": "e4dbb39c",
   "metadata": {},
   "outputs": [
    {
     "data": {
      "text/plain": [
       "{0: 0, 1: 1, 2: 4, 3: 9, 4: 16}"
      ]
     },
     "execution_count": 65,
     "metadata": {},
     "output_type": "execute_result"
    }
   ],
   "source": [
    "dict1"
   ]
  },
  {
   "cell_type": "code",
   "execution_count": 185,
   "id": "cd509bd1",
   "metadata": {},
   "outputs": [],
   "source": [
    "keys = [\"a\", \"b\", \"c\"]\n",
    "values = [1,2,3]\n",
    "# random = [\"x\", \"y\", \"z\"]\n",
    "\n",
    "d1 = { key:value for key,value in zip(keys,values) }\n",
    "# [(\"a\",1),(\"b\",2),(\"c\",3)]"
   ]
  },
  {
   "cell_type": "code",
   "execution_count": 82,
   "id": "2f79dc01",
   "metadata": {},
   "outputs": [
    {
     "data": {
      "text/plain": [
       "{'a': 1, 'b': 2, 'c': 3}"
      ]
     },
     "execution_count": 82,
     "metadata": {},
     "output_type": "execute_result"
    }
   ],
   "source": [
    "d1"
   ]
  },
  {
   "cell_type": "code",
   "execution_count": 73,
   "id": "b77dce79",
   "metadata": {},
   "outputs": [],
   "source": [
    "temp = zip(keys, values, random)"
   ]
  },
  {
   "cell_type": "code",
   "execution_count": 74,
   "id": "06a0b33b",
   "metadata": {},
   "outputs": [
    {
     "data": {
      "text/plain": [
       "<zip at 0x7f866049ef80>"
      ]
     },
     "execution_count": 74,
     "metadata": {},
     "output_type": "execute_result"
    }
   ],
   "source": [
    "temp"
   ]
  },
  {
   "cell_type": "code",
   "execution_count": 75,
   "id": "5115af22",
   "metadata": {},
   "outputs": [],
   "source": [
    "temp2 = list(temp)"
   ]
  },
  {
   "cell_type": "code",
   "execution_count": 76,
   "id": "591f4bd6",
   "metadata": {},
   "outputs": [
    {
     "data": {
      "text/plain": [
       "[('a', 1, 'x'), ('b', 2, 'y'), ('c', 3, 'z')]"
      ]
     },
     "execution_count": 76,
     "metadata": {},
     "output_type": "execute_result"
    }
   ],
   "source": [
    "temp2"
   ]
  },
  {
   "cell_type": "code",
   "execution_count": 77,
   "id": "637882aa",
   "metadata": {},
   "outputs": [],
   "source": [
    "keys = [\"a\", \"b\", \"c\", \"d\"]\n",
    "values = [1,2,3]\n",
    "\n",
    "temp5 = zip(keys, values)"
   ]
  },
  {
   "cell_type": "code",
   "execution_count": 78,
   "id": "633c4fe6",
   "metadata": {},
   "outputs": [
    {
     "data": {
      "text/plain": [
       "<zip at 0x7f86b09a4bc0>"
      ]
     },
     "execution_count": 78,
     "metadata": {},
     "output_type": "execute_result"
    }
   ],
   "source": [
    "temp5"
   ]
  },
  {
   "cell_type": "code",
   "execution_count": 79,
   "id": "15379b4f",
   "metadata": {},
   "outputs": [
    {
     "data": {
      "text/plain": [
       "[('a', 1), ('b', 2), ('c', 3)]"
      ]
     },
     "execution_count": 79,
     "metadata": {},
     "output_type": "execute_result"
    }
   ],
   "source": [
    "list(temp5)"
   ]
  },
  {
   "cell_type": "code",
   "execution_count": 80,
   "id": "19168f2a",
   "metadata": {},
   "outputs": [],
   "source": [
    "zip?"
   ]
  },
  {
   "cell_type": "code",
   "execution_count": 84,
   "id": "2f9a19d5",
   "metadata": {},
   "outputs": [],
   "source": [
    "# Homework"
   ]
  },
  {
   "cell_type": "code",
   "execution_count": 88,
   "id": "59f5eca4",
   "metadata": {},
   "outputs": [],
   "source": [
    "# 1 2 3 4 5....10\n",
    "# 2 4 6 8 .....20\n",
    "\n",
    "# Print the multiplication table to all numbers till n using only 1 line of code\n",
    "# n = 5"
   ]
  },
  {
   "cell_type": "code",
   "execution_count": 89,
   "id": "cf8cae15",
   "metadata": {},
   "outputs": [],
   "source": [
    "# Print the following ->\n",
    "# 55555\n",
    "# 54445\n",
    "# 54345\n",
    "# 54445\n",
    "# 55555\n",
    "\n",
    "# Using one line of python"
   ]
  },
  {
   "cell_type": "code",
   "execution_count": 90,
   "id": "0c2ce771",
   "metadata": {},
   "outputs": [],
   "source": [
    "# nested list comprehension"
   ]
  },
  {
   "cell_type": "code",
   "execution_count": 93,
   "id": "65d33752",
   "metadata": {},
   "outputs": [],
   "source": [
    "l1 = [[\"HEY\" for j in range(5)] for i in range(5)]"
   ]
  },
  {
   "cell_type": "code",
   "execution_count": 94,
   "id": "67e21dd4",
   "metadata": {},
   "outputs": [
    {
     "data": {
      "text/plain": [
       "[['HEY', 'HEY', 'HEY', 'HEY', 'HEY'],\n",
       " ['HEY', 'HEY', 'HEY', 'HEY', 'HEY'],\n",
       " ['HEY', 'HEY', 'HEY', 'HEY', 'HEY'],\n",
       " ['HEY', 'HEY', 'HEY', 'HEY', 'HEY'],\n",
       " ['HEY', 'HEY', 'HEY', 'HEY', 'HEY']]"
      ]
     },
     "execution_count": 94,
     "metadata": {},
     "output_type": "execute_result"
    }
   ],
   "source": [
    "l1"
   ]
  },
  {
   "cell_type": "markdown",
   "id": "fa0c6caf",
   "metadata": {},
   "source": [
    "# STRINGS"
   ]
  },
  {
   "cell_type": "code",
   "execution_count": 95,
   "id": "c5179347",
   "metadata": {},
   "outputs": [],
   "source": [
    "s = \"python\"\n",
    "s1 = 'python'"
   ]
  },
  {
   "cell_type": "code",
   "execution_count": 98,
   "id": "d9a3931e",
   "metadata": {},
   "outputs": [
    {
     "ename": "TypeError",
     "evalue": "'str' object does not support item assignment",
     "output_type": "error",
     "traceback": [
      "\u001b[0;31m---------------------------------------------------------------------------\u001b[0m",
      "\u001b[0;31mTypeError\u001b[0m                                 Traceback (most recent call last)",
      "\u001b[0;32m/var/folders/nn/c52y0d3j0gq59dpsswchkt2r0000gn/T/ipykernel_25603/3625728599.py\u001b[0m in \u001b[0;36m<module>\u001b[0;34m\u001b[0m\n\u001b[0;32m----> 1\u001b[0;31m \u001b[0ms\u001b[0m\u001b[0;34m[\u001b[0m\u001b[0;36m3\u001b[0m\u001b[0;34m]\u001b[0m \u001b[0;34m=\u001b[0m \u001b[0;34m\"a\"\u001b[0m\u001b[0;34m\u001b[0m\u001b[0;34m\u001b[0m\u001b[0m\n\u001b[0m",
      "\u001b[0;31mTypeError\u001b[0m: 'str' object does not support item assignment"
     ]
    }
   ],
   "source": [
    "s[3] = \"a\"\n",
    "# immutable but indexable"
   ]
  },
  {
   "cell_type": "code",
   "execution_count": 99,
   "id": "ee1ac90d",
   "metadata": {},
   "outputs": [
    {
     "data": {
      "text/plain": [
       "'n'"
      ]
     },
     "execution_count": 99,
     "metadata": {},
     "output_type": "execute_result"
    }
   ],
   "source": [
    "s[-1]\n",
    "# negative indexing works"
   ]
  },
  {
   "cell_type": "code",
   "execution_count": 101,
   "id": "3e297fea",
   "metadata": {},
   "outputs": [
    {
     "data": {
      "text/plain": [
       "'nohtyp'"
      ]
     },
     "execution_count": 101,
     "metadata": {},
     "output_type": "execute_result"
    }
   ],
   "source": [
    "s[::-1]\n",
    "# slicing works"
   ]
  },
  {
   "cell_type": "code",
   "execution_count": 103,
   "id": "c0141a4d",
   "metadata": {},
   "outputs": [
    {
     "ename": "ValueError",
     "evalue": "substring not found",
     "output_type": "error",
     "traceback": [
      "\u001b[0;31m---------------------------------------------------------------------------\u001b[0m",
      "\u001b[0;31mValueError\u001b[0m                                Traceback (most recent call last)",
      "\u001b[0;32m/var/folders/nn/c52y0d3j0gq59dpsswchkt2r0000gn/T/ipykernel_25603/2286189304.py\u001b[0m in \u001b[0;36m<module>\u001b[0;34m\u001b[0m\n\u001b[1;32m      1\u001b[0m \u001b[0;31m# Get the index of a particular character inside of a string\u001b[0m\u001b[0;34m\u001b[0m\u001b[0;34m\u001b[0m\u001b[0;34m\u001b[0m\u001b[0m\n\u001b[0;32m----> 2\u001b[0;31m \u001b[0ms\u001b[0m\u001b[0;34m.\u001b[0m\u001b[0mindex\u001b[0m\u001b[0;34m(\u001b[0m\u001b[0;34m\"z\"\u001b[0m\u001b[0;34m)\u001b[0m\u001b[0;34m\u001b[0m\u001b[0;34m\u001b[0m\u001b[0m\n\u001b[0m",
      "\u001b[0;31mValueError\u001b[0m: substring not found"
     ]
    }
   ],
   "source": [
    "# Get the index of a particular character inside of a string\n",
    "s.index(\"z\")"
   ]
  },
  {
   "cell_type": "code",
   "execution_count": 104,
   "id": "4bc47cbc",
   "metadata": {},
   "outputs": [],
   "source": [
    "s = \"I am falling in love with python!\""
   ]
  },
  {
   "cell_type": "code",
   "execution_count": 107,
   "id": "4028d963",
   "metadata": {},
   "outputs": [
    {
     "data": {
      "text/plain": [
       "16"
      ]
     },
     "execution_count": 107,
     "metadata": {},
     "output_type": "execute_result"
    }
   ],
   "source": [
    "s.index(\"love\")\n",
    "# Case sensitive"
   ]
  },
  {
   "cell_type": "code",
   "execution_count": 109,
   "id": "b83234ac",
   "metadata": {},
   "outputs": [
    {
     "data": {
      "text/plain": [
       "True"
      ]
     },
     "execution_count": 109,
     "metadata": {},
     "output_type": "execute_result"
    }
   ],
   "source": [
    "s.startswith(\"I\")"
   ]
  },
  {
   "cell_type": "code",
   "execution_count": 110,
   "id": "0f07e745",
   "metadata": {},
   "outputs": [
    {
     "data": {
      "text/plain": [
       "'I AM FALLING IN LOVE WITH PYTHON!'"
      ]
     },
     "execution_count": 110,
     "metadata": {},
     "output_type": "execute_result"
    }
   ],
   "source": [
    "s.upper()"
   ]
  },
  {
   "cell_type": "code",
   "execution_count": 111,
   "id": "19316add",
   "metadata": {},
   "outputs": [
    {
     "data": {
      "text/plain": [
       "'i am falling in love with python!'"
      ]
     },
     "execution_count": 111,
     "metadata": {},
     "output_type": "execute_result"
    }
   ],
   "source": [
    "s.lower()"
   ]
  },
  {
   "cell_type": "code",
   "execution_count": 112,
   "id": "c9397457",
   "metadata": {},
   "outputs": [
    {
     "data": {
      "text/plain": [
       "'I Am Falling In Love With Python!'"
      ]
     },
     "execution_count": 112,
     "metadata": {},
     "output_type": "execute_result"
    }
   ],
   "source": [
    "s.title()"
   ]
  },
  {
   "cell_type": "code",
   "execution_count": 113,
   "id": "0639cf35",
   "metadata": {},
   "outputs": [
    {
     "data": {
      "text/plain": [
       "'I am falling in love with python!'"
      ]
     },
     "execution_count": 113,
     "metadata": {},
     "output_type": "execute_result"
    }
   ],
   "source": [
    "s"
   ]
  },
  {
   "cell_type": "code",
   "execution_count": 117,
   "id": "19f31a2f",
   "metadata": {},
   "outputs": [],
   "source": [
    "# \"https://www.something.something\" - valid web address\n",
    "# Given a string, write a function to check whether it is a valid web address or not\n",
    "# Function body should only be one line"
   ]
  },
  {
   "cell_type": "code",
   "execution_count": 122,
   "id": "366a8bf4",
   "metadata": {},
   "outputs": [],
   "source": [
    "s = '''\n",
    "python\n",
    "    is\n",
    "       a \n",
    "    weird\n",
    "language.           !\n",
    "'''\n",
    "\n",
    "# store the strings with all white spaces - DOC STRINGS"
   ]
  },
  {
   "cell_type": "code",
   "execution_count": 121,
   "id": "fc4f357d",
   "metadata": {},
   "outputs": [
    {
     "data": {
      "text/plain": [
       "'\\npython\\n    is\\n       a \\n    weird\\nlanguage.           !\\n'"
      ]
     },
     "execution_count": 121,
     "metadata": {},
     "output_type": "execute_result"
    }
   ],
   "source": [
    "s"
   ]
  },
  {
   "cell_type": "code",
   "execution_count": 124,
   "id": "5f46134d",
   "metadata": {},
   "outputs": [
    {
     "data": {
      "text/plain": [
       "'\\nthis is a multiline comment\\n'"
      ]
     },
     "execution_count": 124,
     "metadata": {},
     "output_type": "execute_result"
    }
   ],
   "source": [
    "'''\n",
    "this is a multiline comment\n",
    "'''"
   ]
  },
  {
   "cell_type": "code",
   "execution_count": 131,
   "id": "f22adcf6",
   "metadata": {},
   "outputs": [],
   "source": [
    "length = 5\n",
    "breadth = 10\n",
    "area = len * breadth"
   ]
  },
  {
   "cell_type": "code",
   "execution_count": 132,
   "id": "524c0767",
   "metadata": {},
   "outputs": [
    {
     "data": {
      "text/plain": [
       "5"
      ]
     },
     "execution_count": 132,
     "metadata": {},
     "output_type": "execute_result"
    }
   ],
   "source": [
    "length"
   ]
  },
  {
   "cell_type": "code",
   "execution_count": 133,
   "id": "04209f96",
   "metadata": {},
   "outputs": [
    {
     "data": {
      "text/plain": [
       "10"
      ]
     },
     "execution_count": 133,
     "metadata": {},
     "output_type": "execute_result"
    }
   ],
   "source": [
    "breadth"
   ]
  },
  {
   "cell_type": "code",
   "execution_count": 134,
   "id": "0cbf4d02",
   "metadata": {},
   "outputs": [
    {
     "data": {
      "text/plain": [
       "50"
      ]
     },
     "execution_count": 134,
     "metadata": {},
     "output_type": "execute_result"
    }
   ],
   "source": [
    "area"
   ]
  },
  {
   "cell_type": "code",
   "execution_count": 135,
   "id": "d5095dd4",
   "metadata": {},
   "outputs": [],
   "source": [
    "# Area of the rectangle is 5 * 10 = 50"
   ]
  },
  {
   "cell_type": "code",
   "execution_count": 137,
   "id": "4e9518be",
   "metadata": {},
   "outputs": [],
   "source": [
    "s1 = \"Are of the rectangle is \" + str(length) + \" * \" + str(breadth) + \" = \" + str(area)"
   ]
  },
  {
   "cell_type": "code",
   "execution_count": 139,
   "id": "375d4a82",
   "metadata": {},
   "outputs": [
    {
     "data": {
      "text/plain": [
       "'Are of the rectangle is 5 * 10 = 50'"
      ]
     },
     "execution_count": 139,
     "metadata": {},
     "output_type": "execute_result"
    }
   ],
   "source": [
    "s1"
   ]
  },
  {
   "cell_type": "code",
   "execution_count": 148,
   "id": "ed5908f2",
   "metadata": {},
   "outputs": [],
   "source": [
    "s2 = \"Area of a rectagle is {} * {} = {}\".format(length, breadth, area)"
   ]
  },
  {
   "cell_type": "code",
   "execution_count": 149,
   "id": "f7789408",
   "metadata": {},
   "outputs": [
    {
     "data": {
      "text/plain": [
       "'Area of a rectagle is 5 * 10 = 50'"
      ]
     },
     "execution_count": 149,
     "metadata": {},
     "output_type": "execute_result"
    }
   ],
   "source": [
    "s2"
   ]
  },
  {
   "cell_type": "code",
   "execution_count": 164,
   "id": "60736249",
   "metadata": {},
   "outputs": [],
   "source": [
    "s3 = f\"Area of a rectangle is {[x for x in range(5)]} * {breadth} = {area}\"\n",
    "# formattable strings"
   ]
  },
  {
   "cell_type": "code",
   "execution_count": 165,
   "id": "f0eb840c",
   "metadata": {},
   "outputs": [
    {
     "data": {
      "text/plain": [
       "'Area of a rectangle is [0, 1, 2, 3, 4] * 10 = 50'"
      ]
     },
     "execution_count": 165,
     "metadata": {},
     "output_type": "execute_result"
    }
   ],
   "source": [
    "s3"
   ]
  },
  {
   "cell_type": "code",
   "execution_count": 181,
   "id": "d57ccc30",
   "metadata": {},
   "outputs": [],
   "source": [
    "str1 = \"I am a string which contains various words! Some of those words would have unique characters and some might not!\""
   ]
  },
  {
   "cell_type": "code",
   "execution_count": 173,
   "id": "3e24698e",
   "metadata": {},
   "outputs": [],
   "source": [
    "s1 = \"this is a simple string!\""
   ]
  },
  {
   "cell_type": "code",
   "execution_count": 174,
   "id": "2a0ca1dd",
   "metadata": {
    "scrolled": true
   },
   "outputs": [
    {
     "data": {
      "text/plain": [
       "['this', 'is', 'a', 'simple', 'string!']"
      ]
     },
     "execution_count": 174,
     "metadata": {},
     "output_type": "execute_result"
    }
   ],
   "source": [
    "s1.split()"
   ]
  },
  {
   "cell_type": "code",
   "execution_count": 177,
   "id": "809a9037",
   "metadata": {},
   "outputs": [],
   "source": [
    "s1 = \"this-is-a-simple string!\""
   ]
  },
  {
   "cell_type": "code",
   "execution_count": 178,
   "id": "0fbf1361",
   "metadata": {},
   "outputs": [
    {
     "data": {
      "text/plain": [
       "['this', 'is', 'a', 'simple string!']"
      ]
     },
     "execution_count": 178,
     "metadata": {},
     "output_type": "execute_result"
    }
   ],
   "source": [
    "s1.split(\"-\")"
   ]
  },
  {
   "cell_type": "code",
   "execution_count": 179,
   "id": "cb0f2b85",
   "metadata": {},
   "outputs": [
    {
     "data": {
      "text/plain": [
       "['thi', '-i', '-a-', 'imple ', 'tring!']"
      ]
     },
     "execution_count": 179,
     "metadata": {},
     "output_type": "execute_result"
    }
   ],
   "source": [
    "s1.split(\"s\")"
   ]
  },
  {
   "cell_type": "code",
   "execution_count": 180,
   "id": "ebbcf85e",
   "metadata": {},
   "outputs": [
    {
     "ename": "ValueError",
     "evalue": "empty separator",
     "output_type": "error",
     "traceback": [
      "\u001b[0;31m---------------------------------------------------------------------------\u001b[0m",
      "\u001b[0;31mValueError\u001b[0m                                Traceback (most recent call last)",
      "\u001b[0;32m/var/folders/nn/c52y0d3j0gq59dpsswchkt2r0000gn/T/ipykernel_25603/1243098820.py\u001b[0m in \u001b[0;36m<module>\u001b[0;34m\u001b[0m\n\u001b[0;32m----> 1\u001b[0;31m \u001b[0ms1\u001b[0m\u001b[0;34m.\u001b[0m\u001b[0msplit\u001b[0m\u001b[0;34m(\u001b[0m\u001b[0;34m\"\"\u001b[0m\u001b[0;34m)\u001b[0m\u001b[0;34m\u001b[0m\u001b[0;34m\u001b[0m\u001b[0m\n\u001b[0m",
      "\u001b[0;31mValueError\u001b[0m: empty separator"
     ]
    }
   ],
   "source": [
    "s1.split(\"\")"
   ]
  },
  {
   "cell_type": "code",
   "execution_count": 182,
   "id": "6248d468",
   "metadata": {},
   "outputs": [],
   "source": [
    "# Given a string, return the count of all words which only have unique characters. i.e. In that word, no character should occur twice!"
   ]
  },
  {
   "cell_type": "code",
   "execution_count": 183,
   "id": "1f2a3e23",
   "metadata": {},
   "outputs": [
    {
     "data": {
      "text/plain": [
       "'\\n'"
      ]
     },
     "execution_count": 183,
     "metadata": {},
     "output_type": "execute_result"
    }
   ],
   "source": [
    "\"\\n\""
   ]
  },
  {
   "cell_type": "code",
   "execution_count": 184,
   "id": "f029443c",
   "metadata": {},
   "outputs": [
    {
     "data": {
      "text/plain": [
       "'this-is-a-simple string!'"
      ]
     },
     "execution_count": 184,
     "metadata": {},
     "output_type": "execute_result"
    }
   ],
   "source": [
    "s1"
   ]
  },
  {
   "cell_type": "code",
   "execution_count": 187,
   "id": "f09e7bb1",
   "metadata": {},
   "outputs": [],
   "source": [
    "set1 = {1,2,3,4,5,6}"
   ]
  },
  {
   "cell_type": "code",
   "execution_count": null,
   "id": "e42e1f05",
   "metadata": {},
   "outputs": [],
   "source": []
  }
 ],
 "metadata": {
  "kernelspec": {
   "display_name": "Python 3 (ipykernel)",
   "language": "python",
   "name": "python3"
  },
  "language_info": {
   "codemirror_mode": {
    "name": "ipython",
    "version": 3
   },
   "file_extension": ".py",
   "mimetype": "text/x-python",
   "name": "python",
   "nbconvert_exporter": "python",
   "pygments_lexer": "ipython3",
   "version": "3.9.5"
  }
 },
 "nbformat": 4,
 "nbformat_minor": 5
}
