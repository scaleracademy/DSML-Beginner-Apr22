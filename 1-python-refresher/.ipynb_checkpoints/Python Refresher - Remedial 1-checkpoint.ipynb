{
 "cells": [
  {
   "cell_type": "code",
   "execution_count": 3,
   "id": "0b6b9a7d",
   "metadata": {},
   "outputs": [
    {
     "data": {
      "text/plain": [
       "False"
      ]
     },
     "execution_count": 3,
     "metadata": {},
     "output_type": "execute_result"
    }
   ],
   "source": [
    "5 > 6"
   ]
  },
  {
   "cell_type": "code",
   "execution_count": 5,
   "id": "90a94c75",
   "metadata": {},
   "outputs": [
    {
     "data": {
      "text/plain": [
       "True"
      ]
     },
     "execution_count": 5,
     "metadata": {},
     "output_type": "execute_result"
    }
   ],
   "source": [
    "\"Iron Man\" == \"Iron Man\""
   ]
  },
  {
   "cell_type": "code",
   "execution_count": 9,
   "id": "b5cbde35",
   "metadata": {},
   "outputs": [
    {
     "ename": "SyntaxError",
     "evalue": "invalid syntax (2665159472.py, line 5)",
     "output_type": "error",
     "traceback": [
      "\u001b[0;36m  File \u001b[0;32m\"/var/folders/nn/c52y0d3j0gq59dpsswchkt2r0000gn/T/ipykernel_7231/2665159472.py\"\u001b[0;36m, line \u001b[0;32m5\u001b[0m\n\u001b[0;31m    else value == \"Iron Man\":\u001b[0m\n\u001b[0m         ^\u001b[0m\n\u001b[0;31mSyntaxError\u001b[0m\u001b[0;31m:\u001b[0m invalid syntax\n"
     ]
    }
   ],
   "source": [
    "value = \"Thanos\"\n",
    "\n",
    "if value == \"Thanos\":\n",
    "    print(\"I am inevitable!\")\n",
    "else value == \"Iron Man\":\n",
    "    print(\"I am Iron Man!\")"
   ]
  },
  {
   "cell_type": "code",
   "execution_count": 11,
   "id": "f6aba7d2",
   "metadata": {},
   "outputs": [],
   "source": [
    "value = \"Thanos\"\n",
    "\n",
    "if value == \"Thanos\":\n",
    "    print(\"I am inevitable!\")\n",
    "elif value == \"Iron Man\":\n",
    "    print(\"I am Iron Man!\")\n",
    "else:\n",
    "    print(\"I AM GROOT!\")"
   ]
  },
  {
   "cell_type": "code",
   "execution_count": null,
   "id": "d135b08b",
   "metadata": {},
   "outputs": [],
   "source": []
  }
 ],
 "metadata": {
  "kernelspec": {
   "display_name": "Python 3 (ipykernel)",
   "language": "python",
   "name": "python3"
  },
  "language_info": {
   "codemirror_mode": {
    "name": "ipython",
    "version": 3
   },
   "file_extension": ".py",
   "mimetype": "text/x-python",
   "name": "python",
   "nbconvert_exporter": "python",
   "pygments_lexer": "ipython3",
   "version": "3.9.5"
  }
 },
 "nbformat": 4,
 "nbformat_minor": 5
}
