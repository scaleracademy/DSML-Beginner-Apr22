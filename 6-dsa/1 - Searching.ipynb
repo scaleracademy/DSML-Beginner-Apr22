{
 "cells": [
  {
   "cell_type": "code",
   "execution_count": 10,
   "id": "4ddadd0b",
   "metadata": {},
   "outputs": [],
   "source": [
    "a = [3,4,1,6,7,8,9,0]"
   ]
  },
  {
   "cell_type": "code",
   "execution_count": 3,
   "id": "a37a3031",
   "metadata": {},
   "outputs": [
    {
     "data": {
      "text/plain": [
       "3"
      ]
     },
     "execution_count": 3,
     "metadata": {},
     "output_type": "execute_result"
    }
   ],
   "source": [
    "a.index(6)"
   ]
  },
  {
   "cell_type": "code",
   "execution_count": 6,
   "id": "5d69b8f0",
   "metadata": {},
   "outputs": [],
   "source": [
    "def linear_search(a, target):\n",
    "    for i, x in enumerate(a):\n",
    "        if target == x:\n",
    "            return i\n",
    "            \n",
    "    return -1"
   ]
  },
  {
   "cell_type": "code",
   "execution_count": 7,
   "id": "87e69d4e",
   "metadata": {},
   "outputs": [
    {
     "data": {
      "text/plain": [
       "5"
      ]
     },
     "execution_count": 7,
     "metadata": {},
     "output_type": "execute_result"
    }
   ],
   "source": [
    "linear_search(a, 8)"
   ]
  },
  {
   "cell_type": "code",
   "execution_count": 15,
   "id": "e80f206c",
   "metadata": {},
   "outputs": [],
   "source": [
    "a_sorted = list(sorted(a))"
   ]
  },
  {
   "cell_type": "code",
   "execution_count": 16,
   "id": "53ee1193",
   "metadata": {},
   "outputs": [
    {
     "data": {
      "text/plain": [
       "[0, 1, 3, 4, 6, 7, 8, 9]"
      ]
     },
     "execution_count": 16,
     "metadata": {},
     "output_type": "execute_result"
    }
   ],
   "source": [
    "a_sorted"
   ]
  },
  {
   "cell_type": "code",
   "execution_count": 19,
   "id": "a06c6399",
   "metadata": {},
   "outputs": [],
   "source": [
    "def binary_search(a, target):\n",
    "    start, end = 0, len(a)-1\n",
    "    \n",
    "    while start <= end:\n",
    "        mid = (start + end) // 2\n",
    "        \n",
    "        if target == a[mid]:\n",
    "            return mid\n",
    "        elif target < a[mid]:\n",
    "            end = mid - 1\n",
    "        else:\n",
    "            start = mid + 1\n",
    "            \n",
    "    return -1"
   ]
  },
  {
   "cell_type": "code",
   "execution_count": 20,
   "id": "f961933e",
   "metadata": {},
   "outputs": [
    {
     "data": {
      "text/plain": [
       "4"
      ]
     },
     "execution_count": 20,
     "metadata": {},
     "output_type": "execute_result"
    }
   ],
   "source": [
    "binary_search(sorted(a), 6)"
   ]
  },
  {
   "cell_type": "code",
   "execution_count": 21,
   "id": "f8921303",
   "metadata": {},
   "outputs": [],
   "source": [
    "# HOMEWORK\n",
    "# Write binary search which works for a list sorted in the reverse order"
   ]
  },
  {
   "cell_type": "code",
   "execution_count": 22,
   "id": "990cad14",
   "metadata": {},
   "outputs": [
    {
     "name": "stdout",
     "output_type": "stream",
     "text": [
      "The Zen of Python, by Tim Peters\n",
      "\n",
      "Beautiful is better than ugly.\n",
      "Explicit is better than implicit.\n",
      "Simple is better than complex.\n",
      "Complex is better than complicated.\n",
      "Flat is better than nested.\n",
      "Sparse is better than dense.\n",
      "Readability counts.\n",
      "Special cases aren't special enough to break the rules.\n",
      "Although practicality beats purity.\n",
      "Errors should never pass silently.\n",
      "Unless explicitly silenced.\n",
      "In the face of ambiguity, refuse the temptation to guess.\n",
      "There should be one-- and preferably only one --obvious way to do it.\n",
      "Although that way may not be obvious at first unless you're Dutch.\n",
      "Now is better than never.\n",
      "Although never is often better than *right* now.\n",
      "If the implementation is hard to explain, it's a bad idea.\n",
      "If the implementation is easy to explain, it may be a good idea.\n",
      "Namespaces are one honking great idea -- let's do more of those!\n"
     ]
    }
   ],
   "source": [
    "import this"
   ]
  },
  {
   "cell_type": "code",
   "execution_count": null,
   "id": "f042887f",
   "metadata": {},
   "outputs": [],
   "source": []
  }
 ],
 "metadata": {
  "kernelspec": {
   "display_name": "Python 3 (ipykernel)",
   "language": "python",
   "name": "python3"
  },
  "language_info": {
   "codemirror_mode": {
    "name": "ipython",
    "version": 3
   },
   "file_extension": ".py",
   "mimetype": "text/x-python",
   "name": "python",
   "nbconvert_exporter": "python",
   "pygments_lexer": "ipython3",
   "version": "3.9.5"
  }
 },
 "nbformat": 4,
 "nbformat_minor": 5
}
