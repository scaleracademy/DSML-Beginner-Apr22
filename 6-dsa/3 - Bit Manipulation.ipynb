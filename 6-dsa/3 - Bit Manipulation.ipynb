{
 "cells": [
  {
   "cell_type": "markdown",
   "id": "281dd0ab",
   "metadata": {},
   "source": [
    "## Bitwise Operators"
   ]
  },
  {
   "cell_type": "code",
   "execution_count": 1,
   "id": "1d5d6459",
   "metadata": {},
   "outputs": [],
   "source": [
    "# Left Shift and Right Shift"
   ]
  },
  {
   "cell_type": "code",
   "execution_count": 2,
   "id": "0643ee24",
   "metadata": {},
   "outputs": [
    {
     "data": {
      "text/plain": [
       "2"
      ]
     },
     "execution_count": 2,
     "metadata": {},
     "output_type": "execute_result"
    }
   ],
   "source": [
    "5 >> 1"
   ]
  },
  {
   "cell_type": "code",
   "execution_count": 4,
   "id": "55741bae",
   "metadata": {},
   "outputs": [
    {
     "data": {
      "text/plain": [
       "40"
      ]
     },
     "execution_count": 4,
     "metadata": {},
     "output_type": "execute_result"
    }
   ],
   "source": [
    "5 << 3"
   ]
  },
  {
   "cell_type": "code",
   "execution_count": 5,
   "id": "98dd18d5",
   "metadata": {},
   "outputs": [
    {
     "data": {
      "text/plain": [
       "0"
      ]
     },
     "execution_count": 5,
     "metadata": {},
     "output_type": "execute_result"
    }
   ],
   "source": [
    "8 & 5\n",
    "# 1000 0101"
   ]
  },
  {
   "cell_type": "code",
   "execution_count": 6,
   "id": "ada69fa6",
   "metadata": {},
   "outputs": [
    {
     "data": {
      "text/plain": [
       "13"
      ]
     },
     "execution_count": 6,
     "metadata": {},
     "output_type": "execute_result"
    }
   ],
   "source": [
    "8 | 5\n",
    "# 1000 0101"
   ]
  },
  {
   "cell_type": "code",
   "execution_count": 7,
   "id": "b221d8c8",
   "metadata": {},
   "outputs": [
    {
     "data": {
      "text/plain": [
       "13"
      ]
     },
     "execution_count": 7,
     "metadata": {},
     "output_type": "execute_result"
    }
   ],
   "source": [
    "8 ^ 5\n",
    "# 1000 0101"
   ]
  },
  {
   "cell_type": "code",
   "execution_count": 8,
   "id": "128049fc",
   "metadata": {},
   "outputs": [
    {
     "data": {
      "text/plain": [
       "-6"
      ]
     },
     "execution_count": 8,
     "metadata": {},
     "output_type": "execute_result"
    }
   ],
   "source": [
    "# Not Operator\n",
    "~5 # 0101"
   ]
  },
  {
   "cell_type": "code",
   "execution_count": 9,
   "id": "9a11c258",
   "metadata": {},
   "outputs": [],
   "source": [
    "# HOMEWORK\n",
    "# 1. 3 - 5\n",
    "# 2. cout << \"HELLO WORLD!\" - make this work in python"
   ]
  },
  {
   "cell_type": "code",
   "execution_count": 29,
   "id": "096a9711",
   "metadata": {},
   "outputs": [
    {
     "data": {
      "text/plain": [
       "'0b1010'"
      ]
     },
     "execution_count": 29,
     "metadata": {},
     "output_type": "execute_result"
    }
   ],
   "source": [
    "bin(10)"
   ]
  },
  {
   "cell_type": "code",
   "execution_count": 17,
   "id": "1fe08e71",
   "metadata": {},
   "outputs": [],
   "source": [
    "a = 0b1010"
   ]
  },
  {
   "cell_type": "code",
   "execution_count": 18,
   "id": "29b906e7",
   "metadata": {},
   "outputs": [
    {
     "data": {
      "text/plain": [
       "10"
      ]
     },
     "execution_count": 18,
     "metadata": {},
     "output_type": "execute_result"
    }
   ],
   "source": [
    "a"
   ]
  },
  {
   "cell_type": "code",
   "execution_count": 19,
   "id": "74c5b07b",
   "metadata": {},
   "outputs": [],
   "source": [
    "class A:\n",
    "    pass"
   ]
  },
  {
   "cell_type": "code",
   "execution_count": 20,
   "id": "cf4fa0cd",
   "metadata": {},
   "outputs": [],
   "source": [
    "a = A()"
   ]
  },
  {
   "cell_type": "code",
   "execution_count": 21,
   "id": "94450340",
   "metadata": {},
   "outputs": [
    {
     "data": {
      "text/plain": [
       "<__main__.A at 0x7f8300362970>"
      ]
     },
     "execution_count": 21,
     "metadata": {},
     "output_type": "execute_result"
    }
   ],
   "source": [
    "a"
   ]
  },
  {
   "cell_type": "code",
   "execution_count": 22,
   "id": "d32530d6",
   "metadata": {},
   "outputs": [],
   "source": [
    "a = 0x98A"
   ]
  },
  {
   "cell_type": "code",
   "execution_count": 23,
   "id": "04e10253",
   "metadata": {},
   "outputs": [
    {
     "data": {
      "text/plain": [
       "2442"
      ]
     },
     "execution_count": 23,
     "metadata": {},
     "output_type": "execute_result"
    }
   ],
   "source": [
    "a"
   ]
  },
  {
   "cell_type": "code",
   "execution_count": 24,
   "id": "5e68c187",
   "metadata": {},
   "outputs": [],
   "source": [
    "a = 0o234"
   ]
  },
  {
   "cell_type": "code",
   "execution_count": 25,
   "id": "f656ef94",
   "metadata": {},
   "outputs": [
    {
     "data": {
      "text/plain": [
       "156"
      ]
     },
     "execution_count": 25,
     "metadata": {},
     "output_type": "execute_result"
    }
   ],
   "source": [
    "a"
   ]
  },
  {
   "cell_type": "code",
   "execution_count": 26,
   "id": "dd52951a",
   "metadata": {},
   "outputs": [],
   "source": [
    "def check_readable(flag):\n",
    "    mask = 0b100\n",
    "    \n",
    "    if flag & mask > 0:\n",
    "        return True\n",
    "    else:\n",
    "        return False"
   ]
  },
  {
   "cell_type": "code",
   "execution_count": 28,
   "id": "962d07df",
   "metadata": {},
   "outputs": [
    {
     "data": {
      "text/plain": [
       "False"
      ]
     },
     "execution_count": 28,
     "metadata": {},
     "output_type": "execute_result"
    }
   ],
   "source": [
    "check_readable(1)"
   ]
  },
  {
   "cell_type": "code",
   "execution_count": 30,
   "id": "b4163f00",
   "metadata": {},
   "outputs": [],
   "source": [
    "import string\n",
    "import random\n",
    "\n",
    "\n",
    "class IDCodec:\n",
    "    \"\"\" Encoder / Decoder for database ID's  \"\"\"\n",
    "\n",
    "    def __init__(self) -> None:\n",
    "        chars = list(string.ascii_lowercase)\n",
    "        random.Random(4).shuffle(chars)\n",
    "        self.base10to26 = {}\n",
    "        self.base26to10 = {}\n",
    "\n",
    "        for (i, c) in enumerate(chars):\n",
    "            self.base10to26[i] = c\n",
    "            self.base26to10[c] = i\n",
    "\n",
    "    def convertIntToString(self, number: int) -> str:\n",
    "        \"\"\" Returns the base 26 string key for a given base 10 integer. \"\"\"\n",
    "        result = \"\"\n",
    "        while number > 0:\n",
    "            quotient, remainder = divmod(number, 26)\n",
    "            result += self.base10to26[remainder]\n",
    "            number = quotient\n",
    "\n",
    "        # Return the reversed string\n",
    "        return result[::-1]\n",
    "\n",
    "    def convertStringToInt(self, string: str) -> int:\n",
    "        \"\"\" Returns the base 10 integer for a given base 26 string key. \"\"\"\n",
    "        ans = 0\n",
    "        power = 0\n",
    "        for c in string[::-1]:\n",
    "            ans += self.base26to10[c] * (26 ** power)\n",
    "            power += 1\n",
    "\n",
    "        return ans"
   ]
  },
  {
   "cell_type": "code",
   "execution_count": 31,
   "id": "b6935230",
   "metadata": {},
   "outputs": [
    {
     "name": "stdout",
     "output_type": "stream",
     "text": [
      "12168\n"
     ]
    }
   ],
   "source": [
    "sequence = \"tvv\"\n",
    "\n",
    "print(IDCodec().convertStringToInt(sequence))"
   ]
  },
  {
   "cell_type": "code",
   "execution_count": null,
   "id": "e66a1bfa",
   "metadata": {},
   "outputs": [],
   "source": []
  }
 ],
 "metadata": {
  "kernelspec": {
   "display_name": "Python 3 (ipykernel)",
   "language": "python",
   "name": "python3"
  },
  "language_info": {
   "codemirror_mode": {
    "name": "ipython",
    "version": 3
   },
   "file_extension": ".py",
   "mimetype": "text/x-python",
   "name": "python",
   "nbconvert_exporter": "python",
   "pygments_lexer": "ipython3",
   "version": "3.9.5"
  }
 },
 "nbformat": 4,
 "nbformat_minor": 5
}
