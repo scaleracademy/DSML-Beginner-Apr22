{
 "cells": [
  {
   "cell_type": "code",
   "execution_count": 1,
   "id": "324f5328",
   "metadata": {},
   "outputs": [],
   "source": [
    "from array import array"
   ]
  },
  {
   "cell_type": "code",
   "execution_count": 5,
   "id": "9b7d1f6b",
   "metadata": {},
   "outputs": [],
   "source": [
    "d = {}"
   ]
  },
  {
   "cell_type": "code",
   "execution_count": 6,
   "id": "f0abc842",
   "metadata": {},
   "outputs": [],
   "source": [
    "d[5.0] = \"Ruby\"\n",
    "d[5.5] = \"JavaScript\"\n",
    "d[5] = \"Python\"\n",
    "d[5+0j] = \"C++\""
   ]
  },
  {
   "cell_type": "code",
   "execution_count": 7,
   "id": "9059c1a0",
   "metadata": {},
   "outputs": [
    {
     "data": {
      "text/plain": [
       "'C++'"
      ]
     },
     "execution_count": 7,
     "metadata": {},
     "output_type": "execute_result"
    }
   ],
   "source": [
    "d[5.0]"
   ]
  },
  {
   "cell_type": "code",
   "execution_count": 24,
   "id": "dfcec45d",
   "metadata": {},
   "outputs": [],
   "source": [
    "def my_sum(a, b, *args, **kwargs):\n",
    "    print(a)\n",
    "    print(b)\n",
    "    print(args)\n",
    "    return a + b + sum(args)"
   ]
  },
  {
   "cell_type": "code",
   "execution_count": 25,
   "id": "f4f833f0",
   "metadata": {},
   "outputs": [
    {
     "name": "stdout",
     "output_type": "stream",
     "text": [
      "4\n",
      "5\n",
      "(6, 2, 4, 5, 1, 6, 7, 2)\n"
     ]
    },
    {
     "data": {
      "text/plain": [
       "42"
      ]
     },
     "execution_count": 25,
     "metadata": {},
     "output_type": "execute_result"
    }
   ],
   "source": [
    "my_sum(4,5,6,2,4,5,1,6,7,2, x=23, y=42)"
   ]
  },
  {
   "cell_type": "code",
   "execution_count": 36,
   "id": "58facc88",
   "metadata": {},
   "outputs": [],
   "source": [
    "def create_person(name, age, gender, **extra_info):\n",
    "    person = {\n",
    "        \"name\": name,\n",
    "        \"age\": age,\n",
    "        \"gender\": gender\n",
    "    }\n",
    "    \n",
    "    print(person)\n",
    "    \n",
    "    person.update(extra_info)\n",
    "    \n",
    "    return person"
   ]
  },
  {
   "cell_type": "code",
   "execution_count": 37,
   "id": "94f2bb54",
   "metadata": {},
   "outputs": [
    {
     "name": "stdout",
     "output_type": "stream",
     "text": [
      "{'name': 'Kuldip', 'age': 5000, 'gender': 'Male'}\n"
     ]
    },
    {
     "data": {
      "text/plain": [
       "{'name': 'Kuldip',\n",
       " 'age': 5000,\n",
       " 'gender': 'Male',\n",
       " 'language': 'python',\n",
       " 'favourite_teacher': 'Bipin'}"
      ]
     },
     "execution_count": 37,
     "metadata": {},
     "output_type": "execute_result"
    }
   ],
   "source": [
    "extra_info = {\n",
    "    \"language\": \"python\",\n",
    "    \"favourite_teacher\": \"Bipin Kalra\"\n",
    "}\n",
    "\n",
    "create_person(\"Kuldip\", 5000, \"Male\", language=\"python\", favourite_teacher=\"Bipin\")"
   ]
  },
  {
   "cell_type": "code",
   "execution_count": 41,
   "id": "55ebe76c",
   "metadata": {},
   "outputs": [],
   "source": [
    "def calculation(a,b):\n",
    "    return a+b, a-b, a/b, a*b"
   ]
  },
  {
   "cell_type": "code",
   "execution_count": 43,
   "id": "17f22cf8",
   "metadata": {},
   "outputs": [],
   "source": [
    "add, sub, *others = calculation(10,3)"
   ]
  },
  {
   "cell_type": "code",
   "execution_count": 44,
   "id": "69a12492",
   "metadata": {},
   "outputs": [
    {
     "data": {
      "text/plain": [
       "[3.3333333333333335, 30]"
      ]
     },
     "execution_count": 44,
     "metadata": {},
     "output_type": "execute_result"
    }
   ],
   "source": [
    "others"
   ]
  },
  {
   "cell_type": "code",
   "execution_count": null,
   "id": "052410b4",
   "metadata": {},
   "outputs": [],
   "source": []
  }
 ],
 "metadata": {
  "kernelspec": {
   "display_name": "Python 3 (ipykernel)",
   "language": "python",
   "name": "python3"
  },
  "language_info": {
   "codemirror_mode": {
    "name": "ipython",
    "version": 3
   },
   "file_extension": ".py",
   "mimetype": "text/x-python",
   "name": "python",
   "nbconvert_exporter": "python",
   "pygments_lexer": "ipython3",
   "version": "3.9.5"
  }
 },
 "nbformat": 4,
 "nbformat_minor": 5
}
